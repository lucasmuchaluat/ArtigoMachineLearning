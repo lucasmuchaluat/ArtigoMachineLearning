{
 "cells": [
  {
   "cell_type": "markdown",
   "metadata": {},
   "source": [
    "---\n",
    "The \"Forest Cover type\" dataset is a famous dataset with about half a million samples, in which the objective is to predict the type of trees that exist in various lands. Each row in the dataset corresponds to a small plot of land, where several geological and geographic features are listed.\n",
    "\n",
    "The file we have available offers 20000 samples from the original dataset, chosen randomly. Besides, only samples from territories 1 and 3 were kept.\n",
    "\n",
    "| #  | Column                             | Meaning |\n",
    "|--- | ------                             | ----------- |\n",
    "| 0  | Elevation                          | Elevação do terreno (m) |\n",
    "| 1  | Aspect                             | Azimute do terreno (graus) |\n",
    "| 2  | Slope                              | Inclinação do terreno (graus) |\n",
    "| 3  | Horizontal_Distance_To_Hydrology   | Distância horizontal até a característica hidrológica (lagos, rios, etc) mais próxima (m) |\n",
    "| 4  | Vertical_Distance_To_Hydrology     | Distância vertical até a característica hidrológica (lagos, rios, etc) mais próxima (m) |\n",
    "| 5  | Horizontal_Distance_To_Roadways    | Distância horizontal até rodovia mais próxima (m) |\n",
    "| 6  | Hillshade_9am                      | Indice de sombra de encosta às 9h no solstício de verão |\n",
    "| 7  | Hillshade_Noon                     | Indice de sombra de encosta ao meio-dia no solstício de verão |\n",
    "| 8  | Hillshade_3pm                      | Indice de sombra de encosta às 15h no solstício de verão |\n",
    "| 9  | Horizontal_Distance_To_Fire_Points | Distância horizontal até o ponto de queimada mais próximo (m) |\n",
    "| 10 | Cover_Type                         | Tipo de arvores (variável categórica) (esse é o nosso target) |\n",
    "| 11 | soil_type                          | Tipo de solo (variável categórica) |\n",
    "| 12 | Wilderness                         | Região de coleta dos dados (variável categórica) |\n",
    "\n",
    "O arquivo \"covtype_info.txt\" contém mais informação sobre esse dataset, incluindo as definições exatas de tipo de solo, região de coleta de dados, e tipo de árvores."
   ]
  },
  {
   "cell_type": "code",
   "execution_count": 1,
   "metadata": {},
   "outputs": [],
   "source": [
    "%matplotlib inline\n",
    "import pandas as pd\n",
    "import numpy as np\n",
    "import matplotlib.pyplot as plt\n",
    "\n",
    "from sklearn.model_selection import train_test_split\n",
    "\n",
    "from sklearn.linear_model import LogisticRegression\n",
    "\n",
    "from sklearn.metrics import accuracy_score"
   ]
  },
  {
   "cell_type": "code",
   "execution_count": 2,
   "metadata": {},
   "outputs": [],
   "source": [
    "df = pd.read_csv('dataset.csv')\n",
    "df['Cover_Type'] = df['Cover_Type'].astype('category')\n",
    "df['soil_type'] = df['soil_type'].astype('category')\n",
    "df['Wilderness'] = df['Wilderness'].astype('category')"
   ]
  },
  {
   "cell_type": "code",
   "execution_count": 3,
   "metadata": {},
   "outputs": [
    {
     "data": {
      "text/html": [
       "<div>\n",
       "<style scoped>\n",
       "    .dataframe tbody tr th:only-of-type {\n",
       "        vertical-align: middle;\n",
       "    }\n",
       "\n",
       "    .dataframe tbody tr th {\n",
       "        vertical-align: top;\n",
       "    }\n",
       "\n",
       "    .dataframe thead th {\n",
       "        text-align: right;\n",
       "    }\n",
       "</style>\n",
       "<table border=\"1\" class=\"dataframe\">\n",
       "  <thead>\n",
       "    <tr style=\"text-align: right;\">\n",
       "      <th></th>\n",
       "      <th>Elevation</th>\n",
       "      <th>Aspect</th>\n",
       "      <th>Slope</th>\n",
       "      <th>Horizontal_Distance_To_Hydrology</th>\n",
       "      <th>Vertical_Distance_To_Hydrology</th>\n",
       "      <th>Horizontal_Distance_To_Roadways</th>\n",
       "      <th>Hillshade_9am</th>\n",
       "      <th>Hillshade_Noon</th>\n",
       "      <th>Hillshade_3pm</th>\n",
       "      <th>Horizontal_Distance_To_Fire_Points</th>\n",
       "      <th>Cover_Type</th>\n",
       "      <th>soil_type</th>\n",
       "      <th>Wilderness</th>\n",
       "    </tr>\n",
       "  </thead>\n",
       "  <tbody>\n",
       "    <tr>\n",
       "      <th>0</th>\n",
       "      <td>2826</td>\n",
       "      <td>330</td>\n",
       "      <td>14</td>\n",
       "      <td>60</td>\n",
       "      <td>10</td>\n",
       "      <td>1549</td>\n",
       "      <td>187</td>\n",
       "      <td>222</td>\n",
       "      <td>175</td>\n",
       "      <td>2563</td>\n",
       "      <td>2</td>\n",
       "      <td>20</td>\n",
       "      <td>3</td>\n",
       "    </tr>\n",
       "    <tr>\n",
       "      <th>1</th>\n",
       "      <td>3283</td>\n",
       "      <td>27</td>\n",
       "      <td>3</td>\n",
       "      <td>0</td>\n",
       "      <td>0</td>\n",
       "      <td>4401</td>\n",
       "      <td>218</td>\n",
       "      <td>232</td>\n",
       "      <td>151</td>\n",
       "      <td>3653</td>\n",
       "      <td>1</td>\n",
       "      <td>23</td>\n",
       "      <td>3</td>\n",
       "    </tr>\n",
       "    <tr>\n",
       "      <th>2</th>\n",
       "      <td>2923</td>\n",
       "      <td>60</td>\n",
       "      <td>12</td>\n",
       "      <td>268</td>\n",
       "      <td>63</td>\n",
       "      <td>3555</td>\n",
       "      <td>229</td>\n",
       "      <td>215</td>\n",
       "      <td>118</td>\n",
       "      <td>5196</td>\n",
       "      <td>2</td>\n",
       "      <td>29</td>\n",
       "      <td>1</td>\n",
       "    </tr>\n",
       "  </tbody>\n",
       "</table>\n",
       "</div>"
      ],
      "text/plain": [
       "   Elevation  Aspect  Slope  Horizontal_Distance_To_Hydrology  \\\n",
       "0       2826     330     14                                60   \n",
       "1       3283      27      3                                 0   \n",
       "2       2923      60     12                               268   \n",
       "\n",
       "   Vertical_Distance_To_Hydrology  Horizontal_Distance_To_Roadways  \\\n",
       "0                              10                             1549   \n",
       "1                               0                             4401   \n",
       "2                              63                             3555   \n",
       "\n",
       "   Hillshade_9am  Hillshade_Noon  Hillshade_3pm  \\\n",
       "0            187             222            175   \n",
       "1            218             232            151   \n",
       "2            229             215            118   \n",
       "\n",
       "   Horizontal_Distance_To_Fire_Points Cover_Type soil_type Wilderness  \n",
       "0                                2563          2        20          3  \n",
       "1                                3653          1        23          3  \n",
       "2                                5196          2        29          1  "
      ]
     },
     "execution_count": 3,
     "metadata": {},
     "output_type": "execute_result"
    }
   ],
   "source": [
    "df.head(3)"
   ]
  },
  {
   "cell_type": "code",
   "execution_count": 4,
   "metadata": {},
   "outputs": [
    {
     "name": "stdout",
     "output_type": "stream",
     "text": [
      "<class 'pandas.core.frame.DataFrame'>\n",
      "RangeIndex: 20000 entries, 0 to 19999\n",
      "Data columns (total 13 columns):\n",
      " #   Column                              Non-Null Count  Dtype   \n",
      "---  ------                              --------------  -----   \n",
      " 0   Elevation                           20000 non-null  int64   \n",
      " 1   Aspect                              20000 non-null  int64   \n",
      " 2   Slope                               20000 non-null  int64   \n",
      " 3   Horizontal_Distance_To_Hydrology    20000 non-null  int64   \n",
      " 4   Vertical_Distance_To_Hydrology      20000 non-null  int64   \n",
      " 5   Horizontal_Distance_To_Roadways     20000 non-null  int64   \n",
      " 6   Hillshade_9am                       20000 non-null  int64   \n",
      " 7   Hillshade_Noon                      20000 non-null  int64   \n",
      " 8   Hillshade_3pm                       20000 non-null  int64   \n",
      " 9   Horizontal_Distance_To_Fire_Points  20000 non-null  int64   \n",
      " 10  Cover_Type                          20000 non-null  category\n",
      " 11  soil_type                           20000 non-null  category\n",
      " 12  Wilderness                          20000 non-null  category\n",
      "dtypes: category(3), int64(10)\n",
      "memory usage: 1.6 MB\n"
     ]
    }
   ],
   "source": [
    "df.info()"
   ]
  },
  {
   "cell_type": "code",
   "execution_count": 5,
   "metadata": {},
   "outputs": [
    {
     "data": {
      "text/html": [
       "<div>\n",
       "<style scoped>\n",
       "    .dataframe tbody tr th:only-of-type {\n",
       "        vertical-align: middle;\n",
       "    }\n",
       "\n",
       "    .dataframe tbody tr th {\n",
       "        vertical-align: top;\n",
       "    }\n",
       "\n",
       "    .dataframe thead th {\n",
       "        text-align: right;\n",
       "    }\n",
       "</style>\n",
       "<table border=\"1\" class=\"dataframe\">\n",
       "  <thead>\n",
       "    <tr style=\"text-align: right;\">\n",
       "      <th></th>\n",
       "      <th>count</th>\n",
       "      <th>mean</th>\n",
       "      <th>std</th>\n",
       "      <th>min</th>\n",
       "      <th>25%</th>\n",
       "      <th>50%</th>\n",
       "      <th>75%</th>\n",
       "      <th>max</th>\n",
       "    </tr>\n",
       "  </thead>\n",
       "  <tbody>\n",
       "    <tr>\n",
       "      <th>Elevation</th>\n",
       "      <td>20000.0</td>\n",
       "      <td>2990.01095</td>\n",
       "      <td>222.092373</td>\n",
       "      <td>2286.0</td>\n",
       "      <td>2845.0</td>\n",
       "      <td>3001.0</td>\n",
       "      <td>3155.0</td>\n",
       "      <td>3846.0</td>\n",
       "    </tr>\n",
       "    <tr>\n",
       "      <th>Aspect</th>\n",
       "      <td>20000.0</td>\n",
       "      <td>150.38660</td>\n",
       "      <td>110.280571</td>\n",
       "      <td>0.0</td>\n",
       "      <td>55.0</td>\n",
       "      <td>120.0</td>\n",
       "      <td>246.0</td>\n",
       "      <td>360.0</td>\n",
       "    </tr>\n",
       "    <tr>\n",
       "      <th>Slope</th>\n",
       "      <td>20000.0</td>\n",
       "      <td>13.57140</td>\n",
       "      <td>7.048431</td>\n",
       "      <td>0.0</td>\n",
       "      <td>8.0</td>\n",
       "      <td>13.0</td>\n",
       "      <td>18.0</td>\n",
       "      <td>50.0</td>\n",
       "    </tr>\n",
       "    <tr>\n",
       "      <th>Horizontal_Distance_To_Hydrology</th>\n",
       "      <td>20000.0</td>\n",
       "      <td>274.02080</td>\n",
       "      <td>217.941151</td>\n",
       "      <td>0.0</td>\n",
       "      <td>108.0</td>\n",
       "      <td>228.0</td>\n",
       "      <td>391.0</td>\n",
       "      <td>1371.0</td>\n",
       "    </tr>\n",
       "    <tr>\n",
       "      <th>Vertical_Distance_To_Hydrology</th>\n",
       "      <td>20000.0</td>\n",
       "      <td>45.68340</td>\n",
       "      <td>58.822985</td>\n",
       "      <td>-153.0</td>\n",
       "      <td>6.0</td>\n",
       "      <td>28.0</td>\n",
       "      <td>67.0</td>\n",
       "      <td>595.0</td>\n",
       "    </tr>\n",
       "    <tr>\n",
       "      <th>Horizontal_Distance_To_Roadways</th>\n",
       "      <td>20000.0</td>\n",
       "      <td>2540.88885</td>\n",
       "      <td>1545.080692</td>\n",
       "      <td>0.0</td>\n",
       "      <td>1308.0</td>\n",
       "      <td>2250.0</td>\n",
       "      <td>3548.0</td>\n",
       "      <td>7063.0</td>\n",
       "    </tr>\n",
       "    <tr>\n",
       "      <th>Hillshade_9am</th>\n",
       "      <td>20000.0</td>\n",
       "      <td>213.88320</td>\n",
       "      <td>24.622174</td>\n",
       "      <td>79.0</td>\n",
       "      <td>201.0</td>\n",
       "      <td>219.0</td>\n",
       "      <td>232.0</td>\n",
       "      <td>254.0</td>\n",
       "    </tr>\n",
       "    <tr>\n",
       "      <th>Hillshade_Noon</th>\n",
       "      <td>20000.0</td>\n",
       "      <td>224.01065</td>\n",
       "      <td>18.740213</td>\n",
       "      <td>95.0</td>\n",
       "      <td>213.0</td>\n",
       "      <td>226.0</td>\n",
       "      <td>237.0</td>\n",
       "      <td>254.0</td>\n",
       "    </tr>\n",
       "    <tr>\n",
       "      <th>Hillshade_3pm</th>\n",
       "      <td>20000.0</td>\n",
       "      <td>141.66810</td>\n",
       "      <td>36.566896</td>\n",
       "      <td>0.0</td>\n",
       "      <td>119.0</td>\n",
       "      <td>142.0</td>\n",
       "      <td>166.0</td>\n",
       "      <td>251.0</td>\n",
       "    </tr>\n",
       "    <tr>\n",
       "      <th>Horizontal_Distance_To_Fire_Points</th>\n",
       "      <td>20000.0</td>\n",
       "      <td>2066.96250</td>\n",
       "      <td>1330.040270</td>\n",
       "      <td>0.0</td>\n",
       "      <td>1131.0</td>\n",
       "      <td>1809.0</td>\n",
       "      <td>2609.0</td>\n",
       "      <td>7089.0</td>\n",
       "    </tr>\n",
       "  </tbody>\n",
       "</table>\n",
       "</div>"
      ],
      "text/plain": [
       "                                      count        mean          std     min  \\\n",
       "Elevation                           20000.0  2990.01095   222.092373  2286.0   \n",
       "Aspect                              20000.0   150.38660   110.280571     0.0   \n",
       "Slope                               20000.0    13.57140     7.048431     0.0   \n",
       "Horizontal_Distance_To_Hydrology    20000.0   274.02080   217.941151     0.0   \n",
       "Vertical_Distance_To_Hydrology      20000.0    45.68340    58.822985  -153.0   \n",
       "Horizontal_Distance_To_Roadways     20000.0  2540.88885  1545.080692     0.0   \n",
       "Hillshade_9am                       20000.0   213.88320    24.622174    79.0   \n",
       "Hillshade_Noon                      20000.0   224.01065    18.740213    95.0   \n",
       "Hillshade_3pm                       20000.0   141.66810    36.566896     0.0   \n",
       "Horizontal_Distance_To_Fire_Points  20000.0  2066.96250  1330.040270     0.0   \n",
       "\n",
       "                                       25%     50%     75%     max  \n",
       "Elevation                           2845.0  3001.0  3155.0  3846.0  \n",
       "Aspect                                55.0   120.0   246.0   360.0  \n",
       "Slope                                  8.0    13.0    18.0    50.0  \n",
       "Horizontal_Distance_To_Hydrology     108.0   228.0   391.0  1371.0  \n",
       "Vertical_Distance_To_Hydrology         6.0    28.0    67.0   595.0  \n",
       "Horizontal_Distance_To_Roadways     1308.0  2250.0  3548.0  7063.0  \n",
       "Hillshade_9am                        201.0   219.0   232.0   254.0  \n",
       "Hillshade_Noon                       213.0   226.0   237.0   254.0  \n",
       "Hillshade_3pm                        119.0   142.0   166.0   251.0  \n",
       "Horizontal_Distance_To_Fire_Points  1131.0  1809.0  2609.0  7089.0  "
      ]
     },
     "execution_count": 5,
     "metadata": {},
     "output_type": "execute_result"
    }
   ],
   "source": [
    "df.describe().transpose()"
   ]
  },
  {
   "cell_type": "code",
   "execution_count": 6,
   "metadata": {},
   "outputs": [
    {
     "data": {
      "text/plain": [
       "2    10400\n",
       "1     7618\n",
       "7      710\n",
       "3      583\n",
       "5      370\n",
       "6      319\n",
       "Name: Cover_Type, dtype: int64"
      ]
     },
     "execution_count": 6,
     "metadata": {},
     "output_type": "execute_result"
    }
   ],
   "source": [
    "df['Cover_Type'].value_counts()"
   ]
  },
  {
   "cell_type": "code",
   "execution_count": 7,
   "metadata": {},
   "outputs": [
    {
     "data": {
      "text/html": [
       "<div>\n",
       "<style scoped>\n",
       "    .dataframe tbody tr th:only-of-type {\n",
       "        vertical-align: middle;\n",
       "    }\n",
       "\n",
       "    .dataframe tbody tr th {\n",
       "        vertical-align: top;\n",
       "    }\n",
       "\n",
       "    .dataframe thead th {\n",
       "        text-align: right;\n",
       "    }\n",
       "</style>\n",
       "<table border=\"1\" class=\"dataframe\">\n",
       "  <thead>\n",
       "    <tr style=\"text-align: right;\">\n",
       "      <th></th>\n",
       "      <th>Elevation</th>\n",
       "      <th>Aspect</th>\n",
       "      <th>Slope</th>\n",
       "      <th>Horizontal_Distance_To_Hydrology</th>\n",
       "      <th>Vertical_Distance_To_Hydrology</th>\n",
       "      <th>Horizontal_Distance_To_Roadways</th>\n",
       "      <th>Hillshade_9am</th>\n",
       "      <th>Hillshade_Noon</th>\n",
       "      <th>Hillshade_3pm</th>\n",
       "      <th>Horizontal_Distance_To_Fire_Points</th>\n",
       "      <th>Cover_Type</th>\n",
       "      <th>soil_type</th>\n",
       "      <th>Wilderness</th>\n",
       "    </tr>\n",
       "  </thead>\n",
       "  <tbody>\n",
       "  </tbody>\n",
       "</table>\n",
       "</div>"
      ],
      "text/plain": [
       "Empty DataFrame\n",
       "Columns: [Elevation, Aspect, Slope, Horizontal_Distance_To_Hydrology, Vertical_Distance_To_Hydrology, Horizontal_Distance_To_Roadways, Hillshade_9am, Hillshade_Noon, Hillshade_3pm, Horizontal_Distance_To_Fire_Points, Cover_Type, soil_type, Wilderness]\n",
       "Index: []"
      ]
     },
     "execution_count": 7,
     "metadata": {},
     "output_type": "execute_result"
    }
   ],
   "source": [
    "df[df.isnull().any(axis=1)].head()"
   ]
  },
  {
   "cell_type": "markdown",
   "metadata": {},
   "source": [
    "Type 2 cover corresponds to \"lodgepole pine\" type trees. Our task is to build a classifier that detects whether a land will be covered by this type of tree or not.\n",
    "\n",
    "To do this, we must reclassify the trees as lodgepole pine or not lodgepole pine, as follows:"
   ]
  },
  {
   "cell_type": "code",
   "execution_count": 8,
   "metadata": {},
   "outputs": [
    {
     "data": {
      "text/plain": [
       "1    10400\n",
       "0     9600\n",
       "Name: Cover_Type, dtype: int64"
      ]
     },
     "execution_count": 8,
     "metadata": {},
     "output_type": "execute_result"
    }
   ],
   "source": [
    "df[\"Cover_Type\"] = (df[\"Cover_Type\"] == 2).astype(int)\n",
    "df[\"Cover_Type\"].value_counts()"
   ]
  },
  {
   "cell_type": "code",
   "execution_count": 9,
   "metadata": {},
   "outputs": [
    {
     "name": "stdout",
     "output_type": "stream",
     "text": [
      "16000 train + 4000 test\n"
     ]
    }
   ],
   "source": [
    "train_set, test_set = train_test_split(df, test_size=0.2, random_state=42)\n",
    "print(\"{} train + {} test\".format(len(train_set), len(test_set)))"
   ]
  },
  {
   "cell_type": "code",
   "execution_count": 10,
   "metadata": {},
   "outputs": [],
   "source": [
    "X_train = train_set.drop(columns=[\"Cover_Type\"])\n",
    "y_train = train_set[\"Cover_Type\"]\n",
    "\n",
    "X_test = test_set.drop(columns=[\"Cover_Type\"])\n",
    "y_test = test_set[\"Cover_Type\"]"
   ]
  },
  {
   "cell_type": "code",
   "execution_count": 11,
   "metadata": {},
   "outputs": [
    {
     "name": "stdout",
     "output_type": "stream",
     "text": [
      "Predição: [0 1 0 1 1 0 0 0 0 0]\n",
      "Original: [1 0 1 1 0 1 0 0 0 0]\n"
     ]
    },
    {
     "data": {
      "text/plain": [
       "0.6995"
      ]
     },
     "execution_count": 11,
     "metadata": {},
     "output_type": "execute_result"
    }
   ],
   "source": [
    "log_reg = LogisticRegression(max_iter=10000, random_state=42)\n",
    "\n",
    "log_reg.fit(X_train, y_train)\n",
    "\n",
    "some_data = X_train.iloc[:10]\n",
    "some_valid = y_train.iloc[:10]\n",
    "\n",
    "pred_data = log_reg.predict(some_data)\n",
    "print(\"Predição: {}\".format(pred_data))\n",
    "\n",
    "# Compare com os valores originais:\n",
    "print(\"Original: {}\".format(some_valid.values))\n",
    "\n",
    "y_test_pred = log_reg.predict(X_test)\n",
    "accuracy_score(y_test, y_test_pred)"
   ]
  },
  {
   "cell_type": "markdown",
   "metadata": {},
   "source": [
    "Slope and aspect variables are currently measured in degrees. Let's try to change it to radians. "
   ]
  },
  {
   "cell_type": "code",
   "execution_count": 12,
   "metadata": {},
   "outputs": [
    {
     "name": "stdout",
     "output_type": "stream",
     "text": [
      "Predição: [0 1 0 1 1 0 0 0 0 0]\n",
      "Original: [1 0 1 1 0 1 0 0 0 0]\n"
     ]
    },
    {
     "data": {
      "text/plain": [
       "0.6995"
      ]
     },
     "execution_count": 12,
     "metadata": {},
     "output_type": "execute_result"
    }
   ],
   "source": [
    "def degree_to_rad(df):\n",
    "    df['Aspect'] = df['Aspect'] * (np.pi/180)\n",
    "    df['Slope'] = df['Slope'] * (np.pi/180)\n",
    "    \n",
    "df_radians = df.copy()\n",
    "degree_to_rad(df_radians)\n",
    "train_set_rad, test_set_rad = train_test_split(df_radians, test_size=0.2, random_state=42)\n",
    "\n",
    "X_train_rad = train_set.drop(columns=[\"Cover_Type\"])\n",
    "y_train_rad = train_set[\"Cover_Type\"]\n",
    "\n",
    "X_test_rad = test_set.drop(columns=[\"Cover_Type\"])\n",
    "y_test_rad = test_set[\"Cover_Type\"]\n",
    "\n",
    "log_reg_rad = LogisticRegression(max_iter=10000, random_state=42)\n",
    "\n",
    "log_reg_rad.fit(X_train_rad, y_train_rad)\n",
    "\n",
    "some_data_rad = X_train_rad.iloc[:10]\n",
    "some_valid_rad = y_train_rad.iloc[:10]\n",
    "\n",
    "pred_data_rad = log_reg_rad.predict(some_data_rad)\n",
    "print(\"Predição: {}\".format(pred_data_rad))\n",
    "\n",
    "# Compare com os valores originais:\n",
    "print(\"Original: {}\".format(some_valid_rad.values))\n",
    "\n",
    "y_test_pred_rad = log_reg_rad.predict(X_test_rad)\n",
    "accuracy_score(y_test_rad, y_test_pred_rad)"
   ]
  }
 ],
 "metadata": {
  "kernelspec": {
   "display_name": "Python 3",
   "language": "python",
   "name": "python3"
  },
  "language_info": {
   "codemirror_mode": {
    "name": "ipython",
    "version": 3
   },
   "file_extension": ".py",
   "mimetype": "text/x-python",
   "name": "python",
   "nbconvert_exporter": "python",
   "pygments_lexer": "ipython3",
   "version": "3.8.4"
  }
 },
 "nbformat": 4,
 "nbformat_minor": 4
}
