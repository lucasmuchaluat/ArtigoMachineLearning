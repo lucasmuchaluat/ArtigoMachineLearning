{
 "cells": [
  {
   "cell_type": "markdown",
   "metadata": {},
   "source": [
    "# Desafio - Beaver / Rogerio\n",
    "\n",
    "Em anexo está um arquivo que contém várias linhas de texto extraídas de matrículas de imóveis usando um OCR. Ao final de cada parágrafo/cláusula, eu inseri um marcador (\"<--split-->\"). O que eu queria que você fizesse era tentar criar um modelo que estimasse a probabilidade de uma linha ser a última do parágrafo (e portanto quando que este marcador deveria aparecer). Sugiro que você separe o arquivo em dois pedaços, um que você vai usar para treinar o modelo, e outro para testá-lo.<br /><br />\n",
    "Você pode usar as ferramentas que quiser, mas acredito que usando apenas pandas e regressão logística você já consiga fazer alguma coisa. Não se preocupe em tentar usar ferramentas mais sofisticadas de NLP. Você vai precisar construir os parâmetros que vai passar para o modelo.<br /><br />\n",
    "\n",
    "## Informações do Projeto\n",
    "\n",
    "Inicialmente optei por utilizar algo relacionado ao Teorema de Bayes, mais especificamente o Classificador Naive-Bayes, que é largamente utilizado em filtros anti-spam de e-mails. O classificador permite calcular qual a probabilidade de uma mensagem/frase ser relevante em função das palavras em seu conteúdo.<br /><br />\n",
    "Para realizar o MVP (*minimum viable product*) do projeto, implementei uma versão do classificador que \"aprende\" o que é relevante com uma base de treinamento e compara a performance dos resultados com uma base de testes.<br /><br />\n",
    "Após validado, o protótipo poderá também capturar e classificar automaticamente as frases de parágrafos e cláusulas da plataforma.\n",
    "\n",
    "Algumas leituras realizadas:<br />\n",
    "* https://monkeylearn.com/blog/practical-explanation-naive-bayes-classifier/\n",
    "* http://citeseerx.ist.psu.edu/viewdoc/download?doi=10.1.1.65.9324&rep=rep1&type=pdf\n",
    "* http://minerandodados.com.br/index.php/2018/04/04/spotify-svm-python/ (menos relevante)"
   ]
  },
  {
   "cell_type": "markdown",
   "metadata": {},
   "source": [
    "___\n",
    "## Montando o Classificador Naive-Bayes\n",
    "\n",
    "Com a base de treinamento montada, comecei a desenvolver o classificador, implementando, inclusive, o Laplace Smoothing."
   ]
  },
  {
   "cell_type": "code",
   "execution_count": 1,
   "metadata": {},
   "outputs": [],
   "source": [
    "#importando bibliotecas\n",
    "%matplotlib inline\n",
    "import pandas as pd\n",
    "import numpy as np\n",
    "import math as math\n",
    "from scipy import stats\n",
    "import matplotlib\n",
    "import matplotlib.pyplot as plt\n",
    "\n",
    "RANDOM_SEED = 42 #retornar sempre a mesma amostra aleatoria, para fins de teste\n",
    "\n",
    "np.random.seed(RANDOM_SEED)"
   ]
  },
  {
   "cell_type": "code",
   "execution_count": 2,
   "metadata": {
    "scrolled": false
   },
   "outputs": [
    {
     "data": {
      "text/html": [
       "<div>\n",
       "<style scoped>\n",
       "    .dataframe tbody tr th:only-of-type {\n",
       "        vertical-align: middle;\n",
       "    }\n",
       "\n",
       "    .dataframe tbody tr th {\n",
       "        vertical-align: top;\n",
       "    }\n",
       "\n",
       "    .dataframe thead th {\n",
       "        text-align: right;\n",
       "    }\n",
       "</style>\n",
       "<table border=\"1\" class=\"dataframe\">\n",
       "  <thead>\n",
       "    <tr style=\"text-align: right;\">\n",
       "      <th></th>\n",
       "      <th>0</th>\n",
       "    </tr>\n",
       "  </thead>\n",
       "  <tbody>\n",
       "    <tr>\n",
       "      <th>0</th>\n",
       "      <td>M. 96.079 - A UNIDADE 03, de alvenaria, do Con...</td>\n",
       "    </tr>\n",
       "    <tr>\n",
       "      <th>1</th>\n",
       "      <td>Vista, sob nº 230 da rua Getúlio Celso Nunes, ...</td>\n",
       "    </tr>\n",
       "    <tr>\n",
       "      <th>2</th>\n",
       "      <td>para a direita de quem da referida rua olhar o...</td>\n",
       "    </tr>\n",
       "    <tr>\n",
       "      <th>3</th>\n",
       "      <td>pátio, sala, cozinha, área de serviço, circula...</td>\n",
       "    </tr>\n",
       "    <tr>\n",
       "      <th>4</th>\n",
       "      <td>dormitórios; com área real privativa e total c...</td>\n",
       "    </tr>\n",
       "    <tr>\n",
       "      <th>...</th>\n",
       "      <td>...</td>\n",
       "    </tr>\n",
       "    <tr>\n",
       "      <th>2934</th>\n",
       "      <td>Selo de Fiscalização Eletrônico Nº ECPR 95022 ...</td>\n",
       "    </tr>\n",
       "    <tr>\n",
       "      <th>2935</th>\n",
       "      <td>fé . Aux. Resp. 00 - ficlay. ARTHON. CARLOS. M...</td>\n",
       "    </tr>\n",
       "    <tr>\n",
       "      <th>2936</th>\n",
       "      <td>Carlos Fernando dos Santos - Substituto</td>\n",
       "    </tr>\n",
       "    <tr>\n",
       "      <th>2937</th>\n",
       "      <td>() Luiz Eduardo Carvalho da Silva - Substituto</td>\n",
       "    </tr>\n",
       "    <tr>\n",
       "      <th>2938</th>\n",
       "      <td>&lt;--split--&gt;</td>\n",
       "    </tr>\n",
       "  </tbody>\n",
       "</table>\n",
       "<p>2939 rows × 1 columns</p>\n",
       "</div>"
      ],
      "text/plain": [
       "                                                      0\n",
       "0     M. 96.079 - A UNIDADE 03, de alvenaria, do Con...\n",
       "1     Vista, sob nº 230 da rua Getúlio Celso Nunes, ...\n",
       "2     para a direita de quem da referida rua olhar o...\n",
       "3     pátio, sala, cozinha, área de serviço, circula...\n",
       "4     dormitórios; com área real privativa e total c...\n",
       "...                                                 ...\n",
       "2934  Selo de Fiscalização Eletrônico Nº ECPR 95022 ...\n",
       "2935  fé . Aux. Resp. 00 - ficlay. ARTHON. CARLOS. M...\n",
       "2936            Carlos Fernando dos Santos - Substituto\n",
       "2937     () Luiz Eduardo Carvalho da Silva - Substituto\n",
       "2938                                        <--split-->\n",
       "\n",
       "[2939 rows x 1 columns]"
      ]
     },
     "execution_count": 2,
     "metadata": {},
     "output_type": "execute_result"
    }
   ],
   "source": [
    "#Leitura do arquivo linhas.txt \n",
    "linhas = pd.read_fwf('linhas.txt', header = None, encoding = \"utf_8\")\n",
    "# linhas = pd.read_table('linhas.txt', header = None)8\n",
    "linhas"
   ]
  },
  {
   "cell_type": "code",
   "execution_count": 3,
   "metadata": {},
   "outputs": [
    {
     "data": {
      "text/html": [
       "<div>\n",
       "<style scoped>\n",
       "    .dataframe tbody tr th:only-of-type {\n",
       "        vertical-align: middle;\n",
       "    }\n",
       "\n",
       "    .dataframe tbody tr th {\n",
       "        vertical-align: top;\n",
       "    }\n",
       "\n",
       "    .dataframe thead th {\n",
       "        text-align: right;\n",
       "    }\n",
       "</style>\n",
       "<table border=\"1\" class=\"dataframe\">\n",
       "  <thead>\n",
       "    <tr style=\"text-align: right;\">\n",
       "      <th></th>\n",
       "      <th>Linhas</th>\n",
       "    </tr>\n",
       "  </thead>\n",
       "  <tbody>\n",
       "    <tr>\n",
       "      <th>0</th>\n",
       "      <td>M. 96.079 - A UNIDADE 03, de alvenaria, do Con...</td>\n",
       "    </tr>\n",
       "    <tr>\n",
       "      <th>1</th>\n",
       "      <td>Vista, sob nº 230 da rua Getúlio Celso Nunes, ...</td>\n",
       "    </tr>\n",
       "    <tr>\n",
       "      <th>2</th>\n",
       "      <td>para a direita de quem da referida rua olhar o...</td>\n",
       "    </tr>\n",
       "    <tr>\n",
       "      <th>3</th>\n",
       "      <td>pátio, sala, cozinha, área de serviço, circula...</td>\n",
       "    </tr>\n",
       "    <tr>\n",
       "      <th>4</th>\n",
       "      <td>dormitórios; com área real privativa e total c...</td>\n",
       "    </tr>\n",
       "  </tbody>\n",
       "</table>\n",
       "</div>"
      ],
      "text/plain": [
       "                                              Linhas\n",
       "0  M. 96.079 - A UNIDADE 03, de alvenaria, do Con...\n",
       "1  Vista, sob nº 230 da rua Getúlio Celso Nunes, ...\n",
       "2  para a direita de quem da referida rua olhar o...\n",
       "3  pátio, sala, cozinha, área de serviço, circula...\n",
       "4  dormitórios; com área real privativa e total c..."
      ]
     },
     "execution_count": 3,
     "metadata": {},
     "output_type": "execute_result"
    }
   ],
   "source": [
    "#alterando nome da coluna para facilitar o entendimento\n",
    "linhas.rename(columns={linhas.columns[-1]:'Linhas'}, inplace=True)\n",
    "linhas.head()"
   ]
  },
  {
   "cell_type": "markdown",
   "metadata": {},
   "source": [
    "Com o dataframe limpo e sem bugs, pensei, inicialmente, em analisar se a linha acabava com uma pontuação. Porém, ao ler o arquivo texto mais a fundo, notei que nem sempre uma cláusula/parágrafo acabava com pontuações. \n",
    "Portanto, o modelo deveria se basear nas palavras e como estão estruturadas (letras maiúsculas e minúsculas, frequência, etc).\n",
    "\n",
    "Frequência de palavras (principal fonte de treinamento do modelo): \n",
    "* Mais frequentes no final de uma cláusula/parágrafo (PARTE 1)<br />\n",
    "* Mais frequentes no começo de uma cláusula/parágrafo (PARTE 2)\n",
    "\n",
    "Letras maiúsculas e minúsculas (indiretamente acoplada na análise das palavras dos itens acima):\n",
    "* Estado das letras das palavras do começo de uma cláusula/parágrafo.<br />\n",
    "* Estado das letras das palavras do final de uma cláusula/parágrafo. (PELO \"OLHÔMETRO\", NÃO IDENTIFIQUEI NENHUMA RELAÇÃO)"
   ]
  },
  {
   "cell_type": "markdown",
   "metadata": {},
   "source": [
    "## Scikit-Learn\n",
    "\n",
    "Já que a principal biblioteca para Machine Learning em Python chama-se Scikit-Learn, ou de modo abreviado `sklearn`, e com esta biblioteca podemos construir modelos de aprendizado de máquina bem sofisticados, exceto para *deep learning*, onde outras bibliotecas são usadas (e.g. Keras, Theano, TensorFlow), decidi fazer o uso dessa biblioteca para classificação de frases via Naive Bayes.\n",
    "\n",
    "Caso nunca tenha usado `sklearn` na sua máquina, só instalar com o comando:\n",
    "\n",
    "```conda install scikit-learn```\n",
    "\n",
    "Informações retiradas de http://scikit-learn.org/stable/"
   ]
  },
  {
   "cell_type": "markdown",
   "metadata": {},
   "source": [
    "### Parte 1 - Mais frequentes no FINAL de uma cláusula/parágrafo.\n",
    "___"
   ]
  },
  {
   "cell_type": "markdown",
   "metadata": {},
   "source": [
    "Antes de começar a montar o classificador, serão necessárias 2 colunas: uma destinada à classificação e outra destinada ao conteúdo:"
   ]
  },
  {
   "cell_type": "code",
   "execution_count": 4,
   "metadata": {},
   "outputs": [
    {
     "data": {
      "text/html": [
       "<div>\n",
       "<style scoped>\n",
       "    .dataframe tbody tr th:only-of-type {\n",
       "        vertical-align: middle;\n",
       "    }\n",
       "\n",
       "    .dataframe tbody tr th {\n",
       "        vertical-align: top;\n",
       "    }\n",
       "\n",
       "    .dataframe thead th {\n",
       "        text-align: right;\n",
       "    }\n",
       "</style>\n",
       "<table border=\"1\" class=\"dataframe\">\n",
       "  <thead>\n",
       "    <tr style=\"text-align: right;\">\n",
       "      <th></th>\n",
       "      <th>Linhas</th>\n",
       "      <th>Classificação</th>\n",
       "    </tr>\n",
       "  </thead>\n",
       "  <tbody>\n",
       "    <tr>\n",
       "      <th>0</th>\n",
       "      <td>M. 96.079 - A UNIDADE 03, de alvenaria, do Con...</td>\n",
       "      <td>Não</td>\n",
       "    </tr>\n",
       "    <tr>\n",
       "      <th>1</th>\n",
       "      <td>Vista, sob nº 230 da rua Getúlio Celso Nunes, ...</td>\n",
       "      <td>Não</td>\n",
       "    </tr>\n",
       "    <tr>\n",
       "      <th>2</th>\n",
       "      <td>para a direita de quem da referida rua olhar o...</td>\n",
       "      <td>Não</td>\n",
       "    </tr>\n",
       "    <tr>\n",
       "      <th>3</th>\n",
       "      <td>pátio, sala, cozinha, área de serviço, circula...</td>\n",
       "      <td>Não</td>\n",
       "    </tr>\n",
       "    <tr>\n",
       "      <th>4</th>\n",
       "      <td>dormitórios; com área real privativa e total c...</td>\n",
       "      <td>Não</td>\n",
       "    </tr>\n",
       "  </tbody>\n",
       "</table>\n",
       "</div>"
      ],
      "text/plain": [
       "                                              Linhas Classificação\n",
       "0  M. 96.079 - A UNIDADE 03, de alvenaria, do Con...           Não\n",
       "1  Vista, sob nº 230 da rua Getúlio Celso Nunes, ...           Não\n",
       "2  para a direita de quem da referida rua olhar o...           Não\n",
       "3  pátio, sala, cozinha, área de serviço, circula...           Não\n",
       "4  dormitórios; com área real privativa e total c...           Não"
      ]
     },
     "execution_count": 4,
     "metadata": {},
     "output_type": "execute_result"
    }
   ],
   "source": [
    "#criando coluna a respeito da classificação das frases: SIM (caso seja a última) e NÃO (caso contrário)\n",
    "linhas[\"Classificação\"] = \"NaN\"\n",
    "for e in range(1,len(linhas)):\n",
    "    if linhas.iloc[e][\"Linhas\"] == \"<--split-->\":\n",
    "        linhas[\"Classificação\"][e-1] = \"Sim\"\n",
    "    else:\n",
    "        linhas[\"Classificação\"][e-1] = \"Não\"\n",
    "linhas.head()"
   ]
  },
  {
   "cell_type": "markdown",
   "metadata": {},
   "source": [
    "Além de uma coluna de classificação, para que o Scikit Learn funcione, serão necessários 2 DataFrames: o que será usado para treinamento e o que será usado para teste. Assim, dividi as 2939 rows que temos em 3, ficando 2/3 (1960) para treinamento e 1/3 (979) para testes.\n",
    "\n",
    "O `sklearn` já tem uma função para:\n",
    "\n",
    "- Embaralhar as amostras de exemplo, e\n",
    "- Separar os conjuntos de treinamento e teste."
   ]
  },
  {
   "cell_type": "code",
   "execution_count": 5,
   "metadata": {},
   "outputs": [],
   "source": [
    "from sklearn.model_selection import train_test_split\n",
    "linhas_1 = linhas[(linhas[\"Linhas\"]!=\"<--split-->\")]\n",
    "X_train_1, X_test_1, y_train_1, y_test_1 = train_test_split(linhas_1[\"Linhas\"], linhas_1[\"Classificação\"], test_size=0.33, random_state=RANDOM_SEED)"
   ]
  },
  {
   "cell_type": "markdown",
   "metadata": {},
   "source": [
    "Construindo um classificador Naive-Bayes e treinando-o com o conjunto de treinamento:"
   ]
  },
  {
   "cell_type": "code",
   "execution_count": 6,
   "metadata": {},
   "outputs": [
    {
     "data": {
      "text/plain": [
       "Pipeline(steps=[('vectorizer', CountVectorizer()),\n",
       "                ('classifier', MultinomialNB())])"
      ]
     },
     "execution_count": 6,
     "metadata": {},
     "output_type": "execute_result"
    }
   ],
   "source": [
    "from sklearn.feature_extraction.text import CountVectorizer\n",
    "from sklearn.metrics import accuracy_score\n",
    "from sklearn.naive_bayes import MultinomialNB\n",
    "from sklearn.pipeline import Pipeline\n",
    "\n",
    "# Cria modelo.\n",
    "model_1 = Pipeline([\n",
    "    (\"vectorizer\", CountVectorizer()),\n",
    "    (\"classifier\", MultinomialNB())\n",
    "])\n",
    "\n",
    "# Treina modelo.\n",
    "model_1.fit(X_train_1, y_train_1)"
   ]
  },
  {
   "cell_type": "markdown",
   "metadata": {},
   "source": [
    "Testando a acurácia do modelo:"
   ]
  },
  {
   "cell_type": "code",
   "execution_count": 7,
   "metadata": {},
   "outputs": [
    {
     "name": "stdout",
     "output_type": "stream",
     "text": [
      "Acurácia: 0.9338478500551268\n"
     ]
    }
   ],
   "source": [
    "# Testando modelo.\n",
    "y_pred_1 = model_1.predict(X_test_1)\n",
    "\n",
    "# Calculando acurácia.\n",
    "acc_1 = accuracy_score(y_test_1, y_pred_1)\n",
    "\n",
    "print(\"Acurácia: {}\".format(acc_1))"
   ]
  },
  {
   "cell_type": "markdown",
   "metadata": {},
   "source": [
    "### Parte 2 - Mais frequentes no COMEÇO de uma cláusula/parágrafo.\n",
    "___"
   ]
  },
  {
   "cell_type": "code",
   "execution_count": 8,
   "metadata": {},
   "outputs": [
    {
     "data": {
      "text/html": [
       "<div>\n",
       "<style scoped>\n",
       "    .dataframe tbody tr th:only-of-type {\n",
       "        vertical-align: middle;\n",
       "    }\n",
       "\n",
       "    .dataframe tbody tr th {\n",
       "        vertical-align: top;\n",
       "    }\n",
       "\n",
       "    .dataframe thead th {\n",
       "        text-align: right;\n",
       "    }\n",
       "</style>\n",
       "<table border=\"1\" class=\"dataframe\">\n",
       "  <thead>\n",
       "    <tr style=\"text-align: right;\">\n",
       "      <th></th>\n",
       "      <th>Linhas</th>\n",
       "      <th>Classificação</th>\n",
       "    </tr>\n",
       "  </thead>\n",
       "  <tbody>\n",
       "    <tr>\n",
       "      <th>0</th>\n",
       "      <td>M. 96.079 - A UNIDADE 03, de alvenaria, do Con...</td>\n",
       "      <td>Sim</td>\n",
       "    </tr>\n",
       "    <tr>\n",
       "      <th>1</th>\n",
       "      <td>Vista, sob nº 230 da rua Getúlio Celso Nunes, ...</td>\n",
       "      <td>Não</td>\n",
       "    </tr>\n",
       "    <tr>\n",
       "      <th>2</th>\n",
       "      <td>para a direita de quem da referida rua olhar o...</td>\n",
       "      <td>Não</td>\n",
       "    </tr>\n",
       "    <tr>\n",
       "      <th>3</th>\n",
       "      <td>pátio, sala, cozinha, área de serviço, circula...</td>\n",
       "      <td>Não</td>\n",
       "    </tr>\n",
       "    <tr>\n",
       "      <th>4</th>\n",
       "      <td>dormitórios; com área real privativa e total c...</td>\n",
       "      <td>Não</td>\n",
       "    </tr>\n",
       "  </tbody>\n",
       "</table>\n",
       "</div>"
      ],
      "text/plain": [
       "                                              Linhas Classificação\n",
       "0  M. 96.079 - A UNIDADE 03, de alvenaria, do Con...           Sim\n",
       "1  Vista, sob nº 230 da rua Getúlio Celso Nunes, ...           Não\n",
       "2  para a direita de quem da referida rua olhar o...           Não\n",
       "3  pátio, sala, cozinha, área de serviço, circula...           Não\n",
       "4  dormitórios; com área real privativa e total c...           Não"
      ]
     },
     "execution_count": 8,
     "metadata": {},
     "output_type": "execute_result"
    }
   ],
   "source": [
    "#criando coluna a respeito da classificação das frases: SIM (caso seja a primeira) e NÃO (caso contrário)\n",
    "linhas[\"Classificação\"] = \"NaN\"\n",
    "for e in range(-1,len(linhas)):\n",
    "    if linhas.iloc[e][\"Linhas\"] == \"<--split-->\":\n",
    "        linhas[\"Classificação\"][e+1] = \"Sim\"\n",
    "    else:\n",
    "        linhas[\"Classificação\"][e+1] = \"Não\"\n",
    "linhas.head()"
   ]
  },
  {
   "cell_type": "code",
   "execution_count": 9,
   "metadata": {},
   "outputs": [],
   "source": [
    "#separando amostras de treinamento e teste\n",
    "linhas_2 = linhas[(linhas[\"Linhas\"]!=\"<--split-->\")]\n",
    "X_train_2, X_test_2, y_train_2, y_test_2 = train_test_split(linhas_2[\"Linhas\"], linhas_2[\"Classificação\"], test_size=0.33, random_state=RANDOM_SEED)"
   ]
  },
  {
   "cell_type": "code",
   "execution_count": 10,
   "metadata": {},
   "outputs": [
    {
     "data": {
      "text/plain": [
       "Pipeline(steps=[('vectorizer', CountVectorizer()),\n",
       "                ('classifier', MultinomialNB())])"
      ]
     },
     "execution_count": 10,
     "metadata": {},
     "output_type": "execute_result"
    }
   ],
   "source": [
    "# Cria modelo.\n",
    "model_2 = Pipeline([\n",
    "    (\"vectorizer\", CountVectorizer()),\n",
    "    (\"classifier\", MultinomialNB())\n",
    "])\n",
    "\n",
    "# Treina modelo.\n",
    "model_2.fit(X_train_2, y_train_2)"
   ]
  },
  {
   "cell_type": "code",
   "execution_count": 11,
   "metadata": {},
   "outputs": [
    {
     "name": "stdout",
     "output_type": "stream",
     "text": [
      "Acurácia: 0.9636163175303197\n"
     ]
    }
   ],
   "source": [
    "# Testando modelo.\n",
    "y_pred_2 = model_2.predict(X_test_2)\n",
    "\n",
    "# Calculando acurácia.\n",
    "acc_2 = accuracy_score(y_test_2, y_pred_2)\n",
    "\n",
    "print(\"Acurácia: {}\".format(acc_2))"
   ]
  },
  {
   "cell_type": "markdown",
   "metadata": {},
   "source": [
    "### Visto a alta acurácia obtida no treinamento de ambos os modelos acima, podemos mesclar ambos para testar novas frases de uma cláusula/parágrafo:\n",
    "\n",
    "Dado os seguinte parágrafos, onde entrariam o marcador `<--split-->`?\n",
    "\n",
    "`0`M. 96.079 - A UNIDADE 03, de alvenaria, do Condomínio Residencial Boa<br />\n",
    "`1`Vista, sob nº 230 da rua Getúlio Celso Nunes, a terceira da esquerda <br />\n",
    "`2`para a direita de quem da referida rua olhar o conjunto, composta de: <br />\n",
    "`3`pátio, sala, cozinha, área de serviço, circulação, banho e dois <br />\n",
    "`4`dormitórios; com área real privativa e total construída de 51,42m2, <br />\n",
    "`5`correspondendo - lhe a ' fração ideal de 0,201442 no terreno e nas demais <br />\n",
    "`6`coisas de uso comum e fim proveitoso do condomínio. A esta unidade <br />\n",
    "`7`corresponde um terreno privativo constituido de parte dos lotes 01 e <br />\n",
    "`8`06, com a área superficial de 81,60m2, medindo 6,8 Om de frente ao Sul, <br />\n",
    "`9`à rua Getúlio Celso Nunes; nos fundos ao Norte com a mesma largura da <br />\n",
    "`10`frente entesta com parte dos lotes 02 e 05; por 12,00m de extensão da <br />\n",
    "`11`frente aos fundos em ambos os lados, dividindo - se por um lado ao Oeste <br />\n",
    "`12`com o terreno da Unidade 02 e pelo outro lado ao Leste divide - se com <br />\n",
    "`13`o terreno da Unidade 04, distante 16,60m da esquina com a Travessa <br />\n",
    "`14`o terreno sobre o qual está edificado o condomínio constituí - se dos <br />\n",
    "`15`lotes 01 e 06 da quadra 12, com a área superficial de 480,00m, <br />\n",
    "`16`situado no loteamento denominado JARDIM TIMBAÚVA, neste município, <br />\n",
    "`17`medindo 12,00m de frente a Oeste à Travessa Final, nos fundos a Leste <br />\n",
    "`18`com a mesma largura da frente entesta com a Travessa Verde, com a qual <br />\n",
    "`19`tambérn faz frente, por 40,00m de extensão da frente ao fundo em ambos. <br />\n",
    "`20`os lados, dividindo - se por um lado ao Sul com a rua Getúlio Celso <br />\n",
    "`21`Nunes, com a qual também faz frente e forma esquina e pelo outro lado <br />\n",
    "`22`ao Norte divide - se com os lotes 02 e 05. Quarteirão: rua Getúlio Celso <br />\n",
    "`23`Nunes, Travessa Final, Travessa Verde e terras que são ou foram de <br />\n",
    "`24`João Deres Ortiz. Origem: matricula nº 90.720 de 03.02.2013. <br />\n",
    "`25`Proprietária: HOFFMANN & BORGES CONSTRUÇÕES LTDA, inscrita no WNPJ nº <br />\n",
    "`26`12.933.936/0001-54, com sede na rua Brito Peixoto, n° 2do, Bairro <br />\n",
    "`27`Neópolis, em Gravataí / RS.<br />\n",
    "`28`COMPRA E VENDA: Instrumento particular firmado em 06.01.2014 <br />\n",
    "`29`TRANSMITENTE: HOFFMANN & BORGES CONSTRUÇÕES LTDA, já qualificada. <br />\n",
    "`30`ADQUIRENTE: PAULA MARA FRIEDRICH, brasileira, solteira, maior, gerente <br />\n",
    "`31`de compras, inscrita no CPF n° 812.072.390-20, não matriculada no INSS <br />\n",
    "`32`como empregadora, residente e domiciliada na rua Luiz Linck Barcelos, <br />\n",
    "`33`n° 45, bairro Jardim Timbaúva, em Gravataí / RS. <br />\n",
    "`34`VALOR: R$ 128.000,00 <br />\n",
    "\n",
    "`RESPOSTA`: DEPOIS DAS ROWS 27 E 34 / ANTES DAS ROWS 28 E 35"
   ]
  },
  {
   "cell_type": "code",
   "execution_count": 12,
   "metadata": {},
   "outputs": [
    {
     "name": "stdout",
     "output_type": "stream",
     "text": [
      "[]\n"
     ]
    }
   ],
   "source": [
    "paragrafo_teste = linhas.iloc[0:35]\n",
    "PosicaoMarcador = []\n",
    "for e in range(1,len(paragrafo_teste)):\n",
    "    if model_1.predict([paragrafo_teste.iloc[e-1][\"Linhas\"]]) == \"Sim\" and model_2.predict([paragrafo_teste.iloc[e][\"Linhas\"]]) == \"Sim\":\n",
    "        PosicaoMarcador.append(\"depois da row de numero {}\".format(e-1))\n",
    "        \n",
    "print(PosicaoMarcador)"
   ]
  },
  {
   "cell_type": "code",
   "execution_count": 13,
   "metadata": {},
   "outputs": [
    {
     "data": {
      "text/plain": [
       "array(['Não'], dtype='<U3')"
      ]
     },
     "execution_count": 13,
     "metadata": {},
     "output_type": "execute_result"
    }
   ],
   "source": [
    "model_1.predict([\"Neópolis, em Gravataí / RS.\"])"
   ]
  },
  {
   "cell_type": "code",
   "execution_count": 14,
   "metadata": {},
   "outputs": [
    {
     "data": {
      "text/plain": [
       "array(['Não'], dtype='<U3')"
      ]
     },
     "execution_count": 14,
     "metadata": {},
     "output_type": "execute_result"
    }
   ],
   "source": [
    "model_2.predict([\"COMPRA E VENDA: Instrumento particular firmado em 06.01.2014 \"])"
   ]
  },
  {
   "cell_type": "markdown",
   "metadata": {},
   "source": [
    "### Ao testar o modelo, percebi que, apesar de sua acurácia muito alta, ele não estava eficaz o suficiente e uma possível explicação para isso seria a alta quantidade de \"Não\" em relação a \"Sim\" no modelo, tornando a base de treinamento \"enviesada\". Dessa maneira, optei por criar amostras aleatórias de tamanhos iguais para os dois tipos de classificação da base de dados."
   ]
  },
  {
   "cell_type": "markdown",
   "metadata": {},
   "source": [
    "___\n",
    "### Refazendo Parte 1 para eliminar o  viés"
   ]
  },
  {
   "cell_type": "code",
   "execution_count": 15,
   "metadata": {},
   "outputs": [],
   "source": [
    "#criando coluna a respeito da classificação das frases: SIM (caso seja a última) e NÃO (caso contrário)\n",
    "linhas[\"Classificação\"] = \"NaN\"\n",
    "for e in range(1,len(linhas)):\n",
    "    if linhas.iloc[e][\"Linhas\"] == \"<--split-->\":\n",
    "        linhas[\"Classificação\"][e-1] = \"Sim\"\n",
    "    else:\n",
    "        linhas[\"Classificação\"][e-1] = \"Não\"\n",
    "linhas_1_SemSplit = linhas[(linhas[\"Linhas\"]!=\"<--split-->\")]"
   ]
  },
  {
   "cell_type": "markdown",
   "metadata": {},
   "source": [
    "Separando o dataframe classficado antes do treinamento em dois (sim e não):"
   ]
  },
  {
   "cell_type": "code",
   "execution_count": 16,
   "metadata": {},
   "outputs": [
    {
     "name": "stdout",
     "output_type": "stream",
     "text": [
      "(193, 2) (2553, 2)\n"
     ]
    }
   ],
   "source": [
    "#separando dataframes por classificação\n",
    "linhas_sim_1 = linhas_1_SemSplit[(linhas_1_SemSplit[\"Classificação\"]==\"Sim\")]\n",
    "linhas_nao_1 = linhas_1_SemSplit[(linhas_1_SemSplit[\"Classificação\"]==\"Não\")]\n",
    "print(linhas_sim_1.shape, linhas_nao_1.shape)"
   ]
  },
  {
   "cell_type": "markdown",
   "metadata": {},
   "source": [
    "Acima dá para perceber claramente a diferença grotesca no tamanho de dados referentes a cada classificação (193 \"Sim\" VS 2553 \"Não\"). Portanto, diminuirei aleatoriamente a amostra de \"Não\" para que fique do tamanho da de \"Sim\"."
   ]
  },
  {
   "cell_type": "code",
   "execution_count": 17,
   "metadata": {},
   "outputs": [
    {
     "data": {
      "text/plain": [
       "(193, 2)"
      ]
     },
     "execution_count": 17,
     "metadata": {},
     "output_type": "execute_result"
    }
   ],
   "source": [
    "#diminuindo amostra de \"Não\" aleatoriamente\n",
    "linhas_nao_1_random = linhas_nao_1.sample(frac = len(linhas_sim_1)/len(linhas_nao_1), random_state=RANDOM_SEED)\n",
    "linhas_nao_1_random.shape"
   ]
  },
  {
   "cell_type": "markdown",
   "metadata": {},
   "source": [
    "Com a amostra de \"Não\" reduzida aleatoriamente para o tamanho de \"Sim\", podemos juntar os dois para criar a base de dados que alimentará o treinamento do modelo:"
   ]
  },
  {
   "cell_type": "code",
   "execution_count": 18,
   "metadata": {},
   "outputs": [
    {
     "data": {
      "text/html": [
       "<div>\n",
       "<style scoped>\n",
       "    .dataframe tbody tr th:only-of-type {\n",
       "        vertical-align: middle;\n",
       "    }\n",
       "\n",
       "    .dataframe tbody tr th {\n",
       "        vertical-align: top;\n",
       "    }\n",
       "\n",
       "    .dataframe thead th {\n",
       "        text-align: right;\n",
       "    }\n",
       "</style>\n",
       "<table border=\"1\" class=\"dataframe\">\n",
       "  <thead>\n",
       "    <tr style=\"text-align: right;\">\n",
       "      <th></th>\n",
       "      <th>Linhas</th>\n",
       "      <th>Classificação</th>\n",
       "    </tr>\n",
       "  </thead>\n",
       "  <tbody>\n",
       "    <tr>\n",
       "      <th>27</th>\n",
       "      <td>Neópolis, em Gravataí / RS.</td>\n",
       "      <td>Sim</td>\n",
       "    </tr>\n",
       "    <tr>\n",
       "      <th>35</th>\n",
       "      <td>VALOR: R$ 128.000,00</td>\n",
       "      <td>Sim</td>\n",
       "    </tr>\n",
       "    <tr>\n",
       "      <th>40</th>\n",
       "      <td>Protocolo n° 287.246 de 14.01.2014.</td>\n",
       "      <td>Sim</td>\n",
       "    </tr>\n",
       "    <tr>\n",
       "      <th>44</th>\n",
       "      <td>mesma, no valor de R$ 100.000,00.</td>\n",
       "      <td>Sim</td>\n",
       "    </tr>\n",
       "    <tr>\n",
       "      <th>49</th>\n",
       "      <td>recolhimento do imposto de transmissão.</td>\n",
       "      <td>Sim</td>\n",
       "    </tr>\n",
       "  </tbody>\n",
       "</table>\n",
       "</div>"
      ],
      "text/plain": [
       "                                     Linhas Classificação\n",
       "27              Neópolis, em Gravataí / RS.           Sim\n",
       "35                     VALOR: R$ 128.000,00           Sim\n",
       "40      Protocolo n° 287.246 de 14.01.2014.           Sim\n",
       "44        mesma, no valor de R$ 100.000,00.           Sim\n",
       "49  recolhimento do imposto de transmissão.           Sim"
      ]
     },
     "execution_count": 18,
     "metadata": {},
     "output_type": "execute_result"
    }
   ],
   "source": [
    "#juntando as amostras de \"Sim\" e \"Não\"\n",
    "linhas_SemVies_1 = linhas_sim_1.append(linhas_nao_1_random)\n",
    "linhas_SemVies_1.head()"
   ]
  },
  {
   "cell_type": "code",
   "execution_count": 19,
   "metadata": {},
   "outputs": [
    {
     "data": {
      "text/html": [
       "<div>\n",
       "<style scoped>\n",
       "    .dataframe tbody tr th:only-of-type {\n",
       "        vertical-align: middle;\n",
       "    }\n",
       "\n",
       "    .dataframe tbody tr th {\n",
       "        vertical-align: top;\n",
       "    }\n",
       "\n",
       "    .dataframe thead th {\n",
       "        text-align: right;\n",
       "    }\n",
       "</style>\n",
       "<table border=\"1\" class=\"dataframe\">\n",
       "  <thead>\n",
       "    <tr style=\"text-align: right;\">\n",
       "      <th></th>\n",
       "      <th>Linhas</th>\n",
       "      <th>Classificação</th>\n",
       "    </tr>\n",
       "  </thead>\n",
       "  <tbody>\n",
       "    <tr>\n",
       "      <th>162</th>\n",
       "      <td>domiciliado na Rua Virginia V. Masotti, nº C25...</td>\n",
       "      <td>Não</td>\n",
       "    </tr>\n",
       "    <tr>\n",
       "      <th>2824</th>\n",
       "      <td>cônjuge SHEILA DOS SANTOS TAVARES, nacionalida...</td>\n",
       "      <td>Não</td>\n",
       "    </tr>\n",
       "    <tr>\n",
       "      <th>1259</th>\n",
       "      <td>hoje se archivajo de Janeiro, 22 de Agosto de ...</td>\n",
       "      <td>Sim</td>\n",
       "    </tr>\n",
       "    <tr>\n",
       "      <th>496</th>\n",
       "      <td>HENRIQUE FRAGA ANTUNES DE SOUZA, brasileiro, s...</td>\n",
       "      <td>Não</td>\n",
       "    </tr>\n",
       "    <tr>\n",
       "      <th>2195</th>\n",
       "      <td>Aleluia, Oficial Substituta. Eu, Clerilda Lima...</td>\n",
       "      <td>Sim</td>\n",
       "    </tr>\n",
       "  </tbody>\n",
       "</table>\n",
       "</div>"
      ],
      "text/plain": [
       "                                                 Linhas Classificação\n",
       "162   domiciliado na Rua Virginia V. Masotti, nº C25...           Não\n",
       "2824  cônjuge SHEILA DOS SANTOS TAVARES, nacionalida...           Não\n",
       "1259  hoje se archivajo de Janeiro, 22 de Agosto de ...           Sim\n",
       "496   HENRIQUE FRAGA ANTUNES DE SOUZA, brasileiro, s...           Não\n",
       "2195  Aleluia, Oficial Substituta. Eu, Clerilda Lima...           Sim"
      ]
     },
     "execution_count": 19,
     "metadata": {},
     "output_type": "execute_result"
    }
   ],
   "source": [
    "#embaralhando aleatoriamente a base de dados\n",
    "linhas_1_random = linhas_SemVies_1.sample(frac = 1, random_state=RANDOM_SEED)\n",
    "linhas_1_random.head()"
   ]
  },
  {
   "cell_type": "markdown",
   "metadata": {},
   "source": [
    "Tendo a base de dados enviesada e embaralhada, posso iniciar o treinamento do modelo:"
   ]
  },
  {
   "cell_type": "code",
   "execution_count": 20,
   "metadata": {},
   "outputs": [],
   "source": [
    "#separando a base de dados aleatória e sem viés em treinamento e teste\n",
    "X_train_1_SemVies, X_test_1_SemVies, y_train_1_SemVies, y_test_1_SemVies = train_test_split(linhas_1_random[\"Linhas\"], linhas_1_random[\"Classificação\"], test_size=0.33, random_state=RANDOM_SEED)"
   ]
  },
  {
   "cell_type": "code",
   "execution_count": 21,
   "metadata": {},
   "outputs": [
    {
     "data": {
      "text/plain": [
       "Pipeline(steps=[('vectorizer', CountVectorizer()),\n",
       "                ('classifier', MultinomialNB())])"
      ]
     },
     "execution_count": 21,
     "metadata": {},
     "output_type": "execute_result"
    }
   ],
   "source": [
    "# Cria modelo.\n",
    "model_1_SemVies = Pipeline([\n",
    "    (\"vectorizer\", CountVectorizer()),\n",
    "    (\"classifier\", MultinomialNB())\n",
    "])\n",
    "\n",
    "# Treina modelo.\n",
    "model_1_SemVies.fit(X_train_1_SemVies, y_train_1_SemVies)"
   ]
  },
  {
   "cell_type": "code",
   "execution_count": 22,
   "metadata": {},
   "outputs": [
    {
     "name": "stdout",
     "output_type": "stream",
     "text": [
      "Acurácia: 0.8203125\n"
     ]
    }
   ],
   "source": [
    "# Testando modelo.\n",
    "y_pred_1_SemVies = model_1_SemVies.predict(X_test_1_SemVies)\n",
    "\n",
    "# Calculando acurácia.\n",
    "acc_1_SemVies = accuracy_score(y_test_1_SemVies, y_pred_1_SemVies)\n",
    "\n",
    "print(\"Acurácia: {}\".format(acc_1_SemVies))"
   ]
  },
  {
   "cell_type": "markdown",
   "metadata": {},
   "source": [
    "___\n",
    "### Refazendo Parte 2 para eliminar o viés"
   ]
  },
  {
   "cell_type": "code",
   "execution_count": 23,
   "metadata": {},
   "outputs": [],
   "source": [
    "#criando coluna a respeito da classificação das frases: SIM (caso seja a primeira) e NÃO (caso contrário)\n",
    "linhas[\"Classificação\"] = \"NaN\"\n",
    "for e in range(-1,len(linhas)):\n",
    "    if linhas.iloc[e][\"Linhas\"] == \"<--split-->\":\n",
    "        linhas[\"Classificação\"][e+1] = \"Sim\"\n",
    "    else:\n",
    "        linhas[\"Classificação\"][e+1] = \"Não\"\n",
    "linhas_2_SemSplit = linhas[(linhas[\"Linhas\"]!=\"<--split-->\")]"
   ]
  },
  {
   "cell_type": "code",
   "execution_count": 24,
   "metadata": {},
   "outputs": [
    {
     "name": "stdout",
     "output_type": "stream",
     "text": [
      "(193, 2) (2553, 2)\n"
     ]
    }
   ],
   "source": [
    "#separando dataframes por classificação\n",
    "linhas_sim_2 = linhas_2_SemSplit[(linhas_2_SemSplit[\"Classificação\"]==\"Sim\")]\n",
    "linhas_nao_2 = linhas_2_SemSplit[(linhas_2_SemSplit[\"Classificação\"]==\"Não\")]\n",
    "print(linhas_sim_2.shape, linhas_nao_2.shape)"
   ]
  },
  {
   "cell_type": "code",
   "execution_count": 25,
   "metadata": {},
   "outputs": [
    {
     "data": {
      "text/plain": [
       "(193, 2)"
      ]
     },
     "execution_count": 25,
     "metadata": {},
     "output_type": "execute_result"
    }
   ],
   "source": [
    "#diminuindo amostra de \"Não\" aleatoriamente\n",
    "linhas_nao_2_random = linhas_nao_2.sample(frac = len(linhas_sim_2)/len(linhas_nao_2), random_state=RANDOM_SEED)\n",
    "linhas_nao_2_random.shape"
   ]
  },
  {
   "cell_type": "code",
   "execution_count": 26,
   "metadata": {},
   "outputs": [
    {
     "data": {
      "text/html": [
       "<div>\n",
       "<style scoped>\n",
       "    .dataframe tbody tr th:only-of-type {\n",
       "        vertical-align: middle;\n",
       "    }\n",
       "\n",
       "    .dataframe tbody tr th {\n",
       "        vertical-align: top;\n",
       "    }\n",
       "\n",
       "    .dataframe thead th {\n",
       "        text-align: right;\n",
       "    }\n",
       "</style>\n",
       "<table border=\"1\" class=\"dataframe\">\n",
       "  <thead>\n",
       "    <tr style=\"text-align: right;\">\n",
       "      <th></th>\n",
       "      <th>Linhas</th>\n",
       "      <th>Classificação</th>\n",
       "    </tr>\n",
       "  </thead>\n",
       "  <tbody>\n",
       "    <tr>\n",
       "      <th>0</th>\n",
       "      <td>M. 96.079 - A UNIDADE 03, de alvenaria, do Con...</td>\n",
       "      <td>Sim</td>\n",
       "    </tr>\n",
       "    <tr>\n",
       "      <th>29</th>\n",
       "      <td>COMPRA E VENDA: Instrumento particular firmado...</td>\n",
       "      <td>Sim</td>\n",
       "    </tr>\n",
       "    <tr>\n",
       "      <th>37</th>\n",
       "      <td>CÉDULA DE CRÉDITO IMOBILIÁRIO INTEGRAL: Foi em...</td>\n",
       "      <td>Sim</td>\n",
       "    </tr>\n",
       "    <tr>\n",
       "      <th>42</th>\n",
       "      <td>Av. 4/96.079 - Conforme campo 11 da cédula ant...</td>\n",
       "      <td>Sim</td>\n",
       "    </tr>\n",
       "    <tr>\n",
       "      <th>46</th>\n",
       "      <td>CONSOLIDACÃO DA PROPRIEDADE: Requerimento firm...</td>\n",
       "      <td>Sim</td>\n",
       "    </tr>\n",
       "  </tbody>\n",
       "</table>\n",
       "</div>"
      ],
      "text/plain": [
       "                                               Linhas Classificação\n",
       "0   M. 96.079 - A UNIDADE 03, de alvenaria, do Con...           Sim\n",
       "29  COMPRA E VENDA: Instrumento particular firmado...           Sim\n",
       "37  CÉDULA DE CRÉDITO IMOBILIÁRIO INTEGRAL: Foi em...           Sim\n",
       "42  Av. 4/96.079 - Conforme campo 11 da cédula ant...           Sim\n",
       "46  CONSOLIDACÃO DA PROPRIEDADE: Requerimento firm...           Sim"
      ]
     },
     "execution_count": 26,
     "metadata": {},
     "output_type": "execute_result"
    }
   ],
   "source": [
    "#juntando as amostras de \"Sim\" e \"Não\"\n",
    "linhas_SemVies_2 = linhas_sim_2.append(linhas_nao_2_random)\n",
    "linhas_SemVies_2.head()"
   ]
  },
  {
   "cell_type": "code",
   "execution_count": 27,
   "metadata": {},
   "outputs": [
    {
     "data": {
      "text/html": [
       "<div>\n",
       "<style scoped>\n",
       "    .dataframe tbody tr th:only-of-type {\n",
       "        vertical-align: middle;\n",
       "    }\n",
       "\n",
       "    .dataframe tbody tr th {\n",
       "        vertical-align: top;\n",
       "    }\n",
       "\n",
       "    .dataframe thead th {\n",
       "        text-align: right;\n",
       "    }\n",
       "</style>\n",
       "<table border=\"1\" class=\"dataframe\">\n",
       "  <thead>\n",
       "    <tr style=\"text-align: right;\">\n",
       "      <th></th>\n",
       "      <th>Linhas</th>\n",
       "      <th>Classificação</th>\n",
       "    </tr>\n",
       "  </thead>\n",
       "  <tbody>\n",
       "    <tr>\n",
       "      <th>163</th>\n",
       "      <td>nesta cidade.</td>\n",
       "      <td>Não</td>\n",
       "    </tr>\n",
       "    <tr>\n",
       "      <th>2825</th>\n",
       "      <td>nascida em 28/11/1961, administradora, portado...</td>\n",
       "      <td>Não</td>\n",
       "    </tr>\n",
       "    <tr>\n",
       "      <th>1256</th>\n",
       "      <td>AV - 9 M 45.874 - CANCELAMENTO DE CHI5 Fica ca...</td>\n",
       "      <td>Sim</td>\n",
       "    </tr>\n",
       "    <tr>\n",
       "      <th>497</th>\n",
       "      <td>portador da carteira de identidade nº 19490208...</td>\n",
       "      <td>Não</td>\n",
       "    </tr>\n",
       "    <tr>\n",
       "      <th>2183</th>\n",
       "      <td>Data: 30 de Abril de 2009. IMOVEL: Lote de ter...</td>\n",
       "      <td>Sim</td>\n",
       "    </tr>\n",
       "  </tbody>\n",
       "</table>\n",
       "</div>"
      ],
      "text/plain": [
       "                                                 Linhas Classificação\n",
       "163                                       nesta cidade.           Não\n",
       "2825  nascida em 28/11/1961, administradora, portado...           Não\n",
       "1256  AV - 9 M 45.874 - CANCELAMENTO DE CHI5 Fica ca...           Sim\n",
       "497   portador da carteira de identidade nº 19490208...           Não\n",
       "2183  Data: 30 de Abril de 2009. IMOVEL: Lote de ter...           Sim"
      ]
     },
     "execution_count": 27,
     "metadata": {},
     "output_type": "execute_result"
    }
   ],
   "source": [
    "#embaralhando aleatoriamente a base de dados\n",
    "linhas_2_random = linhas_SemVies_2.sample(frac = 1, random_state=RANDOM_SEED)\n",
    "linhas_2_random.head()"
   ]
  },
  {
   "cell_type": "code",
   "execution_count": 28,
   "metadata": {},
   "outputs": [],
   "source": [
    "#separando a base de dados inviezada e aleatória em 2\n",
    "from sklearn.model_selection import train_test_split\n",
    "X_train_2_SemVies, X_test_2_SemVies, y_train_2_SemVies, y_test_2_SemVies = train_test_split(linhas_2_random[\"Linhas\"], linhas_2_random[\"Classificação\"], test_size=0.33, random_state=RANDOM_SEED)"
   ]
  },
  {
   "cell_type": "code",
   "execution_count": 29,
   "metadata": {},
   "outputs": [
    {
     "data": {
      "text/plain": [
       "Pipeline(steps=[('vectorizer', CountVectorizer()),\n",
       "                ('classifier', MultinomialNB())])"
      ]
     },
     "execution_count": 29,
     "metadata": {},
     "output_type": "execute_result"
    }
   ],
   "source": [
    "# Cria modelo.\n",
    "model_2_SemVies = Pipeline([\n",
    "    (\"vectorizer\", CountVectorizer()),\n",
    "    (\"classifier\", MultinomialNB())\n",
    "])\n",
    "\n",
    "# Treina modelo.\n",
    "model_2_SemVies.fit(X_train_2_SemVies, y_train_2_SemVies)"
   ]
  },
  {
   "cell_type": "code",
   "execution_count": 30,
   "metadata": {},
   "outputs": [
    {
     "name": "stdout",
     "output_type": "stream",
     "text": [
      "Acurácia: 0.765625\n"
     ]
    }
   ],
   "source": [
    "# Testando modelo.\n",
    "y_pred_2_SemVies = model_2_SemVies.predict(X_test_2_SemVies)\n",
    "\n",
    "# Calculando acurácia.\n",
    "acc_2_SemVies = accuracy_score(y_test_2_SemVies, y_pred_2_SemVies)\n",
    "\n",
    "print(\"Acurácia: {}\".format(acc_2_SemVies))"
   ]
  },
  {
   "cell_type": "markdown",
   "metadata": {},
   "source": [
    "___\n",
    "Com as acurácias obtidas a partir dos 4 modelos, podemos concluir algumas coisas:\n",
    "* Apesar da acurácia do modelo ter diminuido, ela perdeu seu viés, tornando o modelo mais real;\n",
    "* Permite conclusões mais apuradas sobre o modelo;\n",
    "* Há menos chances de chutar sempre \"Não\" para qualquer linha."
   ]
  },
  {
   "cell_type": "code",
   "execution_count": 31,
   "metadata": {},
   "outputs": [
    {
     "name": "stdout",
     "output_type": "stream",
     "text": [
      "['depois da row de numero 22', 'depois da row de numero 26', 'depois da row de numero 27']\n"
     ]
    }
   ],
   "source": [
    "#TESTANDO PARA AMBOS OS MODELOS SEM VIÉS TRABALHANDO SIMULTANEAMENTE\n",
    "paragrafo_teste = linhas.iloc[0:35]\n",
    "PosicaoMarcador = []\n",
    "for e in range(0,len(paragrafo_teste)):\n",
    "    if model_1_SemVies.predict([paragrafo_teste.iloc[e][\"Linhas\"]]) == \"Sim\" and model_2_SemVies.predict([paragrafo_teste.iloc[e+1][\"Linhas\"]]) == \"Sim\":\n",
    "        PosicaoMarcador.append(\"depois da row de numero {}\".format(e-1))\n",
    "        \n",
    "print(PosicaoMarcador)"
   ]
  },
  {
   "cell_type": "code",
   "execution_count": 32,
   "metadata": {},
   "outputs": [
    {
     "data": {
      "text/plain": [
       "array(['Sim'], dtype='<U3')"
      ]
     },
     "execution_count": 32,
     "metadata": {},
     "output_type": "execute_result"
    }
   ],
   "source": [
    "#TESTANDO PARA LINHA FINAL INDIVIDUALMENTE\n",
    "model_1_SemVies.predict([\"Neópolis, em Gravataí / RS.\"])"
   ]
  },
  {
   "cell_type": "code",
   "execution_count": 33,
   "metadata": {},
   "outputs": [
    {
     "data": {
      "text/plain": [
       "array(['Sim'], dtype='<U3')"
      ]
     },
     "execution_count": 33,
     "metadata": {},
     "output_type": "execute_result"
    }
   ],
   "source": [
    "#TESTANDO PARA LINHA INICIAL INDIVIDUALMENTE\n",
    "model_2_SemVies.predict([\"M. 96.079 - A UNIDADE 03, de alvenaria, do Condomínio Residencial Boa\"])"
   ]
  },
  {
   "cell_type": "code",
   "execution_count": 34,
   "metadata": {},
   "outputs": [
    {
     "name": "stdout",
     "output_type": "stream",
     "text": [
      "['depois da row de numero 23', 'depois da row de numero 24', 'depois da row de numero 27', 'depois da row de numero 28']\n"
     ]
    }
   ],
   "source": [
    "#TESTANDO PARA O MODELO DA LINHA DO FINAL DO PARÁGRAFO INDIVIDUALMENTE\n",
    "paragrafo_teste = linhas.iloc[0:35]\n",
    "PosicaoMarcador = []\n",
    "for e in range(0,len(paragrafo_teste)):\n",
    "    if model_1_SemVies.predict([paragrafo_teste.iloc[e][\"Linhas\"]]) == \"Sim\":\n",
    "        PosicaoMarcador.append(\"depois da row de numero {}\".format(e))\n",
    "        \n",
    "print(PosicaoMarcador)"
   ]
  },
  {
   "cell_type": "code",
   "execution_count": 35,
   "metadata": {},
   "outputs": [
    {
     "name": "stdout",
     "output_type": "stream",
     "text": [
      "['antes da row de numero 0', 'antes da row de numero 23', 'antes da row de numero 24', 'antes da row de numero 28', 'antes da row de numero 29', 'antes da row de numero 30', 'antes da row de numero 31']\n"
     ]
    }
   ],
   "source": [
    "#TESTANDO PARA O MODELO DA LINHA DO COMEÇO DO PARÁGRAFO INDIVIDUALMENTE\n",
    "paragrafo_teste = linhas.iloc[0:35]\n",
    "PosicaoMarcador = []\n",
    "for e in range(0,len(paragrafo_teste)):\n",
    "    if model_2_SemVies.predict([paragrafo_teste.iloc[e][\"Linhas\"]]) == \"Sim\":\n",
    "        PosicaoMarcador.append(\"antes da row de numero {}\".format(e))\n",
    "        \n",
    "print(PosicaoMarcador)"
   ]
  },
  {
   "cell_type": "markdown",
   "metadata": {},
   "source": [
    "Agora que vi que os dois modelos pararam de retornar somente chutes aleatórios de \"Não\" podemos descobrir a verdadeira acurácia de um modelo que utiliza a classificação de linhas de parágrafos/cláusulas usando ambos os métodos. Ou seja, vamos refazer o teste novamente aplicando os dois modelos (últimas e primeiras linhas) simultâneamente e testar novamente sua acurácia. Para refazer os testes:\n",
    "\n",
    "* Mantive a coluna \"Classificação\" (Sim para linhas finais de parágrafo e Não para o contrário);\n",
    "* Criei uma coluna \"Teste\" para meu modelo determinar quais linhas serão ou não as últimas das cláusulas."
   ]
  },
  {
   "cell_type": "code",
   "execution_count": 36,
   "metadata": {},
   "outputs": [],
   "source": [
    "linhas = pd.read_fwf('linhas.txt', header = None, encoding = \"utf_8\")\n",
    "linhas.rename(columns={linhas.columns[-1]:'Linhas'}, inplace=True)\n",
    "linhas[\"Classificação\"] = \"NaN\"\n",
    "for e in range(1,len(linhas)):\n",
    "    if linhas.iloc[e][\"Linhas\"] == \"<--split-->\":\n",
    "        linhas[\"Classificação\"][e-1] = \"Sim\"\n",
    "    else:\n",
    "        linhas[\"Classificação\"][e-1] = \"Não\""
   ]
  },
  {
   "cell_type": "code",
   "execution_count": 37,
   "metadata": {},
   "outputs": [
    {
     "data": {
      "text/html": [
       "<div>\n",
       "<style scoped>\n",
       "    .dataframe tbody tr th:only-of-type {\n",
       "        vertical-align: middle;\n",
       "    }\n",
       "\n",
       "    .dataframe tbody tr th {\n",
       "        vertical-align: top;\n",
       "    }\n",
       "\n",
       "    .dataframe thead th {\n",
       "        text-align: right;\n",
       "    }\n",
       "</style>\n",
       "<table border=\"1\" class=\"dataframe\">\n",
       "  <thead>\n",
       "    <tr style=\"text-align: right;\">\n",
       "      <th></th>\n",
       "      <th>Linhas</th>\n",
       "      <th>Classificação</th>\n",
       "      <th>Teste</th>\n",
       "    </tr>\n",
       "  </thead>\n",
       "  <tbody>\n",
       "    <tr>\n",
       "      <th>0</th>\n",
       "      <td>M. 96.079 - A UNIDADE 03, de alvenaria, do Con...</td>\n",
       "      <td>Não</td>\n",
       "      <td>Não</td>\n",
       "    </tr>\n",
       "    <tr>\n",
       "      <th>1</th>\n",
       "      <td>Vista, sob nº 230 da rua Getúlio Celso Nunes, ...</td>\n",
       "      <td>Não</td>\n",
       "      <td>Não</td>\n",
       "    </tr>\n",
       "    <tr>\n",
       "      <th>2</th>\n",
       "      <td>para a direita de quem da referida rua olhar o...</td>\n",
       "      <td>Não</td>\n",
       "      <td>Não</td>\n",
       "    </tr>\n",
       "    <tr>\n",
       "      <th>3</th>\n",
       "      <td>pátio, sala, cozinha, área de serviço, circula...</td>\n",
       "      <td>Não</td>\n",
       "      <td>Não</td>\n",
       "    </tr>\n",
       "    <tr>\n",
       "      <th>4</th>\n",
       "      <td>dormitórios; com área real privativa e total c...</td>\n",
       "      <td>Não</td>\n",
       "      <td>Não</td>\n",
       "    </tr>\n",
       "  </tbody>\n",
       "</table>\n",
       "</div>"
      ],
      "text/plain": [
       "                                              Linhas Classificação Teste\n",
       "0  M. 96.079 - A UNIDADE 03, de alvenaria, do Con...           Não   Não\n",
       "1  Vista, sob nº 230 da rua Getúlio Celso Nunes, ...           Não   Não\n",
       "2  para a direita de quem da referida rua olhar o...           Não   Não\n",
       "3  pátio, sala, cozinha, área de serviço, circula...           Não   Não\n",
       "4  dormitórios; com área real privativa e total c...           Não   Não"
      ]
     },
     "execution_count": 37,
     "metadata": {},
     "output_type": "execute_result"
    }
   ],
   "source": [
    "linhas[\"Teste\"] = \"NaN\"\n",
    "for e in range(0,len(linhas)-1):\n",
    "    if model_1_SemVies.predict([linhas.iloc[e][\"Linhas\"]]) == \"Sim\" and model_2_SemVies.predict([linhas.iloc[e+1][\"Linhas\"]]) == \"Sim\":\n",
    "        linhas[\"Teste\"][e] = \"Sim\"\n",
    "    else:\n",
    "        linhas[\"Teste\"][e] = \"Não\"\n",
    "linhas.head()"
   ]
  },
  {
   "cell_type": "markdown",
   "metadata": {},
   "source": [
    "Com as colunas \"Classificação\" (real) e \"Teste\" (meu modelo):\n",
    "* Para manter um padrão de comparação, separei apenas as linhas usadas no teste da PARTE 1 SEM VIÉS\n",
    "* Obtive a quantidade de matches\n",
    "* Com os \"matches\" quantificados, calculei a acurácia do meu modelo (matches/total)"
   ]
  },
  {
   "cell_type": "code",
   "execution_count": 38,
   "metadata": {},
   "outputs": [
    {
     "data": {
      "text/plain": [
       "2034    Não\n",
       "375     Não\n",
       "2663    Não\n",
       "1177    Não\n",
       "2480    Não\n",
       "Name: Classificação, dtype: object"
      ]
     },
     "execution_count": 38,
     "metadata": {},
     "output_type": "execute_result"
    }
   ],
   "source": [
    "#analisando quais rows correspondiam ao teste da parte 1 sem viés\n",
    "y_test_1_SemVies.head()"
   ]
  },
  {
   "cell_type": "code",
   "execution_count": 39,
   "metadata": {},
   "outputs": [
    {
     "data": {
      "text/html": [
       "<div>\n",
       "<style scoped>\n",
       "    .dataframe tbody tr th:only-of-type {\n",
       "        vertical-align: middle;\n",
       "    }\n",
       "\n",
       "    .dataframe tbody tr th {\n",
       "        vertical-align: top;\n",
       "    }\n",
       "\n",
       "    .dataframe thead th {\n",
       "        text-align: right;\n",
       "    }\n",
       "</style>\n",
       "<table border=\"1\" class=\"dataframe\">\n",
       "  <thead>\n",
       "    <tr style=\"text-align: right;\">\n",
       "      <th></th>\n",
       "      <th>Linhas</th>\n",
       "      <th>Classificação</th>\n",
       "      <th>Teste</th>\n",
       "    </tr>\n",
       "  </thead>\n",
       "  <tbody>\n",
       "    <tr>\n",
       "      <th>2034</th>\n",
       "      <td>diversas clausulas do contrato inscrito e sem ...</td>\n",
       "      <td>Não</td>\n",
       "      <td>Não</td>\n",
       "    </tr>\n",
       "    <tr>\n",
       "      <th>375</th>\n",
       "      <td>Prenotado no Livro 1 - T sob n° 73.543 em 12/0...</td>\n",
       "      <td>Não</td>\n",
       "      <td>Não</td>\n",
       "    </tr>\n",
       "    <tr>\n",
       "      <th>2663</th>\n",
       "      <td>acima, DEU EM GARANTIA DE ALIENAÇÃO FIDUCIÁRIA...</td>\n",
       "      <td>Não</td>\n",
       "      <td>Não</td>\n",
       "    </tr>\n",
       "    <tr>\n",
       "      <th>1177</th>\n",
       "      <td>amarrador, inscrito no CPF nº 023.308.260-36, ...</td>\n",
       "      <td>Não</td>\n",
       "      <td>Não</td>\n",
       "    </tr>\n",
       "    <tr>\n",
       "      <th>2480</th>\n",
       "      <td>Schinatto e a segunda por 1,85 metros, com par...</td>\n",
       "      <td>Não</td>\n",
       "      <td>Não</td>\n",
       "    </tr>\n",
       "    <tr>\n",
       "      <th>...</th>\n",
       "      <td>...</td>\n",
       "      <td>...</td>\n",
       "      <td>...</td>\n",
       "    </tr>\n",
       "    <tr>\n",
       "      <th>2557</th>\n",
       "      <td>0133.01.1400029 02881 R$ 0,30 - Nos termos da ...</td>\n",
       "      <td>Sim</td>\n",
       "      <td>Sim</td>\n",
       "    </tr>\n",
       "    <tr>\n",
       "      <th>1327</th>\n",
       "      <td>cidade, CNPJ / MF sob o nº 00.360.305/0001-04,...</td>\n",
       "      <td>Não</td>\n",
       "      <td>Não</td>\n",
       "    </tr>\n",
       "    <tr>\n",
       "      <th>1062</th>\n",
       "      <td>R$ 4,20 da Lei 6281/12. São Gonçalo, 28 de mar...</td>\n",
       "      <td>Sim</td>\n",
       "      <td>Sim</td>\n",
       "    </tr>\n",
       "    <tr>\n",
       "      <th>1627</th>\n",
       "      <td>número de contgbuinte 340.411</td>\n",
       "      <td>Não</td>\n",
       "      <td>Não</td>\n",
       "    </tr>\n",
       "    <tr>\n",
       "      <th>2273</th>\n",
       "      <td>Financeiro da Habitação - Contrato nº 8.4444.1...</td>\n",
       "      <td>Não</td>\n",
       "      <td>Não</td>\n",
       "    </tr>\n",
       "  </tbody>\n",
       "</table>\n",
       "<p>128 rows × 3 columns</p>\n",
       "</div>"
      ],
      "text/plain": [
       "                                                 Linhas Classificação Teste\n",
       "2034  diversas clausulas do contrato inscrito e sem ...           Não   Não\n",
       "375   Prenotado no Livro 1 - T sob n° 73.543 em 12/0...           Não   Não\n",
       "2663  acima, DEU EM GARANTIA DE ALIENAÇÃO FIDUCIÁRIA...           Não   Não\n",
       "1177  amarrador, inscrito no CPF nº 023.308.260-36, ...           Não   Não\n",
       "2480  Schinatto e a segunda por 1,85 metros, com par...           Não   Não\n",
       "...                                                 ...           ...   ...\n",
       "2557  0133.01.1400029 02881 R$ 0,30 - Nos termos da ...           Sim   Sim\n",
       "1327  cidade, CNPJ / MF sob o nº 00.360.305/0001-04,...           Não   Não\n",
       "1062  R$ 4,20 da Lei 6281/12. São Gonçalo, 28 de mar...           Sim   Sim\n",
       "1627                      número de contgbuinte 340.411           Não   Não\n",
       "2273  Financeiro da Habitação - Contrato nº 8.4444.1...           Não   Não\n",
       "\n",
       "[128 rows x 3 columns]"
      ]
     },
     "execution_count": 39,
     "metadata": {},
     "output_type": "execute_result"
    }
   ],
   "source": [
    "#separando as rows obtidas acima\n",
    "linhas_final = linhas.iloc[[2034,\n",
    "375,\n",
    "2663,\n",
    "1177,\n",
    "2480,\n",
    "962,\n",
    "2884,\n",
    "204,\n",
    "2602,\n",
    "1714,\n",
    "220,\n",
    "1540,\n",
    "130,\n",
    "498,\n",
    "2406,\n",
    "1097,\n",
    "2032,\n",
    "44,\n",
    "2470,\n",
    "143,\n",
    "1955,\n",
    "1676,\n",
    "109,\n",
    "461,\n",
    "1305,\n",
    "1200,\n",
    "1234,\n",
    "2356,\n",
    "1645,\n",
    "162,\n",
    "1671,\n",
    "2513,\n",
    "176,\n",
    "701,\n",
    "2001,\n",
    "2665,\n",
    "530,\n",
    "1718,\n",
    "679,\n",
    "226,\n",
    "713,\n",
    "1618,\n",
    "746,\n",
    "577,\n",
    "315,\n",
    "207,\n",
    "2627,\n",
    "2674,\n",
    "2460,\n",
    "1132,\n",
    "2802,\n",
    "2805,\n",
    "1658,\n",
    "1055,\n",
    "2224,\n",
    "2393,\n",
    "332,\n",
    "2420,\n",
    "1932,\n",
    "1613,\n",
    "1915,\n",
    "1455,\n",
    "828,\n",
    "2158,\n",
    "1380,\n",
    "1603,\n",
    "1170,\n",
    "1412,\n",
    "187,\n",
    "671,\n",
    "939,\n",
    "1521,\n",
    "496,\n",
    "2128,\n",
    "2579,\n",
    "2446,\n",
    "1034,\n",
    "2350,\n",
    "889,\n",
    "1242,\n",
    "2902,\n",
    "2528,\n",
    "365,\n",
    "2493,\n",
    "1852,\n",
    "1270,\n",
    "2430,\n",
    "404,\n",
    "957,\n",
    "1225,\n",
    "1005,\n",
    "1836,\n",
    "1431,\n",
    "2923,\n",
    "1290,\n",
    "1488,\n",
    "2462,\n",
    "1381,\n",
    "285,\n",
    "2070,\n",
    "2453,\n",
    "150,\n",
    "1273,\n",
    "1021,\n",
    "447,\n",
    "1944,\n",
    "1438,\n",
    "2495,\n",
    "1389,\n",
    "1392,\n",
    "2255,\n",
    "1155,\n",
    "2181,\n",
    "1769,\n",
    "1077,\n",
    "2409,\n",
    "2450,\n",
    "768,\n",
    "1248,\n",
    "1554,\n",
    "1884,\n",
    "1211,\n",
    "1395,\n",
    "2557,\n",
    "1327,\n",
    "1062,\n",
    "1627,\n",
    "2273],]\n",
    "linhas_final"
   ]
  },
  {
   "cell_type": "code",
   "execution_count": 40,
   "metadata": {
    "scrolled": false
   },
   "outputs": [
    {
     "name": "stdout",
     "output_type": "stream",
     "text": [
      "O número de matches foi de: 112\n"
     ]
    }
   ],
   "source": [
    "#contando os MATCHES entre a classficação real e a obtida pelo meu modelo\n",
    "matches = 0\n",
    "for e in range(0,len(linhas_final)):\n",
    "    if linhas_final.iloc[e][\"Classificação\"] == linhas_final.iloc[e][\"Teste\"]:\n",
    "        matches +=1\n",
    "print(\"O número de matches foi de: {0}\".format(matches))"
   ]
  },
  {
   "cell_type": "code",
   "execution_count": 41,
   "metadata": {},
   "outputs": [
    {
     "name": "stdout",
     "output_type": "stream",
     "text": [
      "Acurácia: 87.5%\n"
     ]
    }
   ],
   "source": [
    "#calculando acurácia\n",
    "acc_final = (matches/len(linhas_final))*100\n",
    "print(\"Acurácia: {0}%\".format(acc_final))"
   ]
  },
  {
   "cell_type": "markdown",
   "metadata": {},
   "source": [
    "___\n",
    "## Concluindo e Possíveis Implementações Futuras\n",
    "\n",
    "* Comparativo qualitativo sobre as medidas obtidas.<br />\n",
    "* Algumas melhorias reais no classificador com indicações concretas de como implementar<br />\n"
   ]
  },
  {
   "cell_type": "markdown",
   "metadata": {},
   "source": [
    "   Em termos qualitativos de análise dos resultados o programa foi capaz de processar informações sobre os parágrafos e cláusulas recebidos e a partir deles diagnosticar se seria ou não uma linha final com um índice de precisão mais que satisfatório (87.5% de acurácia). Em comparação aos modelos obtidos inicialmente, a mescla de métodos (linhas finais E iniciais) foi uma estratégia bem sucedida por ter apresentado uma acurácia mais próxima do perfeito (100%).\n",
    "\n",
    "   Com o objetivo de expandir o programa construído seria necessário uma maior amostragem de parágrafos e cláusulas, para que a inteligência do programa conseguisse ter um repertório maior, além de novas formas e métodos para o cálculo de probabilidades com o objetivo de comparar e adequar ao melhor caso possível o melhor método de análise. Com apenas alguns dias de projeto em uma semana corrida na faculdade, fui capaz de realizar um programa eficiente e minimamente funcional, com espaço para aprimoramentos, mas que consegue atender ao propósito de forma efetiva. Visto esse desempenho e o bom planejamento para atingir os próximos objetivos creio estar mais que preparado para novos projetos.\n",
    "\n",
    "   Quando tratamos de expandir os horizontes e aumentar o alcance do modelo tenho algumas sugestões que, pela falta de tempo, não consegui implementar.\n",
    "\n",
    "   Com Scikit-Learn é fácil testar outros modelos e ver qual melhor se adequa a esse tipo de dado (https://scikit-learn.org/stable/modules/ensemble.html). \n",
    "   \n",
    "   Poderia experimentar com um modelo chamado \"Random Forests\" ou \"Stochastic Gradient Descent\" (mais aplicado em classficações binárias):\n",
    "* `from sklearn.ensemble import RandomForestClassifier`<br />\n",
    "* `from sklearn.linear_model import SGDClassifier`\n",
    "\n",
    "Ou talvez se apropriar de um modelo chamado de \"Bagging and Boosting\":\n",
    "* https://becominghuman.ai/ensemble-learning-bagging-and-boosting-d20f38be9b1e\n",
    "* http://www.cs.ecu.edu/~dingq/CSCI6905/readings/BaggingBoosting.pdf\n",
    "\n",
    "Talvez ter usado um classificador diferente da `MultinomialNB()`, ou ter classificado por meio de Regressão Logística, como no mock-up não sucedido abaixo:"
   ]
  },
  {
   "cell_type": "markdown",
   "metadata": {},
   "source": [
    "___\n",
    "## Teste com Regressão Logística\n",
    "A probabilidade de que uma amostra pertença à categoria $1$ (ou 'positiva', ou 'relevante', como quiser) seja $p$, e consequentemente a probabilidade de que uma amostra pertença à categoria oposta ($0$, ou 'negativa', ou 'irrelevante, etc) será $1 - p$:\n",
    "\n",
    "$$Prob(y = 1 | X = x) = p$$\n",
    "\n",
    "e\n",
    "\n",
    "$$Prob(y = 0 | X = x) = 1 - p$$\n",
    "\n",
    "onde $X = (x_1, x_2)$, por exemplo. Podemos representar quão grande é a chance de $y = 1$ em relação à chance de $y = 0$ simplesmente obtendo a razão entre elas (*odds*):\n",
    "\n",
    "$$odds = \\frac{Prob(y = 1 | X = x)}{Prob(y = 0 | X = x)} = \\frac{p}{1 - p}$$\n",
    "\n",
    "Por exemplo, numa roleta de cassino a chance de perder é $36/37$ e a chance de ganhar é $1/37$, logo $odds = 1 \\text{ para } 36$. \n",
    "\n",
    "No modelo de regressão logística, vamos fazer algo parecido com a regressão linear, mas desta vez a variável dependente será o logaritmo da chance (chamado de \"logito\"):\n",
    "\n",
    "$$\\log{\\left(\\frac{p}{1 - p}\\right)} = \\beta_0 + \\beta_1 x_1 + \\beta_2 x_2$$\n",
    "\n",
    "Com um pouco de álgebra (aplica função exponencial dos dois lados, isola $p$) chegamos na seguinte expressão:\n",
    "\n",
    "$$Prob(y = 1 | X = x) = \\frac{1}{1 + e^{-\\left(\\beta_0 + \\beta_1 x_1 + \\beta_2 x_2\\right)}}$$\n",
    "\n",
    "Esta função é conhecida como **função logística**. Eis a cara da função logística padrão:\n",
    "\n",
    "$$f(x) = \\frac{1}{1 + e^{-x}}$$"
   ]
  },
  {
   "cell_type": "code",
   "execution_count": 42,
   "metadata": {},
   "outputs": [
    {
     "data": {
      "image/png": "[encoded data removed]",
      "text/plain": [
       "<Figure size 432x288 with 1 Axes>"
      ]
     },
     "metadata": {
      "needs_background": "light"
     },
     "output_type": "display_data"
    }
   ],
   "source": [
    "x_logistica = np.linspace(-10, 10, 500)\n",
    "y_logistica = 1/(1 + np.exp(-x_logistica))\n",
    "\n",
    "plt.plot(x_logistica, y_logistica)\n",
    "plt.xlabel('x')\n",
    "plt.ylabel('y')\n",
    "plt.title('Função logística');"
   ]
  },
  {
   "cell_type": "markdown",
   "metadata": {},
   "source": [
    "Para usar este modelo para classificação basta definir um ponto de corte: se $Prob(y = 1 | X = x) > corte$ pode-se dizer que a amostra pertence à classe $1$, caso contrário pertence à classe $0$. Normalmente usa-se $corte = 0.5$.\n",
    "\n",
    "Treinar o modelo de regressão logística significa ajustar os valores de $\\beta_i$ tal que a acurácia seja maximizada. Utilizando novamente o Scikit-Learn:"
   ]
  },
  {
   "cell_type": "code",
   "execution_count": null,
   "metadata": {},
   "outputs": [],
   "source": []
  }
 ],
 "metadata": {
  "kernelspec": {
   "display_name": "Python 3",
   "language": "python",
   "name": "python3"
  },
  "language_info": {
   "codemirror_mode": {
    "name": "ipython",
    "version": 3
   },
   "file_extension": ".py",
   "mimetype": "text/x-python",
   "name": "python",
   "nbconvert_exporter": "python",
   "pygments_lexer": "ipython3",
   "version": "3.8.4"
  }
 },
 "nbformat": 4,
 "nbformat_minor": 2
}
