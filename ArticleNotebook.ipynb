{
 "cells": [
  {
   "cell_type": "markdown",
   "metadata": {},
   "source": [
    "## Conteúdos:\n",
    "\n",
    "- ### [Preparação](#prep):\n",
    "    - [Requisitos](#requisitos)\n",
    "    - [Imports](#imports)\n",
    "    - [Funções Auxiliares](#auxiliares)\n",
    "\n",
    "- ### [Entendendo os Dados](#dados)\n",
    "    - [Leitura dos dados](#leitura)\n",
    "    - [Lidando com dados faltantes](#faltantes)\n",
    "    - [Reatribuindo valor a variável dependente](#dependente)\n",
    "    \n",
    "- ### [Feature Engineering e Seleção](#engineering)\n",
    "    - [Eliminando algumas features](#drop)\n",
    "    - [Encoding das features](#encoding)\n",
    "    - [Novas features](#new)\n",
    "    \n",
    "- ### [Análise exploratória](#exploratoria)\n",
    "    - [Matriz de correlação](#correlation)\n",
    "    \n",
    "- ### [Desbalanceamento de Dados](#desbalanceamento)\n",
    "    - [Under-sampling](#under)\n",
    "        - [Decision Tree Classifier](#dt_under)\n",
    "        - [Random Forest Classifier](#rf_under)\n",
    "    - [Over-sampling](#over)\n",
    "        - [Decision Tree Classifier](#dt_over)\n",
    "        - [Random Forest Classifier](#rf_over)"
   ]
  },
  {
   "cell_type": "markdown",
   "metadata": {},
   "source": [
    "<a id='prep'></a>\n",
    "# Preparação"
   ]
  },
  {
   "cell_type": "markdown",
   "metadata": {},
   "source": [
    "<a id='requisitos'></a>\n",
    "#### Pacotes Python Utilizados:\n",
    "\n",
    "- ```pip install pandas```\n",
    "- ```pip install seaborn```\n",
    "- ```pip install imblearn```\n",
    "- ```pip install sklearn```\n",
    "\n",
    "#### Atualizando, caso necessário\n",
    "- ```pip install -U pandas seaborn imblearn sklearn```"
   ]
  },
  {
   "cell_type": "markdown",
   "metadata": {},
   "source": [
    "<a id='imports'></a>\n",
    "### Imports"
   ]
  },
  {
   "cell_type": "code",
   "execution_count": 1,
   "metadata": {},
   "outputs": [],
   "source": [
    "# utils\n",
    "import pandas as pd\n",
    "import seaborn as sns\n",
    "import matplotlib.pyplot as plt\n",
    "import numpy as np\n",
    "# preprocessing\n",
    "from imblearn.over_sampling import SMOTE\n",
    "from sklearn.model_selection import train_test_split\n",
    "from sklearn.preprocessing import StandardScaler\n",
    "from sklearn.pipeline import Pipeline\n",
    "# classifiers\n",
    "from sklearn.ensemble import RandomForestClassifier\n",
    "from sklearn.tree import DecisionTreeClassifier\n",
    "# evaluation\n",
    "from sklearn.model_selection import cross_val_predict\n",
    "from sklearn.metrics import accuracy_score\n",
    "from sklearn.model_selection import cross_val_score\n",
    "# mantém a replicabilidade do notebook\n",
    "RANDOM_SEED = 42"
   ]
  },
  {
   "cell_type": "markdown",
   "metadata": {},
   "source": [
    "<a id='auxiliares'></a>\n",
    "### Funções Auxiliares"
   ]
  },
  {
   "cell_type": "code",
   "execution_count": 2,
   "metadata": {},
   "outputs": [],
   "source": [
    "def plotAttritionCount(value_counts, title, labels=['No', 'Yes']):\n",
    "    x = np.arange(len(labels))\n",
    "    fig, ax = plt.subplots(figsize=[3,3])\n",
    "    rects1 = ax.bar(x, value_counts, color=['red', 'green'])\n",
    "    ax.set_title(title)\n",
    "    ax.set_xticks(x)\n",
    "    ax.set_xticklabels(labels)\n",
    "    plt.plot();\n",
    "    \n",
    "def prettyPercentagePrint(value):\n",
    "    print(\"{:.2%}\".format(value))"
   ]
  },
  {
   "cell_type": "markdown",
   "metadata": {},
   "source": [
    "<a id='dados'></a>\n",
    "# Entendendo os Dados"
   ]
  },
  {
   "cell_type": "markdown",
   "metadata": {},
   "source": [
    "<a id='leitura'></a>\n",
    "### Leitura dos dados"
   ]
  },
  {
   "cell_type": "code",
   "execution_count": 3,
   "metadata": {},
   "outputs": [
    {
     "data": {
      "text/html": [
       "<div>\n",
       "<style scoped>\n",
       "    .dataframe tbody tr th:only-of-type {\n",
       "        vertical-align: middle;\n",
       "    }\n",
       "\n",
       "    .dataframe tbody tr th {\n",
       "        vertical-align: top;\n",
       "    }\n",
       "\n",
       "    .dataframe thead th {\n",
       "        text-align: right;\n",
       "    }\n",
       "</style>\n",
       "<table border=\"1\" class=\"dataframe\">\n",
       "  <thead>\n",
       "    <tr style=\"text-align: right;\">\n",
       "      <th></th>\n",
       "      <th>Age</th>\n",
       "      <th>Attrition</th>\n",
       "      <th>BusinessTravel</th>\n",
       "      <th>DailyRate</th>\n",
       "      <th>Department</th>\n",
       "      <th>DistanceFromHome</th>\n",
       "      <th>Education</th>\n",
       "      <th>EducationField</th>\n",
       "      <th>EmployeeCount</th>\n",
       "      <th>EmployeeNumber</th>\n",
       "      <th>...</th>\n",
       "      <th>RelationshipSatisfaction</th>\n",
       "      <th>StandardHours</th>\n",
       "      <th>StockOptionLevel</th>\n",
       "      <th>TotalWorkingYears</th>\n",
       "      <th>TrainingTimesLastYear</th>\n",
       "      <th>WorkLifeBalance</th>\n",
       "      <th>YearsAtCompany</th>\n",
       "      <th>YearsInCurrentRole</th>\n",
       "      <th>YearsSinceLastPromotion</th>\n",
       "      <th>YearsWithCurrManager</th>\n",
       "    </tr>\n",
       "  </thead>\n",
       "  <tbody>\n",
       "    <tr>\n",
       "      <th>0</th>\n",
       "      <td>41</td>\n",
       "      <td>Yes</td>\n",
       "      <td>Travel_Rarely</td>\n",
       "      <td>1102</td>\n",
       "      <td>Sales</td>\n",
       "      <td>1</td>\n",
       "      <td>2</td>\n",
       "      <td>Life Sciences</td>\n",
       "      <td>1</td>\n",
       "      <td>1</td>\n",
       "      <td>...</td>\n",
       "      <td>1</td>\n",
       "      <td>80</td>\n",
       "      <td>0</td>\n",
       "      <td>8</td>\n",
       "      <td>0</td>\n",
       "      <td>1</td>\n",
       "      <td>6</td>\n",
       "      <td>4</td>\n",
       "      <td>0</td>\n",
       "      <td>5</td>\n",
       "    </tr>\n",
       "    <tr>\n",
       "      <th>1</th>\n",
       "      <td>49</td>\n",
       "      <td>No</td>\n",
       "      <td>Travel_Frequently</td>\n",
       "      <td>279</td>\n",
       "      <td>Research &amp; Development</td>\n",
       "      <td>8</td>\n",
       "      <td>1</td>\n",
       "      <td>Life Sciences</td>\n",
       "      <td>1</td>\n",
       "      <td>2</td>\n",
       "      <td>...</td>\n",
       "      <td>4</td>\n",
       "      <td>80</td>\n",
       "      <td>1</td>\n",
       "      <td>10</td>\n",
       "      <td>3</td>\n",
       "      <td>3</td>\n",
       "      <td>10</td>\n",
       "      <td>7</td>\n",
       "      <td>1</td>\n",
       "      <td>7</td>\n",
       "    </tr>\n",
       "    <tr>\n",
       "      <th>2</th>\n",
       "      <td>37</td>\n",
       "      <td>Yes</td>\n",
       "      <td>Travel_Rarely</td>\n",
       "      <td>1373</td>\n",
       "      <td>Research &amp; Development</td>\n",
       "      <td>2</td>\n",
       "      <td>2</td>\n",
       "      <td>Other</td>\n",
       "      <td>1</td>\n",
       "      <td>4</td>\n",
       "      <td>...</td>\n",
       "      <td>2</td>\n",
       "      <td>80</td>\n",
       "      <td>0</td>\n",
       "      <td>7</td>\n",
       "      <td>3</td>\n",
       "      <td>3</td>\n",
       "      <td>0</td>\n",
       "      <td>0</td>\n",
       "      <td>0</td>\n",
       "      <td>0</td>\n",
       "    </tr>\n",
       "    <tr>\n",
       "      <th>3</th>\n",
       "      <td>33</td>\n",
       "      <td>No</td>\n",
       "      <td>Travel_Frequently</td>\n",
       "      <td>1392</td>\n",
       "      <td>Research &amp; Development</td>\n",
       "      <td>3</td>\n",
       "      <td>4</td>\n",
       "      <td>Life Sciences</td>\n",
       "      <td>1</td>\n",
       "      <td>5</td>\n",
       "      <td>...</td>\n",
       "      <td>3</td>\n",
       "      <td>80</td>\n",
       "      <td>0</td>\n",
       "      <td>8</td>\n",
       "      <td>3</td>\n",
       "      <td>3</td>\n",
       "      <td>8</td>\n",
       "      <td>7</td>\n",
       "      <td>3</td>\n",
       "      <td>0</td>\n",
       "    </tr>\n",
       "    <tr>\n",
       "      <th>4</th>\n",
       "      <td>27</td>\n",
       "      <td>No</td>\n",
       "      <td>Travel_Rarely</td>\n",
       "      <td>591</td>\n",
       "      <td>Research &amp; Development</td>\n",
       "      <td>2</td>\n",
       "      <td>1</td>\n",
       "      <td>Medical</td>\n",
       "      <td>1</td>\n",
       "      <td>7</td>\n",
       "      <td>...</td>\n",
       "      <td>4</td>\n",
       "      <td>80</td>\n",
       "      <td>1</td>\n",
       "      <td>6</td>\n",
       "      <td>3</td>\n",
       "      <td>3</td>\n",
       "      <td>2</td>\n",
       "      <td>2</td>\n",
       "      <td>2</td>\n",
       "      <td>2</td>\n",
       "    </tr>\n",
       "  </tbody>\n",
       "</table>\n",
       "<p>5 rows × 35 columns</p>\n",
       "</div>"
      ],
      "text/plain": [
       "   Age Attrition     BusinessTravel  DailyRate              Department  \\\n",
       "0   41       Yes      Travel_Rarely       1102                   Sales   \n",
       "1   49        No  Travel_Frequently        279  Research & Development   \n",
       "2   37       Yes      Travel_Rarely       1373  Research & Development   \n",
       "3   33        No  Travel_Frequently       1392  Research & Development   \n",
       "4   27        No      Travel_Rarely        591  Research & Development   \n",
       "\n",
       "   DistanceFromHome  Education EducationField  EmployeeCount  EmployeeNumber  \\\n",
       "0                 1          2  Life Sciences              1               1   \n",
       "1                 8          1  Life Sciences              1               2   \n",
       "2                 2          2          Other              1               4   \n",
       "3                 3          4  Life Sciences              1               5   \n",
       "4                 2          1        Medical              1               7   \n",
       "\n",
       "   ...  RelationshipSatisfaction StandardHours  StockOptionLevel  \\\n",
       "0  ...                         1            80                 0   \n",
       "1  ...                         4            80                 1   \n",
       "2  ...                         2            80                 0   \n",
       "3  ...                         3            80                 0   \n",
       "4  ...                         4            80                 1   \n",
       "\n",
       "   TotalWorkingYears  TrainingTimesLastYear WorkLifeBalance  YearsAtCompany  \\\n",
       "0                  8                      0               1               6   \n",
       "1                 10                      3               3              10   \n",
       "2                  7                      3               3               0   \n",
       "3                  8                      3               3               8   \n",
       "4                  6                      3               3               2   \n",
       "\n",
       "  YearsInCurrentRole  YearsSinceLastPromotion  YearsWithCurrManager  \n",
       "0                  4                        0                     5  \n",
       "1                  7                        1                     7  \n",
       "2                  0                        0                     0  \n",
       "3                  7                        3                     0  \n",
       "4                  2                        2                     2  \n",
       "\n",
       "[5 rows x 35 columns]"
      ]
     },
     "execution_count": 3,
     "metadata": {},
     "output_type": "execute_result"
    }
   ],
   "source": [
    "df = pd.read_csv(\"WA_Fn-UseC_-HR-Employee-Attrition.csv\")\n",
    "df.head()"
   ]
  },
  {
   "cell_type": "code",
   "execution_count": 4,
   "metadata": {},
   "outputs": [],
   "source": [
    "description = {'Age': 'idade do funcionário', \n",
    "               'Attrition': 'perda de funcionários que uma empresa sofreu por determinados motivos',\n",
    "               'BusinessTravel': 'frequência de viagens do funcionário',\n",
    "               'DailyRate': '', \n",
    "               'Department': 'departamento em que o funcionário atua',\n",
    "               'DistanceFromHome': 'distância do local de trabalho e de onde mora o funcionário',\n",
    "               'Education': 'nível de escolaridade do funcionário',\n",
    "               'EducationField': 'área em que o funcionário se formou',\n",
    "               'EmployeeCount': '',\n",
    "               'EmployeeNumber': 'ID do funcionário',\n",
    "               'EnvironmentSatisfaction': 'satisfação com o ambiente de trabalho',\n",
    "               'Gender': 'gênero do funcionário',\n",
    "               'HourlyRate': '',\n",
    "               'JobInvolvement': 'quanto o funcionário está envolvido no trabalho',\n",
    "               'JobLevel': '',\n",
    "               'JobRole': 'área na qual trabalha',\n",
    "               'JobSatisfaction': 'satisfação com o trabalho',\n",
    "               'MaritalStatus': 'estado civil',\n",
    "               'MonthlyIncome': 'salário mensal',\n",
    "               'MonthlyRate': '',\n",
    "               'NumCompaniesWorked': 'número de empresas que já trabalhou',\n",
    "               'Over18': 'se o funcionário tem mais de 18 anos',\n",
    "               'OverTime': 'trabalhou horas extras',\n",
    "               'PercentSalaryHike': 'porcentagem de variação do salário de um ano pra outro',\n",
    "               'PerformanceRating': 'performance do indivíduo',\n",
    "               'RelationshipSatisfaction': 'satisfação com relações entre colegas',\n",
    "               'StandardHours': 'jornada de trabalho',\n",
    "               'StockOptionLevel': 'nível de stocks do funcionário',\n",
    "               'TotalWorkingYears': 'total de anos trabalhados',\n",
    "               'TrainingTimesLastYear': 'quantidade de mentorias no ano anterior',\n",
    "               'WorkLifeBalance': 'nível de balanço entre trabalho e vida pessoal',\n",
    "               'YearsAtCompany': 'total de anos na empresa', \n",
    "               'YearsInCurrentRole': 'total de anos no cargo atual', \n",
    "               'YearsSinceLastPromotion': 'quantidade de anos desde a última promoção',\n",
    "               'YearsWithCurrManager': 'total de anos trabalhando com o mesmo gerente'\n",
    "              }"
   ]
  },
  {
   "cell_type": "code",
   "execution_count": 5,
   "metadata": {},
   "outputs": [
    {
     "name": "stdout",
     "output_type": "stream",
     "text": [
      "Age: idade do funcionário\n",
      "Attrition: perda de funcionários que uma empresa sofreu por determinados motivos\n",
      "BusinessTravel: frequência de viagens do funcionário\n",
      "DailyRate: \n",
      "Department: departamento em que o funcionário atua\n",
      "DistanceFromHome: distância do local de trabalho e de onde mora o funcionário\n",
      "Education: nível de escolaridade do funcionário\n",
      "EducationField: área em que o funcionário se formou\n",
      "EmployeeCount: \n",
      "EmployeeNumber: ID do funcionário\n",
      "EnvironmentSatisfaction: satisfação com o ambiente de trabalho\n",
      "Gender: gênero do funcionário\n",
      "HourlyRate: \n",
      "JobInvolvement: quanto o funcionário está envolvido no trabalho\n",
      "JobLevel: \n",
      "JobRole: área na qual trabalha\n",
      "JobSatisfaction: satisfação com o trabalho\n",
      "MaritalStatus: estado civil\n",
      "MonthlyIncome: salário mensal\n",
      "MonthlyRate: \n",
      "NumCompaniesWorked: número de empresas que já trabalhou\n",
      "Over18: se o funcionário tem mais de 18 anos\n",
      "OverTime: trabalhou horas extras\n",
      "PercentSalaryHike: porcentagem de variação do salário de um ano pra outro\n",
      "PerformanceRating: performance do indivíduo\n",
      "RelationshipSatisfaction: satisfação com relações entre colegas\n",
      "StandardHours: jornada de trabalho\n",
      "StockOptionLevel: nível de stocks do funcionário\n",
      "TotalWorkingYears: total de anos trabalhados\n",
      "TrainingTimesLastYear: quantidade de mentorias no ano anterior\n",
      "WorkLifeBalance: nível de balanço entre trabalho e vida pessoal\n",
      "YearsAtCompany: total de anos na empresa\n",
      "YearsInCurrentRole: total de anos no cargo atual\n",
      "YearsSinceLastPromotion: quantidade de anos desde a última promoção\n",
      "YearsWithCurrManager: total de anos trabalhando com o mesmo gerente\n"
     ]
    }
   ],
   "source": [
    "for i in df.columns:\n",
    "    print(f\"{i}: {description[i]}\")"
   ]
  },
  {
   "cell_type": "markdown",
   "metadata": {},
   "source": [
    "Vale destacar que *Education*, *EnvironmentSatisfaction*, *JobInvolvement*, *JobSatisfaction*, *PerformanceRating*, *RelationshipSatisfaction* e *WorkLifeBalance* são ordinais, ou seja é possível ordená-las como números:\n",
    "\n",
    "|   | Education     |\n",
    "|---|---------------|\n",
    "| 1 | Below College |\n",
    "| 2 | College       | \n",
    "| 3 | Bachelor   |\n",
    "| 4 | Master   | \n",
    "| 5 | Doctor   |"
   ]
  },
  {
   "cell_type": "code",
   "execution_count": 6,
   "metadata": {},
   "outputs": [
    {
     "data": {
      "text/html": [
       "<div>\n",
       "<style scoped>\n",
       "    .dataframe tbody tr th:only-of-type {\n",
       "        vertical-align: middle;\n",
       "    }\n",
       "\n",
       "    .dataframe tbody tr th {\n",
       "        vertical-align: top;\n",
       "    }\n",
       "\n",
       "    .dataframe thead th {\n",
       "        text-align: right;\n",
       "    }\n",
       "</style>\n",
       "<table border=\"1\" class=\"dataframe\">\n",
       "  <thead>\n",
       "    <tr style=\"text-align: right;\">\n",
       "      <th></th>\n",
       "      <th>count</th>\n",
       "      <th>unique</th>\n",
       "      <th>top</th>\n",
       "      <th>freq</th>\n",
       "      <th>mean</th>\n",
       "      <th>std</th>\n",
       "      <th>min</th>\n",
       "      <th>25%</th>\n",
       "      <th>50%</th>\n",
       "      <th>75%</th>\n",
       "      <th>max</th>\n",
       "    </tr>\n",
       "  </thead>\n",
       "  <tbody>\n",
       "    <tr>\n",
       "      <th>Age</th>\n",
       "      <td>1470</td>\n",
       "      <td>NaN</td>\n",
       "      <td>NaN</td>\n",
       "      <td>NaN</td>\n",
       "      <td>36.9238</td>\n",
       "      <td>9.13537</td>\n",
       "      <td>18</td>\n",
       "      <td>30</td>\n",
       "      <td>36</td>\n",
       "      <td>43</td>\n",
       "      <td>60</td>\n",
       "    </tr>\n",
       "    <tr>\n",
       "      <th>Attrition</th>\n",
       "      <td>1470</td>\n",
       "      <td>2</td>\n",
       "      <td>No</td>\n",
       "      <td>1233</td>\n",
       "      <td>NaN</td>\n",
       "      <td>NaN</td>\n",
       "      <td>NaN</td>\n",
       "      <td>NaN</td>\n",
       "      <td>NaN</td>\n",
       "      <td>NaN</td>\n",
       "      <td>NaN</td>\n",
       "    </tr>\n",
       "    <tr>\n",
       "      <th>BusinessTravel</th>\n",
       "      <td>1470</td>\n",
       "      <td>3</td>\n",
       "      <td>Travel_Rarely</td>\n",
       "      <td>1043</td>\n",
       "      <td>NaN</td>\n",
       "      <td>NaN</td>\n",
       "      <td>NaN</td>\n",
       "      <td>NaN</td>\n",
       "      <td>NaN</td>\n",
       "      <td>NaN</td>\n",
       "      <td>NaN</td>\n",
       "    </tr>\n",
       "    <tr>\n",
       "      <th>DailyRate</th>\n",
       "      <td>1470</td>\n",
       "      <td>NaN</td>\n",
       "      <td>NaN</td>\n",
       "      <td>NaN</td>\n",
       "      <td>802.486</td>\n",
       "      <td>403.509</td>\n",
       "      <td>102</td>\n",
       "      <td>465</td>\n",
       "      <td>802</td>\n",
       "      <td>1157</td>\n",
       "      <td>1499</td>\n",
       "    </tr>\n",
       "    <tr>\n",
       "      <th>Department</th>\n",
       "      <td>1470</td>\n",
       "      <td>3</td>\n",
       "      <td>Research &amp; Development</td>\n",
       "      <td>961</td>\n",
       "      <td>NaN</td>\n",
       "      <td>NaN</td>\n",
       "      <td>NaN</td>\n",
       "      <td>NaN</td>\n",
       "      <td>NaN</td>\n",
       "      <td>NaN</td>\n",
       "      <td>NaN</td>\n",
       "    </tr>\n",
       "    <tr>\n",
       "      <th>DistanceFromHome</th>\n",
       "      <td>1470</td>\n",
       "      <td>NaN</td>\n",
       "      <td>NaN</td>\n",
       "      <td>NaN</td>\n",
       "      <td>9.19252</td>\n",
       "      <td>8.10686</td>\n",
       "      <td>1</td>\n",
       "      <td>2</td>\n",
       "      <td>7</td>\n",
       "      <td>14</td>\n",
       "      <td>29</td>\n",
       "    </tr>\n",
       "    <tr>\n",
       "      <th>Education</th>\n",
       "      <td>1470</td>\n",
       "      <td>NaN</td>\n",
       "      <td>NaN</td>\n",
       "      <td>NaN</td>\n",
       "      <td>2.91293</td>\n",
       "      <td>1.02416</td>\n",
       "      <td>1</td>\n",
       "      <td>2</td>\n",
       "      <td>3</td>\n",
       "      <td>4</td>\n",
       "      <td>5</td>\n",
       "    </tr>\n",
       "    <tr>\n",
       "      <th>EducationField</th>\n",
       "      <td>1470</td>\n",
       "      <td>6</td>\n",
       "      <td>Life Sciences</td>\n",
       "      <td>606</td>\n",
       "      <td>NaN</td>\n",
       "      <td>NaN</td>\n",
       "      <td>NaN</td>\n",
       "      <td>NaN</td>\n",
       "      <td>NaN</td>\n",
       "      <td>NaN</td>\n",
       "      <td>NaN</td>\n",
       "    </tr>\n",
       "    <tr>\n",
       "      <th>EmployeeCount</th>\n",
       "      <td>1470</td>\n",
       "      <td>NaN</td>\n",
       "      <td>NaN</td>\n",
       "      <td>NaN</td>\n",
       "      <td>1</td>\n",
       "      <td>0</td>\n",
       "      <td>1</td>\n",
       "      <td>1</td>\n",
       "      <td>1</td>\n",
       "      <td>1</td>\n",
       "      <td>1</td>\n",
       "    </tr>\n",
       "    <tr>\n",
       "      <th>EmployeeNumber</th>\n",
       "      <td>1470</td>\n",
       "      <td>NaN</td>\n",
       "      <td>NaN</td>\n",
       "      <td>NaN</td>\n",
       "      <td>1024.87</td>\n",
       "      <td>602.024</td>\n",
       "      <td>1</td>\n",
       "      <td>491.25</td>\n",
       "      <td>1020.5</td>\n",
       "      <td>1555.75</td>\n",
       "      <td>2068</td>\n",
       "    </tr>\n",
       "    <tr>\n",
       "      <th>EnvironmentSatisfaction</th>\n",
       "      <td>1470</td>\n",
       "      <td>NaN</td>\n",
       "      <td>NaN</td>\n",
       "      <td>NaN</td>\n",
       "      <td>2.72177</td>\n",
       "      <td>1.09308</td>\n",
       "      <td>1</td>\n",
       "      <td>2</td>\n",
       "      <td>3</td>\n",
       "      <td>4</td>\n",
       "      <td>4</td>\n",
       "    </tr>\n",
       "    <tr>\n",
       "      <th>Gender</th>\n",
       "      <td>1470</td>\n",
       "      <td>2</td>\n",
       "      <td>Male</td>\n",
       "      <td>882</td>\n",
       "      <td>NaN</td>\n",
       "      <td>NaN</td>\n",
       "      <td>NaN</td>\n",
       "      <td>NaN</td>\n",
       "      <td>NaN</td>\n",
       "      <td>NaN</td>\n",
       "      <td>NaN</td>\n",
       "    </tr>\n",
       "    <tr>\n",
       "      <th>HourlyRate</th>\n",
       "      <td>1470</td>\n",
       "      <td>NaN</td>\n",
       "      <td>NaN</td>\n",
       "      <td>NaN</td>\n",
       "      <td>65.8912</td>\n",
       "      <td>20.3294</td>\n",
       "      <td>30</td>\n",
       "      <td>48</td>\n",
       "      <td>66</td>\n",
       "      <td>83.75</td>\n",
       "      <td>100</td>\n",
       "    </tr>\n",
       "    <tr>\n",
       "      <th>JobInvolvement</th>\n",
       "      <td>1470</td>\n",
       "      <td>NaN</td>\n",
       "      <td>NaN</td>\n",
       "      <td>NaN</td>\n",
       "      <td>2.72993</td>\n",
       "      <td>0.711561</td>\n",
       "      <td>1</td>\n",
       "      <td>2</td>\n",
       "      <td>3</td>\n",
       "      <td>3</td>\n",
       "      <td>4</td>\n",
       "    </tr>\n",
       "    <tr>\n",
       "      <th>JobLevel</th>\n",
       "      <td>1470</td>\n",
       "      <td>NaN</td>\n",
       "      <td>NaN</td>\n",
       "      <td>NaN</td>\n",
       "      <td>2.06395</td>\n",
       "      <td>1.10694</td>\n",
       "      <td>1</td>\n",
       "      <td>1</td>\n",
       "      <td>2</td>\n",
       "      <td>3</td>\n",
       "      <td>5</td>\n",
       "    </tr>\n",
       "    <tr>\n",
       "      <th>JobRole</th>\n",
       "      <td>1470</td>\n",
       "      <td>9</td>\n",
       "      <td>Sales Executive</td>\n",
       "      <td>326</td>\n",
       "      <td>NaN</td>\n",
       "      <td>NaN</td>\n",
       "      <td>NaN</td>\n",
       "      <td>NaN</td>\n",
       "      <td>NaN</td>\n",
       "      <td>NaN</td>\n",
       "      <td>NaN</td>\n",
       "    </tr>\n",
       "    <tr>\n",
       "      <th>JobSatisfaction</th>\n",
       "      <td>1470</td>\n",
       "      <td>NaN</td>\n",
       "      <td>NaN</td>\n",
       "      <td>NaN</td>\n",
       "      <td>2.72857</td>\n",
       "      <td>1.10285</td>\n",
       "      <td>1</td>\n",
       "      <td>2</td>\n",
       "      <td>3</td>\n",
       "      <td>4</td>\n",
       "      <td>4</td>\n",
       "    </tr>\n",
       "    <tr>\n",
       "      <th>MaritalStatus</th>\n",
       "      <td>1470</td>\n",
       "      <td>3</td>\n",
       "      <td>Married</td>\n",
       "      <td>673</td>\n",
       "      <td>NaN</td>\n",
       "      <td>NaN</td>\n",
       "      <td>NaN</td>\n",
       "      <td>NaN</td>\n",
       "      <td>NaN</td>\n",
       "      <td>NaN</td>\n",
       "      <td>NaN</td>\n",
       "    </tr>\n",
       "    <tr>\n",
       "      <th>MonthlyIncome</th>\n",
       "      <td>1470</td>\n",
       "      <td>NaN</td>\n",
       "      <td>NaN</td>\n",
       "      <td>NaN</td>\n",
       "      <td>6502.93</td>\n",
       "      <td>4707.96</td>\n",
       "      <td>1009</td>\n",
       "      <td>2911</td>\n",
       "      <td>4919</td>\n",
       "      <td>8379</td>\n",
       "      <td>19999</td>\n",
       "    </tr>\n",
       "    <tr>\n",
       "      <th>MonthlyRate</th>\n",
       "      <td>1470</td>\n",
       "      <td>NaN</td>\n",
       "      <td>NaN</td>\n",
       "      <td>NaN</td>\n",
       "      <td>14313.1</td>\n",
       "      <td>7117.79</td>\n",
       "      <td>2094</td>\n",
       "      <td>8047</td>\n",
       "      <td>14235.5</td>\n",
       "      <td>20461.5</td>\n",
       "      <td>26999</td>\n",
       "    </tr>\n",
       "    <tr>\n",
       "      <th>NumCompaniesWorked</th>\n",
       "      <td>1470</td>\n",
       "      <td>NaN</td>\n",
       "      <td>NaN</td>\n",
       "      <td>NaN</td>\n",
       "      <td>2.6932</td>\n",
       "      <td>2.49801</td>\n",
       "      <td>0</td>\n",
       "      <td>1</td>\n",
       "      <td>2</td>\n",
       "      <td>4</td>\n",
       "      <td>9</td>\n",
       "    </tr>\n",
       "    <tr>\n",
       "      <th>Over18</th>\n",
       "      <td>1470</td>\n",
       "      <td>1</td>\n",
       "      <td>Y</td>\n",
       "      <td>1470</td>\n",
       "      <td>NaN</td>\n",
       "      <td>NaN</td>\n",
       "      <td>NaN</td>\n",
       "      <td>NaN</td>\n",
       "      <td>NaN</td>\n",
       "      <td>NaN</td>\n",
       "      <td>NaN</td>\n",
       "    </tr>\n",
       "    <tr>\n",
       "      <th>OverTime</th>\n",
       "      <td>1470</td>\n",
       "      <td>2</td>\n",
       "      <td>No</td>\n",
       "      <td>1054</td>\n",
       "      <td>NaN</td>\n",
       "      <td>NaN</td>\n",
       "      <td>NaN</td>\n",
       "      <td>NaN</td>\n",
       "      <td>NaN</td>\n",
       "      <td>NaN</td>\n",
       "      <td>NaN</td>\n",
       "    </tr>\n",
       "    <tr>\n",
       "      <th>PercentSalaryHike</th>\n",
       "      <td>1470</td>\n",
       "      <td>NaN</td>\n",
       "      <td>NaN</td>\n",
       "      <td>NaN</td>\n",
       "      <td>15.2095</td>\n",
       "      <td>3.65994</td>\n",
       "      <td>11</td>\n",
       "      <td>12</td>\n",
       "      <td>14</td>\n",
       "      <td>18</td>\n",
       "      <td>25</td>\n",
       "    </tr>\n",
       "    <tr>\n",
       "      <th>PerformanceRating</th>\n",
       "      <td>1470</td>\n",
       "      <td>NaN</td>\n",
       "      <td>NaN</td>\n",
       "      <td>NaN</td>\n",
       "      <td>3.15374</td>\n",
       "      <td>0.360824</td>\n",
       "      <td>3</td>\n",
       "      <td>3</td>\n",
       "      <td>3</td>\n",
       "      <td>3</td>\n",
       "      <td>4</td>\n",
       "    </tr>\n",
       "    <tr>\n",
       "      <th>RelationshipSatisfaction</th>\n",
       "      <td>1470</td>\n",
       "      <td>NaN</td>\n",
       "      <td>NaN</td>\n",
       "      <td>NaN</td>\n",
       "      <td>2.71224</td>\n",
       "      <td>1.08121</td>\n",
       "      <td>1</td>\n",
       "      <td>2</td>\n",
       "      <td>3</td>\n",
       "      <td>4</td>\n",
       "      <td>4</td>\n",
       "    </tr>\n",
       "    <tr>\n",
       "      <th>StandardHours</th>\n",
       "      <td>1470</td>\n",
       "      <td>NaN</td>\n",
       "      <td>NaN</td>\n",
       "      <td>NaN</td>\n",
       "      <td>80</td>\n",
       "      <td>0</td>\n",
       "      <td>80</td>\n",
       "      <td>80</td>\n",
       "      <td>80</td>\n",
       "      <td>80</td>\n",
       "      <td>80</td>\n",
       "    </tr>\n",
       "    <tr>\n",
       "      <th>StockOptionLevel</th>\n",
       "      <td>1470</td>\n",
       "      <td>NaN</td>\n",
       "      <td>NaN</td>\n",
       "      <td>NaN</td>\n",
       "      <td>0.793878</td>\n",
       "      <td>0.852077</td>\n",
       "      <td>0</td>\n",
       "      <td>0</td>\n",
       "      <td>1</td>\n",
       "      <td>1</td>\n",
       "      <td>3</td>\n",
       "    </tr>\n",
       "    <tr>\n",
       "      <th>TotalWorkingYears</th>\n",
       "      <td>1470</td>\n",
       "      <td>NaN</td>\n",
       "      <td>NaN</td>\n",
       "      <td>NaN</td>\n",
       "      <td>11.2796</td>\n",
       "      <td>7.78078</td>\n",
       "      <td>0</td>\n",
       "      <td>6</td>\n",
       "      <td>10</td>\n",
       "      <td>15</td>\n",
       "      <td>40</td>\n",
       "    </tr>\n",
       "    <tr>\n",
       "      <th>TrainingTimesLastYear</th>\n",
       "      <td>1470</td>\n",
       "      <td>NaN</td>\n",
       "      <td>NaN</td>\n",
       "      <td>NaN</td>\n",
       "      <td>2.79932</td>\n",
       "      <td>1.28927</td>\n",
       "      <td>0</td>\n",
       "      <td>2</td>\n",
       "      <td>3</td>\n",
       "      <td>3</td>\n",
       "      <td>6</td>\n",
       "    </tr>\n",
       "    <tr>\n",
       "      <th>WorkLifeBalance</th>\n",
       "      <td>1470</td>\n",
       "      <td>NaN</td>\n",
       "      <td>NaN</td>\n",
       "      <td>NaN</td>\n",
       "      <td>2.76122</td>\n",
       "      <td>0.706476</td>\n",
       "      <td>1</td>\n",
       "      <td>2</td>\n",
       "      <td>3</td>\n",
       "      <td>3</td>\n",
       "      <td>4</td>\n",
       "    </tr>\n",
       "    <tr>\n",
       "      <th>YearsAtCompany</th>\n",
       "      <td>1470</td>\n",
       "      <td>NaN</td>\n",
       "      <td>NaN</td>\n",
       "      <td>NaN</td>\n",
       "      <td>7.00816</td>\n",
       "      <td>6.12653</td>\n",
       "      <td>0</td>\n",
       "      <td>3</td>\n",
       "      <td>5</td>\n",
       "      <td>9</td>\n",
       "      <td>40</td>\n",
       "    </tr>\n",
       "    <tr>\n",
       "      <th>YearsInCurrentRole</th>\n",
       "      <td>1470</td>\n",
       "      <td>NaN</td>\n",
       "      <td>NaN</td>\n",
       "      <td>NaN</td>\n",
       "      <td>4.22925</td>\n",
       "      <td>3.62314</td>\n",
       "      <td>0</td>\n",
       "      <td>2</td>\n",
       "      <td>3</td>\n",
       "      <td>7</td>\n",
       "      <td>18</td>\n",
       "    </tr>\n",
       "    <tr>\n",
       "      <th>YearsSinceLastPromotion</th>\n",
       "      <td>1470</td>\n",
       "      <td>NaN</td>\n",
       "      <td>NaN</td>\n",
       "      <td>NaN</td>\n",
       "      <td>2.18776</td>\n",
       "      <td>3.22243</td>\n",
       "      <td>0</td>\n",
       "      <td>0</td>\n",
       "      <td>1</td>\n",
       "      <td>3</td>\n",
       "      <td>15</td>\n",
       "    </tr>\n",
       "    <tr>\n",
       "      <th>YearsWithCurrManager</th>\n",
       "      <td>1470</td>\n",
       "      <td>NaN</td>\n",
       "      <td>NaN</td>\n",
       "      <td>NaN</td>\n",
       "      <td>4.12313</td>\n",
       "      <td>3.56814</td>\n",
       "      <td>0</td>\n",
       "      <td>2</td>\n",
       "      <td>3</td>\n",
       "      <td>7</td>\n",
       "      <td>17</td>\n",
       "    </tr>\n",
       "  </tbody>\n",
       "</table>\n",
       "</div>"
      ],
      "text/plain": [
       "                         count unique                     top  freq      mean  \\\n",
       "Age                       1470    NaN                     NaN   NaN   36.9238   \n",
       "Attrition                 1470      2                      No  1233       NaN   \n",
       "BusinessTravel            1470      3           Travel_Rarely  1043       NaN   \n",
       "DailyRate                 1470    NaN                     NaN   NaN   802.486   \n",
       "Department                1470      3  Research & Development   961       NaN   \n",
       "DistanceFromHome          1470    NaN                     NaN   NaN   9.19252   \n",
       "Education                 1470    NaN                     NaN   NaN   2.91293   \n",
       "EducationField            1470      6           Life Sciences   606       NaN   \n",
       "EmployeeCount             1470    NaN                     NaN   NaN         1   \n",
       "EmployeeNumber            1470    NaN                     NaN   NaN   1024.87   \n",
       "EnvironmentSatisfaction   1470    NaN                     NaN   NaN   2.72177   \n",
       "Gender                    1470      2                    Male   882       NaN   \n",
       "HourlyRate                1470    NaN                     NaN   NaN   65.8912   \n",
       "JobInvolvement            1470    NaN                     NaN   NaN   2.72993   \n",
       "JobLevel                  1470    NaN                     NaN   NaN   2.06395   \n",
       "JobRole                   1470      9         Sales Executive   326       NaN   \n",
       "JobSatisfaction           1470    NaN                     NaN   NaN   2.72857   \n",
       "MaritalStatus             1470      3                 Married   673       NaN   \n",
       "MonthlyIncome             1470    NaN                     NaN   NaN   6502.93   \n",
       "MonthlyRate               1470    NaN                     NaN   NaN   14313.1   \n",
       "NumCompaniesWorked        1470    NaN                     NaN   NaN    2.6932   \n",
       "Over18                    1470      1                       Y  1470       NaN   \n",
       "OverTime                  1470      2                      No  1054       NaN   \n",
       "PercentSalaryHike         1470    NaN                     NaN   NaN   15.2095   \n",
       "PerformanceRating         1470    NaN                     NaN   NaN   3.15374   \n",
       "RelationshipSatisfaction  1470    NaN                     NaN   NaN   2.71224   \n",
       "StandardHours             1470    NaN                     NaN   NaN        80   \n",
       "StockOptionLevel          1470    NaN                     NaN   NaN  0.793878   \n",
       "TotalWorkingYears         1470    NaN                     NaN   NaN   11.2796   \n",
       "TrainingTimesLastYear     1470    NaN                     NaN   NaN   2.79932   \n",
       "WorkLifeBalance           1470    NaN                     NaN   NaN   2.76122   \n",
       "YearsAtCompany            1470    NaN                     NaN   NaN   7.00816   \n",
       "YearsInCurrentRole        1470    NaN                     NaN   NaN   4.22925   \n",
       "YearsSinceLastPromotion   1470    NaN                     NaN   NaN   2.18776   \n",
       "YearsWithCurrManager      1470    NaN                     NaN   NaN   4.12313   \n",
       "\n",
       "                               std   min     25%      50%      75%    max  \n",
       "Age                        9.13537    18      30       36       43     60  \n",
       "Attrition                      NaN   NaN     NaN      NaN      NaN    NaN  \n",
       "BusinessTravel                 NaN   NaN     NaN      NaN      NaN    NaN  \n",
       "DailyRate                  403.509   102     465      802     1157   1499  \n",
       "Department                     NaN   NaN     NaN      NaN      NaN    NaN  \n",
       "DistanceFromHome           8.10686     1       2        7       14     29  \n",
       "Education                  1.02416     1       2        3        4      5  \n",
       "EducationField                 NaN   NaN     NaN      NaN      NaN    NaN  \n",
       "EmployeeCount                    0     1       1        1        1      1  \n",
       "EmployeeNumber             602.024     1  491.25   1020.5  1555.75   2068  \n",
       "EnvironmentSatisfaction    1.09308     1       2        3        4      4  \n",
       "Gender                         NaN   NaN     NaN      NaN      NaN    NaN  \n",
       "HourlyRate                 20.3294    30      48       66    83.75    100  \n",
       "JobInvolvement            0.711561     1       2        3        3      4  \n",
       "JobLevel                   1.10694     1       1        2        3      5  \n",
       "JobRole                        NaN   NaN     NaN      NaN      NaN    NaN  \n",
       "JobSatisfaction            1.10285     1       2        3        4      4  \n",
       "MaritalStatus                  NaN   NaN     NaN      NaN      NaN    NaN  \n",
       "MonthlyIncome              4707.96  1009    2911     4919     8379  19999  \n",
       "MonthlyRate                7117.79  2094    8047  14235.5  20461.5  26999  \n",
       "NumCompaniesWorked         2.49801     0       1        2        4      9  \n",
       "Over18                         NaN   NaN     NaN      NaN      NaN    NaN  \n",
       "OverTime                       NaN   NaN     NaN      NaN      NaN    NaN  \n",
       "PercentSalaryHike          3.65994    11      12       14       18     25  \n",
       "PerformanceRating         0.360824     3       3        3        3      4  \n",
       "RelationshipSatisfaction   1.08121     1       2        3        4      4  \n",
       "StandardHours                    0    80      80       80       80     80  \n",
       "StockOptionLevel          0.852077     0       0        1        1      3  \n",
       "TotalWorkingYears          7.78078     0       6       10       15     40  \n",
       "TrainingTimesLastYear      1.28927     0       2        3        3      6  \n",
       "WorkLifeBalance           0.706476     1       2        3        3      4  \n",
       "YearsAtCompany             6.12653     0       3        5        9     40  \n",
       "YearsInCurrentRole         3.62314     0       2        3        7     18  \n",
       "YearsSinceLastPromotion    3.22243     0       0        1        3     15  \n",
       "YearsWithCurrManager       3.56814     0       2        3        7     17  "
      ]
     },
     "execution_count": 6,
     "metadata": {},
     "output_type": "execute_result"
    }
   ],
   "source": [
    "df.describe(include = 'all').transpose()"
   ]
  },
  {
   "cell_type": "markdown",
   "metadata": {},
   "source": [
    "<a id='faltantes'></a>\n",
    "### Lidando com dados faltantes"
   ]
  },
  {
   "cell_type": "markdown",
   "metadata": {},
   "source": [
    "Na célula abaixo, verificamos se há valores faltantes."
   ]
  },
  {
   "cell_type": "code",
   "execution_count": 7,
   "metadata": {},
   "outputs": [
    {
     "data": {
      "text/plain": [
       "False"
      ]
     },
     "execution_count": 7,
     "metadata": {},
     "output_type": "execute_result"
    }
   ],
   "source": [
    "df.isna().values.any()"
   ]
  },
  {
   "cell_type": "markdown",
   "metadata": {},
   "source": [
    "Como não há dados faltantes, não temos mais o que fazer nessa seção."
   ]
  },
  {
   "cell_type": "markdown",
   "metadata": {},
   "source": [
    "<a id='dependente'></a>\n",
    "### Reatribuindo valor a variável dependente"
   ]
  },
  {
   "cell_type": "markdown",
   "metadata": {},
   "source": [
    "Existem várias formas fáceis de codificar a transformação de uma váriavel binária. Abaixo está uma delas."
   ]
  },
  {
   "cell_type": "code",
   "execution_count": 8,
   "metadata": {},
   "outputs": [],
   "source": [
    "df['Attrition'] = df['Attrition'].apply(lambda x: 1 if x == 'Yes' else 0)"
   ]
  },
  {
   "cell_type": "markdown",
   "metadata": {},
   "source": [
    "<a id='engineering'></a>\n",
    "# Feature Engineering e Seleção"
   ]
  },
  {
   "cell_type": "markdown",
   "metadata": {},
   "source": [
    "<a id='drop'></a>\n",
    "### Eliminando algumas features"
   ]
  },
  {
   "cell_type": "markdown",
   "metadata": {},
   "source": [
    "Percebemos que algumas colunas (features para nosso futuro modelo) não variam, como *StandardHours*, ou são informações irrelevantes, como o ID do funcionário (*EmployeeNumber*). Logo, iremos removê-las."
   ]
  },
  {
   "cell_type": "code",
   "execution_count": 9,
   "metadata": {},
   "outputs": [],
   "source": [
    "remove = ['EmployeeCount', 'EmployeeNumber', 'Over18', 'StandardHours']\n",
    "df.drop(remove, inplace=True, axis=1)"
   ]
  },
  {
   "cell_type": "markdown",
   "metadata": {},
   "source": [
    "Além das features anteriores, percebemos que algumas outras features, apesar de terem valores que variam, não possuem um significado prático própriamente dito. Por exemplo, *HourlyRate*, *DailyRate* e *MonthlyRate*, que supostamente teriam alguma relação (*DailyRate* equivale a 30 vezes *MonthlyRate*), não apresentam tais relações, como imaginávamos. "
   ]
  },
  {
   "cell_type": "code",
   "execution_count": 10,
   "metadata": {},
   "outputs": [
    {
     "data": {
      "text/html": [
       "<div>\n",
       "<style scoped>\n",
       "    .dataframe tbody tr th:only-of-type {\n",
       "        vertical-align: middle;\n",
       "    }\n",
       "\n",
       "    .dataframe tbody tr th {\n",
       "        vertical-align: top;\n",
       "    }\n",
       "\n",
       "    .dataframe thead th {\n",
       "        text-align: right;\n",
       "    }\n",
       "</style>\n",
       "<table border=\"1\" class=\"dataframe\">\n",
       "  <thead>\n",
       "    <tr style=\"text-align: right;\">\n",
       "      <th></th>\n",
       "      <th>HourlyRate</th>\n",
       "      <th>DailyRate</th>\n",
       "      <th>Hourly_Daily</th>\n",
       "      <th>MonthlyRate</th>\n",
       "      <th>Monthly_Daily</th>\n",
       "    </tr>\n",
       "  </thead>\n",
       "  <tbody>\n",
       "    <tr>\n",
       "      <th>0</th>\n",
       "      <td>94</td>\n",
       "      <td>1102</td>\n",
       "      <td>11.723404</td>\n",
       "      <td>19479</td>\n",
       "      <td>17.676044</td>\n",
       "    </tr>\n",
       "    <tr>\n",
       "      <th>1</th>\n",
       "      <td>61</td>\n",
       "      <td>279</td>\n",
       "      <td>4.573770</td>\n",
       "      <td>24907</td>\n",
       "      <td>89.272401</td>\n",
       "    </tr>\n",
       "    <tr>\n",
       "      <th>2</th>\n",
       "      <td>92</td>\n",
       "      <td>1373</td>\n",
       "      <td>14.923913</td>\n",
       "      <td>2396</td>\n",
       "      <td>1.745084</td>\n",
       "    </tr>\n",
       "    <tr>\n",
       "      <th>3</th>\n",
       "      <td>56</td>\n",
       "      <td>1392</td>\n",
       "      <td>24.857143</td>\n",
       "      <td>23159</td>\n",
       "      <td>16.637213</td>\n",
       "    </tr>\n",
       "    <tr>\n",
       "      <th>4</th>\n",
       "      <td>40</td>\n",
       "      <td>591</td>\n",
       "      <td>14.775000</td>\n",
       "      <td>16632</td>\n",
       "      <td>28.142132</td>\n",
       "    </tr>\n",
       "    <tr>\n",
       "      <th>...</th>\n",
       "      <td>...</td>\n",
       "      <td>...</td>\n",
       "      <td>...</td>\n",
       "      <td>...</td>\n",
       "      <td>...</td>\n",
       "    </tr>\n",
       "    <tr>\n",
       "      <th>1465</th>\n",
       "      <td>41</td>\n",
       "      <td>884</td>\n",
       "      <td>21.560976</td>\n",
       "      <td>12290</td>\n",
       "      <td>13.902715</td>\n",
       "    </tr>\n",
       "    <tr>\n",
       "      <th>1466</th>\n",
       "      <td>42</td>\n",
       "      <td>613</td>\n",
       "      <td>14.595238</td>\n",
       "      <td>21457</td>\n",
       "      <td>35.003263</td>\n",
       "    </tr>\n",
       "    <tr>\n",
       "      <th>1467</th>\n",
       "      <td>87</td>\n",
       "      <td>155</td>\n",
       "      <td>1.781609</td>\n",
       "      <td>5174</td>\n",
       "      <td>33.380645</td>\n",
       "    </tr>\n",
       "    <tr>\n",
       "      <th>1468</th>\n",
       "      <td>63</td>\n",
       "      <td>1023</td>\n",
       "      <td>16.238095</td>\n",
       "      <td>13243</td>\n",
       "      <td>12.945259</td>\n",
       "    </tr>\n",
       "    <tr>\n",
       "      <th>1469</th>\n",
       "      <td>82</td>\n",
       "      <td>628</td>\n",
       "      <td>7.658537</td>\n",
       "      <td>10228</td>\n",
       "      <td>16.286624</td>\n",
       "    </tr>\n",
       "  </tbody>\n",
       "</table>\n",
       "<p>1470 rows × 5 columns</p>\n",
       "</div>"
      ],
      "text/plain": [
       "      HourlyRate  DailyRate  Hourly_Daily  MonthlyRate  Monthly_Daily\n",
       "0             94       1102     11.723404        19479      17.676044\n",
       "1             61        279      4.573770        24907      89.272401\n",
       "2             92       1373     14.923913         2396       1.745084\n",
       "3             56       1392     24.857143        23159      16.637213\n",
       "4             40        591     14.775000        16632      28.142132\n",
       "...          ...        ...           ...          ...            ...\n",
       "1465          41        884     21.560976        12290      13.902715\n",
       "1466          42        613     14.595238        21457      35.003263\n",
       "1467          87        155      1.781609         5174      33.380645\n",
       "1468          63       1023     16.238095        13243      12.945259\n",
       "1469          82        628      7.658537        10228      16.286624\n",
       "\n",
       "[1470 rows x 5 columns]"
      ]
     },
     "execution_count": 10,
     "metadata": {},
     "output_type": "execute_result"
    }
   ],
   "source": [
    "# copiamos o df para testar as relações acima e não modificar o original\n",
    "# que resultaria em termos que limpar as modificações\n",
    "df_copy = df.copy()\n",
    "\n",
    "df_copy['Hourly_Daily'] = df_copy['DailyRate']/df['HourlyRate']\n",
    "df_copy['Monthly_Daily'] = df_copy['MonthlyRate']/df['DailyRate']\n",
    "\n",
    "df_copy[['HourlyRate', 'DailyRate', 'Hourly_Daily', 'MonthlyRate', 'Monthly_Daily']]"
   ]
  },
  {
   "cell_type": "markdown",
   "metadata": {},
   "source": [
    "Portanto, estamos retirando features que não fazem sentido ou possuem uma descrição (ou falta de...), simplificando o dataset que estamos trabalhando."
   ]
  },
  {
   "cell_type": "code",
   "execution_count": 11,
   "metadata": {},
   "outputs": [],
   "source": [
    "remove_2 = ['DailyRate', 'MonthlyRate', 'HourlyRate', 'JobLevel']\n",
    "df.drop(remove_2, inplace=True, axis=1)"
   ]
  },
  {
   "cell_type": "markdown",
   "metadata": {},
   "source": [
    "<a id='encoding'></a>\n",
    "### Encoding das features"
   ]
  },
  {
   "cell_type": "markdown",
   "metadata": {},
   "source": [
    "Percebemos que algumas colunas do data set são categóricas. Criamos uma lista com elas:"
   ]
  },
  {
   "cell_type": "code",
   "execution_count": 12,
   "metadata": {},
   "outputs": [
    {
     "name": "stdout",
     "output_type": "stream",
     "text": [
      "['BusinessTravel', 'Department', 'EducationField', 'Gender', 'JobRole', 'MaritalStatus', 'OverTime']\n"
     ]
    }
   ],
   "source": [
    "cat_variables = [i for i in df if df[i].dtypes == object]\n",
    "print(cat_variables)"
   ]
  },
  {
   "cell_type": "markdown",
   "metadata": {},
   "source": [
    "Usamos o método ```get_dummies``` do pandas para fazer o encoding das categorias de cada feature acima."
   ]
  },
  {
   "cell_type": "code",
   "execution_count": 13,
   "metadata": {},
   "outputs": [],
   "source": [
    "df_cat = pd.get_dummies(df[cat_variables], drop_first=True)"
   ]
  },
  {
   "cell_type": "markdown",
   "metadata": {},
   "source": [
    "<a id='new'></a>\n",
    "### Novas features"
   ]
  },
  {
   "cell_type": "markdown",
   "metadata": {},
   "source": [
    "Observando os dados, percebemos que algumas informações \"extras\" poderiam ser obtidas com o que já tínhamos. "
   ]
  },
  {
   "cell_type": "code",
   "execution_count": 14,
   "metadata": {},
   "outputs": [],
   "source": [
    "df['Stability'] = (df['YearsInCurrentRole'] / df['YearsAtCompany']).apply(pd.to_numeric)\n",
    "df['Fidelity'] = (df['YearsAtCompany'] / df['TotalWorkingYears']).apply(pd.to_numeric)\n",
    "df['OldIncome'] = (df['MonthlyIncome']/(1 + df['PercentSalaryHike']/100)).apply(pd.to_numeric)"
   ]
  },
  {
   "cell_type": "code",
   "execution_count": 15,
   "metadata": {},
   "outputs": [
    {
     "data": {
      "text/plain": [
       "True"
      ]
     },
     "execution_count": 15,
     "metadata": {},
     "output_type": "execute_result"
    }
   ],
   "source": [
    "df.isna().values.any()"
   ]
  },
  {
   "cell_type": "markdown",
   "metadata": {},
   "source": [
    "Isso ocorreu pois temos pessoas que acabaram de entrar na empresa (*YearsAtCompany* = 0)."
   ]
  },
  {
   "cell_type": "code",
   "execution_count": 16,
   "metadata": {},
   "outputs": [
    {
     "data": {
      "text/html": [
       "<div>\n",
       "<style scoped>\n",
       "    .dataframe tbody tr th:only-of-type {\n",
       "        vertical-align: middle;\n",
       "    }\n",
       "\n",
       "    .dataframe tbody tr th {\n",
       "        vertical-align: top;\n",
       "    }\n",
       "\n",
       "    .dataframe thead th {\n",
       "        text-align: right;\n",
       "    }\n",
       "</style>\n",
       "<table border=\"1\" class=\"dataframe\">\n",
       "  <thead>\n",
       "    <tr style=\"text-align: right;\">\n",
       "      <th></th>\n",
       "      <th>Stability</th>\n",
       "      <th>YearsInCurrentRole</th>\n",
       "      <th>YearsAtCompany</th>\n",
       "    </tr>\n",
       "  </thead>\n",
       "  <tbody>\n",
       "    <tr>\n",
       "      <th>0</th>\n",
       "      <td>0.666667</td>\n",
       "      <td>4</td>\n",
       "      <td>6</td>\n",
       "    </tr>\n",
       "    <tr>\n",
       "      <th>1</th>\n",
       "      <td>0.700000</td>\n",
       "      <td>7</td>\n",
       "      <td>10</td>\n",
       "    </tr>\n",
       "    <tr>\n",
       "      <th>2</th>\n",
       "      <td>NaN</td>\n",
       "      <td>0</td>\n",
       "      <td>0</td>\n",
       "    </tr>\n",
       "  </tbody>\n",
       "</table>\n",
       "</div>"
      ],
      "text/plain": [
       "   Stability  YearsInCurrentRole  YearsAtCompany\n",
       "0   0.666667                   4               6\n",
       "1   0.700000                   7              10\n",
       "2        NaN                   0               0"
      ]
     },
     "execution_count": 16,
     "metadata": {},
     "output_type": "execute_result"
    }
   ],
   "source": [
    "df[['Stability', 'YearsInCurrentRole', 'YearsAtCompany']].head(3)"
   ]
  },
  {
   "cell_type": "markdown",
   "metadata": {},
   "source": [
    "Um contorno lógico para esse tipo de situação é igualar esses valoers a zero, pois a pessoa acabou de mudar de empresa."
   ]
  },
  {
   "cell_type": "code",
   "execution_count": 17,
   "metadata": {},
   "outputs": [],
   "source": [
    "df.replace(np.nan, 0, inplace=True)"
   ]
  },
  {
   "cell_type": "markdown",
   "metadata": {},
   "source": [
    "<a id='exploratoria'></a>\n",
    "# Análise Exploratória"
   ]
  },
  {
   "cell_type": "markdown",
   "metadata": {},
   "source": [
    "<a id='correlation'></a>\n",
    "### Matriz de correlação"
   ]
  },
  {
   "cell_type": "code",
   "execution_count": 18,
   "metadata": {},
   "outputs": [
    {
     "data": {
      "text/plain": [
       "<AxesSubplot:>"
      ]
     },
     "execution_count": 18,
     "metadata": {},
     "output_type": "execute_result"
    },
    {
     "data": {
      "image/png": "[encoded data removed]",
      "text/plain": [
       "<Figure size 1080x864 with 2 Axes>"
      ]
     },
     "metadata": {
      "needs_background": "light"
     },
     "output_type": "display_data"
    }
   ],
   "source": [
    "fig, ax = plt.subplots(figsize=(15, 12))\n",
    "df_num = df.drop(cat_variables, axis=1)\n",
    "# mask = np.triu(np.ones_like(df_num.corr(), dtype=bool))\n",
    "sns.heatmap(df_num.corr(), xticklabels=df_num.columns, yticklabels=df_num.columns)"
   ]
  },
  {
   "cell_type": "markdown",
   "metadata": {},
   "source": [
    "Análise básica das correlações:\n",
    "- MonthlyIncome está alta e diretamente correlacionado a TotalWorkingYears.\n",
    "- PerformanceRating está alta e diretamente correlacionado a PercentSalaryHike.\n",
    "- As correlações das variáveis que tratam de anos estão correlacionadas também.\n",
    "\n",
    "Em relação ao nosso alvo, a maioria de suas correlações é indireta e são relações fracas.\n",
    "\n",
    "#### Obs.: existem features colineares nesse dataset, como podemos observar na matriz de correlação anterior. No entanto, a análise e tratamento de casos como esse não são nosso foco nesse projeto. "
   ]
  },
  {
   "cell_type": "code",
   "execution_count": 19,
   "metadata": {},
   "outputs": [
    {
     "data": {
      "image/png": "[encoded data removed]",
      "text/plain": [
       "<Figure size 1440x1440 with 25 Axes>"
      ]
     },
     "metadata": {
      "needs_background": "light"
     },
     "output_type": "display_data"
    }
   ],
   "source": [
    "df_num.hist(figsize=(20,20));"
   ]
  },
  {
   "cell_type": "code",
   "execution_count": 21,
   "metadata": {},
   "outputs": [
    {
     "data": {
      "image/png": "[encoded data removed]",
      "text/plain": [
       "<Figure size 432x288 with 1 Axes>"
      ]
     },
     "metadata": {
      "needs_background": "light"
     },
     "output_type": "display_data"
    },
    {
     "data": {
      "image/png": "[encoded data removed]",
      "text/plain": [
       "<Figure size 432x288 with 1 Axes>"
      ]
     },
     "metadata": {
      "needs_background": "light"
     },
     "output_type": "display_data"
    },
    {
     "data": {
      "image/png": "[encoded data removed]",
      "text/plain": [
       "<Figure size 432x288 with 1 Axes>"
      ]
     },
     "metadata": {
      "needs_background": "light"
     },
     "output_type": "display_data"
    },
    {
     "data": {
      "image/png": "[encoded data removed]",
      "text/plain": [
       "<Figure size 432x288 with 1 Axes>"
      ]
     },
     "metadata": {
      "needs_background": "light"
     },
     "output_type": "display_data"
    },
    {
     "data": {
      "image/png": "[encoded data removed]",
      "text/plain": [
       "<Figure size 432x288 with 1 Axes>"
      ]
     },
     "metadata": {
      "needs_background": "light"
     },
     "output_type": "display_data"
    },
    {
     "data": {
      "image/png": "[encoded data removed]",
      "text/plain": [
       "<Figure size 432x288 with 1 Axes>"
      ]
     },
     "metadata": {
      "needs_background": "light"
     },
     "output_type": "display_data"
    },
    {
     "data": {
      "image/png": "[encoded data removed]",
      "text/plain": [
       "<Figure size 432x288 with 1 Axes>"
      ]
     },
     "metadata": {
      "needs_background": "light"
     },
     "output_type": "display_data"
    },
    {
     "data": {
      "image/png": "[encoded data removed]",
      "text/plain": [
       "<Figure size 432x288 with 1 Axes>"
      ]
     },
     "metadata": {
      "needs_background": "light"
     },
     "output_type": "display_data"
    },
    {
     "data": {
      "image/png": "[encoded data removed]",
      "text/plain": [
       "<Figure size 432x288 with 1 Axes>"
      ]
     },
     "metadata": {
      "needs_background": "light"
     },
     "output_type": "display_data"
    },
    {
     "data": {
      "image/png": "[encoded data removed]",
      "text/plain": [
       "<Figure size 432x288 with 1 Axes>"
      ]
     },
     "metadata": {
      "needs_background": "light"
     },
     "output_type": "display_data"
    },
    {
     "data": {
      "image/png": "[encoded data removed]",
      "text/plain": [
       "<Figure size 432x288 with 1 Axes>"
      ]
     },
     "metadata": {
      "needs_background": "light"
     },
     "output_type": "display_data"
    },
    {
     "data": {
      "image/png": "[encoded data removed]",
      "text/plain": [
       "<Figure size 432x288 with 1 Axes>"
      ]
     },
     "metadata": {
      "needs_background": "light"
     },
     "output_type": "display_data"
    },
    {
     "data": {
      "image/png": "[encoded data removed]",
      "text/plain": [
       "<Figure size 432x288 with 1 Axes>"
      ]
     },
     "metadata": {
      "needs_background": "light"
     },
     "output_type": "display_data"
    },
    {
     "data": {
      "image/png": "[encoded data removed]",
      "text/plain": [
       "<Figure size 432x288 with 1 Axes>"
      ]
     },
     "metadata": {
      "needs_background": "light"
     },
     "output_type": "display_data"
    },
    {
     "data": {
      "image/png": "[encoded data removed]",
      "text/plain": [
       "<Figure size 432x288 with 1 Axes>"
      ]
     },
     "metadata": {
      "needs_background": "light"
     },
     "output_type": "display_data"
    },
    {
     "data": {
      "image/png": "[encoded data removed]",
      "text/plain": [
       "<Figure size 432x288 with 1 Axes>"
      ]
     },
     "metadata": {
      "needs_background": "light"
     },
     "output_type": "display_data"
    },
    {
     "data": {
      "image/png": "[encoded data removed]",
      "text/plain": [
       "<Figure size 432x288 with 1 Axes>"
      ]
     },
     "metadata": {
      "needs_background": "light"
     },
     "output_type": "display_data"
    },
    {
     "data": {
      "image/png": "[encoded data removed]",
      "text/plain": [
       "<Figure size 432x288 with 1 Axes>"
      ]
     },
     "metadata": {
      "needs_background": "light"
     },
     "output_type": "display_data"
    },
    {
     "data": {
      "image/png": "[encoded data removed]",
      "text/plain": [
       "<Figure size 432x288 with 1 Axes>"
      ]
     },
     "metadata": {
      "needs_background": "light"
     },
     "output_type": "display_data"
    },
    {
     "data": {
      "image/png": "[encoded data removed]",
      "text/plain": [
       "<Figure size 432x288 with 1 Axes>"
      ]
     },
     "metadata": {
      "needs_background": "light"
     },
     "output_type": "display_data"
    },
    {
     "data": {
      "image/png": "[encoded data removed]",
      "text/plain": [
       "<Figure size 432x288 with 1 Axes>"
      ]
     },
     "metadata": {
      "needs_background": "light"
     },
     "output_type": "display_data"
    },
    {
     "data": {
      "image/png": "[encoded data removed]",
      "text/plain": [
       "<Figure size 432x288 with 1 Axes>"
      ]
     },
     "metadata": {
      "needs_background": "light"
     },
     "output_type": "display_data"
    },
    {
     "data": {
      "image/png": "[encoded data removed]",
      "text/plain": [
       "<Figure size 432x288 with 1 Axes>"
      ]
     },
     "metadata": {
      "needs_background": "light"
     },
     "output_type": "display_data"
    }
   ],
   "source": [
    "for col in df_num.columns:\n",
    "    ax = sns.boxplot(x=\"Attrition\", y=col, data=df_num)\n",
    "    plt.show()"
   ]
  },
  {
   "cell_type": "code",
   "execution_count": 22,
   "metadata": {
    "scrolled": false
   },
   "outputs": [
    {
     "data": {
      "image/png": "[encoded data removed]",
      "text/plain": [
       "<Figure size 720x720 with 4 Axes>"
      ]
     },
     "metadata": {
      "needs_background": "light"
     },
     "output_type": "display_data"
    }
   ],
   "source": [
    "fig = plt.figure(figsize=(10, 10))\n",
    "plt.subplot(221)\n",
    "ax = sns.boxplot(x=\"Attrition\", y=\"MonthlyIncome\", data=df_num)\n",
    "plt.subplot(222)\n",
    "ax = sns.boxplot(x=\"Attrition\", y=\"YearsSinceLastPromotion\", data=df_num)\n",
    "plt.subplot(223)\n",
    "ax = sns.boxplot(x=\"Attrition\", y=\"TotalWorkingYears\", data=df_num)\n",
    "plt.subplot(224)\n",
    "ax = sns.boxplot(x=\"Attrition\", y=\"YearsAtCompany\", data=df_num)"
   ]
  },
  {
   "cell_type": "code",
   "execution_count": 23,
   "metadata": {},
   "outputs": [
    {
     "data": {
      "text/plain": [
       "<seaborn.axisgrid.FacetGrid at 0x1f34a8dc460>"
      ]
     },
     "execution_count": 23,
     "metadata": {},
     "output_type": "execute_result"
    },
    {
     "data": {
      "image/png": "[encoded data removed]",
      "text/plain": [
       "<Figure size 408.625x360 with 1 Axes>"
      ]
     },
     "metadata": {
      "needs_background": "light"
     },
     "output_type": "display_data"
    }
   ],
   "source": [
    "sns.displot(data=df_num, x=\"Age\", y=\"YearsSinceLastPromotion\", hue='Attrition') #kde=True"
   ]
  },
  {
   "cell_type": "code",
   "execution_count": 24,
   "metadata": {},
   "outputs": [
    {
     "data": {
      "text/plain": [
       "<Figure size 720x720 with 0 Axes>"
      ]
     },
     "metadata": {},
     "output_type": "display_data"
    },
    {
     "data": {
      "image/png": "[encoded data removed]",
      "text/plain": [
       "<Figure size 408.625x360 with 1 Axes>"
      ]
     },
     "metadata": {
      "needs_background": "light"
     },
     "output_type": "display_data"
    },
    {
     "data": {
      "image/png": "[encoded data removed]",
      "text/plain": [
       "<Figure size 408.625x360 with 1 Axes>"
      ]
     },
     "metadata": {
      "needs_background": "light"
     },
     "output_type": "display_data"
    },
    {
     "data": {
      "image/png": "[encoded data removed]",
      "text/plain": [
       "<Figure size 408.625x360 with 1 Axes>"
      ]
     },
     "metadata": {
      "needs_background": "light"
     },
     "output_type": "display_data"
    },
    {
     "data": {
      "image/png": "[encoded data removed]",
      "text/plain": [
       "<Figure size 408.625x360 with 1 Axes>"
      ]
     },
     "metadata": {
      "needs_background": "light"
     },
     "output_type": "display_data"
    }
   ],
   "source": [
    "fig = plt.figure(figsize=(10, 10))\n",
    "sns.displot(data=df_num, x=\"MonthlyIncome\", hue='Attrition', kde=True)\n",
    "plt.show()\n",
    "sns.displot(data=df_num, x=\"YearsSinceLastPromotion\", hue='Attrition', kde=True)\n",
    "plt.show()\n",
    "sns.displot(data=df_num, x=\"TotalWorkingYears\", hue='Attrition', kde=True)\n",
    "plt.show()\n",
    "sns.displot(data=df_num, x=\"YearsAtCompany\", hue='Attrition', kde=True)\n",
    "plt.show()"
   ]
  },
  {
   "cell_type": "markdown",
   "metadata": {},
   "source": [
    "### Recombinando os dados categóricos e numéricos"
   ]
  },
  {
   "cell_type": "code",
   "execution_count": 25,
   "metadata": {},
   "outputs": [
    {
     "data": {
      "text/html": [
       "<div>\n",
       "<style scoped>\n",
       "    .dataframe tbody tr th:only-of-type {\n",
       "        vertical-align: middle;\n",
       "    }\n",
       "\n",
       "    .dataframe tbody tr th {\n",
       "        vertical-align: top;\n",
       "    }\n",
       "\n",
       "    .dataframe thead th {\n",
       "        text-align: right;\n",
       "    }\n",
       "</style>\n",
       "<table border=\"1\" class=\"dataframe\">\n",
       "  <thead>\n",
       "    <tr style=\"text-align: right;\">\n",
       "      <th></th>\n",
       "      <th>Age</th>\n",
       "      <th>Attrition</th>\n",
       "      <th>DistanceFromHome</th>\n",
       "      <th>Education</th>\n",
       "      <th>EnvironmentSatisfaction</th>\n",
       "      <th>JobInvolvement</th>\n",
       "      <th>JobSatisfaction</th>\n",
       "      <th>MonthlyIncome</th>\n",
       "      <th>NumCompaniesWorked</th>\n",
       "      <th>PercentSalaryHike</th>\n",
       "      <th>...</th>\n",
       "      <th>JobRole_Laboratory Technician</th>\n",
       "      <th>JobRole_Manager</th>\n",
       "      <th>JobRole_Manufacturing Director</th>\n",
       "      <th>JobRole_Research Director</th>\n",
       "      <th>JobRole_Research Scientist</th>\n",
       "      <th>JobRole_Sales Executive</th>\n",
       "      <th>JobRole_Sales Representative</th>\n",
       "      <th>MaritalStatus_Married</th>\n",
       "      <th>MaritalStatus_Single</th>\n",
       "      <th>OverTime_Yes</th>\n",
       "    </tr>\n",
       "  </thead>\n",
       "  <tbody>\n",
       "    <tr>\n",
       "      <th>0</th>\n",
       "      <td>41</td>\n",
       "      <td>1</td>\n",
       "      <td>1</td>\n",
       "      <td>2</td>\n",
       "      <td>2</td>\n",
       "      <td>3</td>\n",
       "      <td>4</td>\n",
       "      <td>5993</td>\n",
       "      <td>8</td>\n",
       "      <td>11</td>\n",
       "      <td>...</td>\n",
       "      <td>0</td>\n",
       "      <td>0</td>\n",
       "      <td>0</td>\n",
       "      <td>0</td>\n",
       "      <td>0</td>\n",
       "      <td>1</td>\n",
       "      <td>0</td>\n",
       "      <td>0</td>\n",
       "      <td>1</td>\n",
       "      <td>1</td>\n",
       "    </tr>\n",
       "    <tr>\n",
       "      <th>1</th>\n",
       "      <td>49</td>\n",
       "      <td>0</td>\n",
       "      <td>8</td>\n",
       "      <td>1</td>\n",
       "      <td>3</td>\n",
       "      <td>2</td>\n",
       "      <td>2</td>\n",
       "      <td>5130</td>\n",
       "      <td>1</td>\n",
       "      <td>23</td>\n",
       "      <td>...</td>\n",
       "      <td>0</td>\n",
       "      <td>0</td>\n",
       "      <td>0</td>\n",
       "      <td>0</td>\n",
       "      <td>1</td>\n",
       "      <td>0</td>\n",
       "      <td>0</td>\n",
       "      <td>1</td>\n",
       "      <td>0</td>\n",
       "      <td>0</td>\n",
       "    </tr>\n",
       "    <tr>\n",
       "      <th>2</th>\n",
       "      <td>37</td>\n",
       "      <td>1</td>\n",
       "      <td>2</td>\n",
       "      <td>2</td>\n",
       "      <td>4</td>\n",
       "      <td>2</td>\n",
       "      <td>3</td>\n",
       "      <td>2090</td>\n",
       "      <td>6</td>\n",
       "      <td>15</td>\n",
       "      <td>...</td>\n",
       "      <td>1</td>\n",
       "      <td>0</td>\n",
       "      <td>0</td>\n",
       "      <td>0</td>\n",
       "      <td>0</td>\n",
       "      <td>0</td>\n",
       "      <td>0</td>\n",
       "      <td>0</td>\n",
       "      <td>1</td>\n",
       "      <td>1</td>\n",
       "    </tr>\n",
       "    <tr>\n",
       "      <th>3</th>\n",
       "      <td>33</td>\n",
       "      <td>0</td>\n",
       "      <td>3</td>\n",
       "      <td>4</td>\n",
       "      <td>4</td>\n",
       "      <td>3</td>\n",
       "      <td>3</td>\n",
       "      <td>2909</td>\n",
       "      <td>1</td>\n",
       "      <td>11</td>\n",
       "      <td>...</td>\n",
       "      <td>0</td>\n",
       "      <td>0</td>\n",
       "      <td>0</td>\n",
       "      <td>0</td>\n",
       "      <td>1</td>\n",
       "      <td>0</td>\n",
       "      <td>0</td>\n",
       "      <td>1</td>\n",
       "      <td>0</td>\n",
       "      <td>1</td>\n",
       "    </tr>\n",
       "    <tr>\n",
       "      <th>4</th>\n",
       "      <td>27</td>\n",
       "      <td>0</td>\n",
       "      <td>2</td>\n",
       "      <td>1</td>\n",
       "      <td>1</td>\n",
       "      <td>3</td>\n",
       "      <td>2</td>\n",
       "      <td>3468</td>\n",
       "      <td>9</td>\n",
       "      <td>12</td>\n",
       "      <td>...</td>\n",
       "      <td>1</td>\n",
       "      <td>0</td>\n",
       "      <td>0</td>\n",
       "      <td>0</td>\n",
       "      <td>0</td>\n",
       "      <td>0</td>\n",
       "      <td>0</td>\n",
       "      <td>1</td>\n",
       "      <td>0</td>\n",
       "      <td>0</td>\n",
       "    </tr>\n",
       "    <tr>\n",
       "      <th>...</th>\n",
       "      <td>...</td>\n",
       "      <td>...</td>\n",
       "      <td>...</td>\n",
       "      <td>...</td>\n",
       "      <td>...</td>\n",
       "      <td>...</td>\n",
       "      <td>...</td>\n",
       "      <td>...</td>\n",
       "      <td>...</td>\n",
       "      <td>...</td>\n",
       "      <td>...</td>\n",
       "      <td>...</td>\n",
       "      <td>...</td>\n",
       "      <td>...</td>\n",
       "      <td>...</td>\n",
       "      <td>...</td>\n",
       "      <td>...</td>\n",
       "      <td>...</td>\n",
       "      <td>...</td>\n",
       "      <td>...</td>\n",
       "      <td>...</td>\n",
       "    </tr>\n",
       "    <tr>\n",
       "      <th>1465</th>\n",
       "      <td>36</td>\n",
       "      <td>0</td>\n",
       "      <td>23</td>\n",
       "      <td>2</td>\n",
       "      <td>3</td>\n",
       "      <td>4</td>\n",
       "      <td>4</td>\n",
       "      <td>2571</td>\n",
       "      <td>4</td>\n",
       "      <td>17</td>\n",
       "      <td>...</td>\n",
       "      <td>1</td>\n",
       "      <td>0</td>\n",
       "      <td>0</td>\n",
       "      <td>0</td>\n",
       "      <td>0</td>\n",
       "      <td>0</td>\n",
       "      <td>0</td>\n",
       "      <td>1</td>\n",
       "      <td>0</td>\n",
       "      <td>0</td>\n",
       "    </tr>\n",
       "    <tr>\n",
       "      <th>1466</th>\n",
       "      <td>39</td>\n",
       "      <td>0</td>\n",
       "      <td>6</td>\n",
       "      <td>1</td>\n",
       "      <td>4</td>\n",
       "      <td>2</td>\n",
       "      <td>1</td>\n",
       "      <td>9991</td>\n",
       "      <td>4</td>\n",
       "      <td>15</td>\n",
       "      <td>...</td>\n",
       "      <td>0</td>\n",
       "      <td>0</td>\n",
       "      <td>0</td>\n",
       "      <td>0</td>\n",
       "      <td>0</td>\n",
       "      <td>0</td>\n",
       "      <td>0</td>\n",
       "      <td>1</td>\n",
       "      <td>0</td>\n",
       "      <td>0</td>\n",
       "    </tr>\n",
       "    <tr>\n",
       "      <th>1467</th>\n",
       "      <td>27</td>\n",
       "      <td>0</td>\n",
       "      <td>4</td>\n",
       "      <td>3</td>\n",
       "      <td>2</td>\n",
       "      <td>4</td>\n",
       "      <td>2</td>\n",
       "      <td>6142</td>\n",
       "      <td>1</td>\n",
       "      <td>20</td>\n",
       "      <td>...</td>\n",
       "      <td>0</td>\n",
       "      <td>0</td>\n",
       "      <td>1</td>\n",
       "      <td>0</td>\n",
       "      <td>0</td>\n",
       "      <td>0</td>\n",
       "      <td>0</td>\n",
       "      <td>1</td>\n",
       "      <td>0</td>\n",
       "      <td>1</td>\n",
       "    </tr>\n",
       "    <tr>\n",
       "      <th>1468</th>\n",
       "      <td>49</td>\n",
       "      <td>0</td>\n",
       "      <td>2</td>\n",
       "      <td>3</td>\n",
       "      <td>4</td>\n",
       "      <td>2</td>\n",
       "      <td>2</td>\n",
       "      <td>5390</td>\n",
       "      <td>2</td>\n",
       "      <td>14</td>\n",
       "      <td>...</td>\n",
       "      <td>0</td>\n",
       "      <td>0</td>\n",
       "      <td>0</td>\n",
       "      <td>0</td>\n",
       "      <td>0</td>\n",
       "      <td>1</td>\n",
       "      <td>0</td>\n",
       "      <td>1</td>\n",
       "      <td>0</td>\n",
       "      <td>0</td>\n",
       "    </tr>\n",
       "    <tr>\n",
       "      <th>1469</th>\n",
       "      <td>34</td>\n",
       "      <td>0</td>\n",
       "      <td>8</td>\n",
       "      <td>3</td>\n",
       "      <td>2</td>\n",
       "      <td>4</td>\n",
       "      <td>3</td>\n",
       "      <td>4404</td>\n",
       "      <td>2</td>\n",
       "      <td>12</td>\n",
       "      <td>...</td>\n",
       "      <td>1</td>\n",
       "      <td>0</td>\n",
       "      <td>0</td>\n",
       "      <td>0</td>\n",
       "      <td>0</td>\n",
       "      <td>0</td>\n",
       "      <td>0</td>\n",
       "      <td>1</td>\n",
       "      <td>0</td>\n",
       "      <td>0</td>\n",
       "    </tr>\n",
       "  </tbody>\n",
       "</table>\n",
       "<p>1470 rows × 44 columns</p>\n",
       "</div>"
      ],
      "text/plain": [
       "      Age  Attrition  DistanceFromHome  Education  EnvironmentSatisfaction  \\\n",
       "0      41          1                 1          2                        2   \n",
       "1      49          0                 8          1                        3   \n",
       "2      37          1                 2          2                        4   \n",
       "3      33          0                 3          4                        4   \n",
       "4      27          0                 2          1                        1   \n",
       "...   ...        ...               ...        ...                      ...   \n",
       "1465   36          0                23          2                        3   \n",
       "1466   39          0                 6          1                        4   \n",
       "1467   27          0                 4          3                        2   \n",
       "1468   49          0                 2          3                        4   \n",
       "1469   34          0                 8          3                        2   \n",
       "\n",
       "      JobInvolvement  JobSatisfaction  MonthlyIncome  NumCompaniesWorked  \\\n",
       "0                  3                4           5993                   8   \n",
       "1                  2                2           5130                   1   \n",
       "2                  2                3           2090                   6   \n",
       "3                  3                3           2909                   1   \n",
       "4                  3                2           3468                   9   \n",
       "...              ...              ...            ...                 ...   \n",
       "1465               4                4           2571                   4   \n",
       "1466               2                1           9991                   4   \n",
       "1467               4                2           6142                   1   \n",
       "1468               2                2           5390                   2   \n",
       "1469               4                3           4404                   2   \n",
       "\n",
       "      PercentSalaryHike  ...  JobRole_Laboratory Technician  JobRole_Manager  \\\n",
       "0                    11  ...                              0                0   \n",
       "1                    23  ...                              0                0   \n",
       "2                    15  ...                              1                0   \n",
       "3                    11  ...                              0                0   \n",
       "4                    12  ...                              1                0   \n",
       "...                 ...  ...                            ...              ...   \n",
       "1465                 17  ...                              1                0   \n",
       "1466                 15  ...                              0                0   \n",
       "1467                 20  ...                              0                0   \n",
       "1468                 14  ...                              0                0   \n",
       "1469                 12  ...                              1                0   \n",
       "\n",
       "      JobRole_Manufacturing Director  JobRole_Research Director  \\\n",
       "0                                  0                          0   \n",
       "1                                  0                          0   \n",
       "2                                  0                          0   \n",
       "3                                  0                          0   \n",
       "4                                  0                          0   \n",
       "...                              ...                        ...   \n",
       "1465                               0                          0   \n",
       "1466                               0                          0   \n",
       "1467                               1                          0   \n",
       "1468                               0                          0   \n",
       "1469                               0                          0   \n",
       "\n",
       "      JobRole_Research Scientist  JobRole_Sales Executive  \\\n",
       "0                              0                        1   \n",
       "1                              1                        0   \n",
       "2                              0                        0   \n",
       "3                              1                        0   \n",
       "4                              0                        0   \n",
       "...                          ...                      ...   \n",
       "1465                           0                        0   \n",
       "1466                           0                        0   \n",
       "1467                           0                        0   \n",
       "1468                           0                        1   \n",
       "1469                           0                        0   \n",
       "\n",
       "      JobRole_Sales Representative  MaritalStatus_Married  \\\n",
       "0                                0                      0   \n",
       "1                                0                      1   \n",
       "2                                0                      0   \n",
       "3                                0                      1   \n",
       "4                                0                      1   \n",
       "...                            ...                    ...   \n",
       "1465                             0                      1   \n",
       "1466                             0                      1   \n",
       "1467                             0                      1   \n",
       "1468                             0                      1   \n",
       "1469                             0                      1   \n",
       "\n",
       "      MaritalStatus_Single  OverTime_Yes  \n",
       "0                        1             1  \n",
       "1                        0             0  \n",
       "2                        1             1  \n",
       "3                        0             1  \n",
       "4                        0             0  \n",
       "...                    ...           ...  \n",
       "1465                     0             0  \n",
       "1466                     0             0  \n",
       "1467                     0             1  \n",
       "1468                     0             0  \n",
       "1469                     0             0  \n",
       "\n",
       "[1470 rows x 44 columns]"
      ]
     },
     "execution_count": 25,
     "metadata": {},
     "output_type": "execute_result"
    }
   ],
   "source": [
    "df_prepared = pd.concat([df_num, df_cat], axis=1)\n",
    "df_prepared"
   ]
  },
  {
   "cell_type": "markdown",
   "metadata": {},
   "source": [
    "<a id='desbalanceamento'></a>\n",
    "# Desbalanceamento de dados"
   ]
  },
  {
   "cell_type": "code",
   "execution_count": 26,
   "metadata": {},
   "outputs": [
    {
     "data": {
      "text/plain": [
       "0    1233\n",
       "1     237\n",
       "Name: Attrition, dtype: int64"
      ]
     },
     "execution_count": 26,
     "metadata": {},
     "output_type": "execute_result"
    }
   ],
   "source": [
    "df_prepared['Attrition'].value_counts()"
   ]
  },
  {
   "cell_type": "code",
   "execution_count": 27,
   "metadata": {},
   "outputs": [
    {
     "data": {
      "image/png": "[encoded data removed]",
      "text/plain": [
       "<Figure size 216x216 with 1 Axes>"
      ]
     },
     "metadata": {
      "needs_background": "light"
     },
     "output_type": "display_data"
    }
   ],
   "source": [
    "plotAttritionCount(df_prepared['Attrition'].value_counts(), 'Attrition Count')"
   ]
  },
  {
   "cell_type": "markdown",
   "metadata": {},
   "source": [
    "Como pode ser observado acima os dados estão desbalanceados. Assim, um modelo que chuta não, aplicado nesse dataset, seria muito bom, com uma acurácia de aproximadamente 84%. "
   ]
  },
  {
   "cell_type": "code",
   "execution_count": 28,
   "metadata": {},
   "outputs": [],
   "source": [
    "train_original, test_original = train_test_split(df_prepared, test_size= 0.20, random_state=RANDOM_SEED)\n",
    "\n",
    "X_train_original = train_original.drop('Attrition', axis=1)\n",
    "y_train_original = train_original['Attrition']\n",
    "\n",
    "X_test_original = test_original.drop('Attrition', axis=1)\n",
    "y_test_original = test_original['Attrition']"
   ]
  },
  {
   "cell_type": "markdown",
   "metadata": {},
   "source": [
    "<a id='under'></a>\n",
    "## Under-sampling:"
   ]
  },
  {
   "cell_type": "code",
   "execution_count": 29,
   "metadata": {},
   "outputs": [
    {
     "data": {
      "image/png": "[encoded data removed]",
      "text/plain": [
       "<Figure size 216x216 with 1 Axes>"
      ]
     },
     "metadata": {
      "needs_background": "light"
     },
     "output_type": "display_data"
    }
   ],
   "source": [
    "no_lines = train_original[train_original[\"Attrition\"] == 0]\n",
    "yes_lines = train_original[train_original[\"Attrition\"] == 1]\n",
    "no_random = no_lines.sample(frac = len(yes_lines)/len(no_lines), random_state=RANDOM_SEED)\n",
    "\n",
    "df_prepared_bias_free = yes_lines.append(no_random)\n",
    "\n",
    "plotAttritionCount(df_prepared_bias_free['Attrition'].value_counts(), 'Bias removed by cutting data')"
   ]
  },
  {
   "cell_type": "code",
   "execution_count": 30,
   "metadata": {},
   "outputs": [],
   "source": [
    "y_train = df_prepared_bias_free['Attrition']\n",
    "X_train = df_prepared_bias_free.drop('Attrition', axis=1)"
   ]
  },
  {
   "cell_type": "markdown",
   "metadata": {},
   "source": [
    "<a id='dt_under'></a>\n",
    "### Under-sampling: Decision Tree Classifier"
   ]
  },
  {
   "cell_type": "code",
   "execution_count": 31,
   "metadata": {},
   "outputs": [
    {
     "name": "stdout",
     "output_type": "stream",
     "text": [
      "Accuracy score do modelo:\n",
      "100.00%\n"
     ]
    }
   ],
   "source": [
    "tree_clf = DecisionTreeClassifier(random_state=RANDOM_SEED)\n",
    "\n",
    "tree_clf.fit(X_train, y_train)\n",
    "\n",
    "y_pred_train = tree_clf.predict(X_train)\n",
    "print('Accuracy score do modelo:')\n",
    "prettyPercentagePrint(accuracy_score(y_train, y_pred_train))"
   ]
  },
  {
   "cell_type": "markdown",
   "metadata": {},
   "source": [
    "Opa... Parece que temos um classificador perfeito!!\n",
    "\n",
    "Não é o caso, um dos erros mais comuns de se encontrar em projetos principiantes de machine learning é prever a acurácia do modelo sobre o próprio conjunto de treinamento. Estamos caindo em um caso de overfitting."
   ]
  },
  {
   "cell_type": "code",
   "execution_count": 32,
   "metadata": {},
   "outputs": [
    {
     "name": "stdout",
     "output_type": "stream",
     "text": [
      "Accuracy Score no set de treinamento, usando cross-validation:\n",
      "66.41%\n"
     ]
    }
   ],
   "source": [
    "y_pred_train_dt = cross_val_predict(tree_clf, X_train, y_train, cv=3, n_jobs=-1)\n",
    "print('Accuracy Score no set de treinamento, usando cross-validation:')\n",
    "prettyPercentagePrint(accuracy_score(y_train, y_pred_train_dt))"
   ]
  },
  {
   "cell_type": "code",
   "execution_count": 33,
   "metadata": {},
   "outputs": [
    {
     "name": "stdout",
     "output_type": "stream",
     "text": [
      "Cross Validation Accuracy Scores:\n",
      "69.70%\n",
      "62.88%\n",
      "66.67%\n"
     ]
    }
   ],
   "source": [
    "scores = cross_val_score(tree_clf, X_train, y_train, cv=3, scoring=\"accuracy\", n_jobs=-1)\n",
    "print('Cross Validation Accuracy Scores:')\n",
    "for i in scores:\n",
    "    prettyPercentagePrint(i)"
   ]
  },
  {
   "cell_type": "code",
   "execution_count": 34,
   "metadata": {},
   "outputs": [
    {
     "name": "stdout",
     "output_type": "stream",
     "text": [
      "Accuracy no set de teste original:\n",
      "58.50%\n"
     ]
    }
   ],
   "source": [
    "y_test_pred = tree_clf.predict(X_test_original)\n",
    "print('Accuracy no set de teste original:')\n",
    "prettyPercentagePrint(accuracy_score(y_test_original, y_test_pred))"
   ]
  },
  {
   "cell_type": "markdown",
   "metadata": {},
   "source": [
    "<a id='rf_under'></a>\n",
    "### Under-sampling: Random Forest Classifier"
   ]
  },
  {
   "cell_type": "code",
   "execution_count": 35,
   "metadata": {},
   "outputs": [
    {
     "name": "stdout",
     "output_type": "stream",
     "text": [
      "Accuracy score com overfitting:\n",
      "100.00%\n",
      "Accuracy Score no set de treinamento, usando cross-validation:\n",
      "70.71%\n",
      "Cross Validation Accuracy Scores:\n",
      "70.45%\n",
      "68.94%\n",
      "72.73%\n"
     ]
    }
   ],
   "source": [
    "rf_clf = RandomForestClassifier(random_state=RANDOM_SEED)\n",
    "\n",
    "rf_clf.fit(X_train, y_train)\n",
    "\n",
    "# caso incorreto\n",
    "y_pred_train = rf_clf.predict(X_train)\n",
    "print('Accuracy score com overfitting:')\n",
    "prettyPercentagePrint(accuracy_score(y_train, y_pred_train))\n",
    "\n",
    "# caso adequado\n",
    "y_pred_train_rf = cross_val_predict(rf_clf, X_train, y_train, cv=3, n_jobs=-1)\n",
    "print('Accuracy Score no set de treinamento, usando cross-validation:')\n",
    "prettyPercentagePrint(accuracy_score(y_train, y_pred_train_rf))\n",
    "\n",
    "scores = cross_val_score(rf_clf, X_train, y_train, cv=3, scoring=\"accuracy\", n_jobs=-1)\n",
    "print('Cross Validation Accuracy Scores:')\n",
    "for i in scores:\n",
    "    prettyPercentagePrint(i)"
   ]
  },
  {
   "cell_type": "code",
   "execution_count": 36,
   "metadata": {},
   "outputs": [
    {
     "name": "stdout",
     "output_type": "stream",
     "text": [
      "Accuracy no set de teste original:\n",
      "72.45%\n"
     ]
    }
   ],
   "source": [
    "y_test_pred = rf_clf.predict(X_test_original)\n",
    "print('Accuracy no set de teste original:')\n",
    "prettyPercentagePrint(accuracy_score(y_test_original, y_test_pred))"
   ]
  },
  {
   "cell_type": "markdown",
   "metadata": {},
   "source": [
    "<a id='over'></a>\n",
    "## Over-sampling"
   ]
  },
  {
   "cell_type": "code",
   "execution_count": 37,
   "metadata": {},
   "outputs": [],
   "source": [
    "target = train_original['Attrition']\n",
    "df_final = train_original.drop('Attrition', axis=1)\n",
    "\n",
    "oversampler = SMOTE(random_state=RANDOM_SEED)\n",
    "\n",
    "X_train, y_train = oversampler.fit_sample(df_final, target)"
   ]
  },
  {
   "cell_type": "code",
   "execution_count": 38,
   "metadata": {},
   "outputs": [
    {
     "data": {
      "image/png": "[encoded data removed]",
      "text/plain": [
       "<Figure size 216x216 with 1 Axes>"
      ]
     },
     "metadata": {
      "needs_background": "light"
     },
     "output_type": "display_data"
    }
   ],
   "source": [
    "plotAttritionCount(y_train.value_counts(), 'Bias removed by generating data')"
   ]
  },
  {
   "cell_type": "markdown",
   "metadata": {},
   "source": [
    "<a id='dt_over'></a>\n",
    "### Over-sampling: Decision Tree Classifier"
   ]
  },
  {
   "cell_type": "code",
   "execution_count": 39,
   "metadata": {},
   "outputs": [
    {
     "data": {
      "text/plain": [
       "DecisionTreeClassifier(random_state=42)"
      ]
     },
     "execution_count": 39,
     "metadata": {},
     "output_type": "execute_result"
    }
   ],
   "source": [
    "tree_clf = DecisionTreeClassifier(random_state=RANDOM_SEED)\n",
    "\n",
    "tree_clf.fit(X_train, y_train)"
   ]
  },
  {
   "cell_type": "code",
   "execution_count": 40,
   "metadata": {},
   "outputs": [
    {
     "name": "stdout",
     "output_type": "stream",
     "text": [
      "Accuracy score com overfitting:\n",
      "100.00%\n",
      "Accuracy Score no set de treinamento, usando cross-validation:\n",
      "80.37%\n",
      "Cross Validation Accuracy Scores:\n",
      "72.09%\n",
      "85.58%\n",
      "83.44%\n"
     ]
    }
   ],
   "source": [
    "y_pred_train = tree_clf.predict(X_train)\n",
    "print('Accuracy score com overfitting:')\n",
    "prettyPercentagePrint(accuracy_score(y_train, y_pred_train))\n",
    "\n",
    "y_pred_train = cross_val_predict(tree_clf, X_train, y_train, cv=3, n_jobs=-1)\n",
    "print('Accuracy Score no set de treinamento, usando cross-validation:')\n",
    "prettyPercentagePrint(accuracy_score(y_train, y_pred_train))\n",
    "\n",
    "scores = cross_val_score(tree_clf, X_train, y_train, cv=3, scoring=\"accuracy\", n_jobs=-1)\n",
    "print('Cross Validation Accuracy Scores:')\n",
    "for i in scores:\n",
    "    prettyPercentagePrint(i)"
   ]
  },
  {
   "cell_type": "code",
   "execution_count": 41,
   "metadata": {},
   "outputs": [
    {
     "name": "stdout",
     "output_type": "stream",
     "text": [
      "Accuracy no set de teste original:\n",
      "75.51%\n"
     ]
    }
   ],
   "source": [
    "y_test_pred = tree_clf.predict(X_test_original)\n",
    "print('Accuracy no set de teste original:')\n",
    "prettyPercentagePrint(accuracy_score(y_test_original, y_test_pred))"
   ]
  },
  {
   "cell_type": "markdown",
   "metadata": {},
   "source": [
    "<a id='rf_over'></a>\n",
    "### Over-sampling: Random Forest Classifier"
   ]
  },
  {
   "cell_type": "code",
   "execution_count": 42,
   "metadata": {},
   "outputs": [
    {
     "name": "stdout",
     "output_type": "stream",
     "text": [
      "Accuracy score com overfitting:\n",
      "100.00%\n",
      "Accuracy Score no set de treinamento, usando cross-validation:\n",
      "89.47%\n",
      "Cross Validation Accuracy Scores:\n",
      "79.14%\n",
      "95.25%\n",
      "94.02%\n"
     ]
    }
   ],
   "source": [
    "rf_clf = RandomForestClassifier(random_state=RANDOM_SEED)\n",
    "\n",
    "rf_clf.fit(X_train, y_train)\n",
    "\n",
    "# caso incorreto\n",
    "y_pred_train = rf_clf.predict(X_train)\n",
    "print('Accuracy score com overfitting:')\n",
    "prettyPercentagePrint(accuracy_score(y_train, y_pred_train))\n",
    "\n",
    "# caso adequado\n",
    "y_pred_train_rf = cross_val_predict(rf_clf, X_train, y_train, cv=3, n_jobs=-1)\n",
    "print('Accuracy Score no set de treinamento, usando cross-validation:')\n",
    "prettyPercentagePrint(accuracy_score(y_train, y_pred_train_rf))\n",
    "\n",
    "scores = cross_val_score(rf_clf, X_train, y_train, cv=3, scoring=\"accuracy\", n_jobs=-1)\n",
    "print('Cross Validation Accuracy Scores:')\n",
    "for i in scores:\n",
    "    prettyPercentagePrint(i)"
   ]
  },
  {
   "cell_type": "code",
   "execution_count": 43,
   "metadata": {},
   "outputs": [
    {
     "name": "stdout",
     "output_type": "stream",
     "text": [
      "Accuracy no set de teste original:\n",
      "88.44%\n"
     ]
    }
   ],
   "source": [
    "y_test_pred = rf_clf.predict(X_test_original)\n",
    "print('Accuracy no set de teste original:')\n",
    "prettyPercentagePrint(accuracy_score(y_test_original, y_test_pred))"
   ]
  }
 ],
 "metadata": {
  "kernelspec": {
   "display_name": "Python 3",
   "language": "python",
   "name": "python3"
  },
  "language_info": {
   "codemirror_mode": {
    "name": "ipython",
    "version": 3
   },
   "file_extension": ".py",
   "mimetype": "text/x-python",
   "name": "python",
   "nbconvert_exporter": "python",
   "pygments_lexer": "ipython3",
   "version": "3.8.6"
  }
 },
 "nbformat": 4,
 "nbformat_minor": 4
}
