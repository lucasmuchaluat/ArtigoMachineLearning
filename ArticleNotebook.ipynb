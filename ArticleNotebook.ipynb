{
 "cells": [
  {
   "cell_type": "markdown",
   "metadata": {},
   "source": [
    "Validar new features\n",
    "\n",
    "Perguntar da definição de variáveis\n",
    "\n",
    "features colineares\n",
    "\n",
    "\n",
    "\n",
    "transformação não linear (traçar histograma da feature e talvez colocar log → deixa mais gaussiano facilita modelo)\n",
    "\n",
    "identificação de outliers e limites do modelo\n"
   ]
  },
  {
   "cell_type": "markdown",
   "metadata": {},
   "source": [
    "## Conteúdos:\n",
    "\n",
    "- ### 1.0:\n",
    "    - 1.1 [Requisitos](#requisitos)\n",
    "    - 1.2 [Imports](#imports)\n",
    "    - 1.3 [Funções Auxiliares](#auxiliares)\n",
    "    - 1.4 [Leitura dos dados](#leitura)\n",
    "    - 1.5 [Lidando com dados faltantes](#faltantes)\n",
    "    - 1.6 [Reatribuindo valor a variável dependente](#dependente)\n",
    "    \n",
    "- ### XX:\n",
    "    - x.x: [Desbalanceamento de dados](#desbalanceamento)"
   ]
  },
  {
   "cell_type": "markdown",
   "metadata": {},
   "source": [
    "# 1.0"
   ]
  },
  {
   "cell_type": "markdown",
   "metadata": {},
   "source": [
    "<a id='requisitos'></a>\n",
    "#### Pacotes Python Utilizados:\n",
    "\n",
    "- ```pip install pandas```\n",
    "- ```pip install seaborn```\n",
    "- ```pip install imblearn```\n",
    "- ```pip install sklearn```\n",
    "\n",
    "#### Atualizando, caso necessário\n",
    "- ```pip install -U pandas seaborn imblearn sklearn```"
   ]
  },
  {
   "cell_type": "markdown",
   "metadata": {},
   "source": [
    "<a id='imports'></a>\n",
    "### Imports"
   ]
  },
  {
   "cell_type": "code",
   "execution_count": 1,
   "metadata": {},
   "outputs": [],
   "source": [
    "# utils\n",
    "import pandas as pd\n",
    "import seaborn as sns\n",
    "import matplotlib.pyplot as plt\n",
    "import numpy as np\n",
    "# preprocessing\n",
    "from imblearn.over_sampling import SMOTE\n",
    "from sklearn.model_selection import train_test_split\n",
    "from sklearn.preprocessing import StandardScaler\n",
    "from sklearn.pipeline import Pipeline\n",
    "# classifiers\n",
    "from sklearn.ensemble import RandomForestClassifier\n",
    "from sklearn.tree import DecisionTreeClassifier\n",
    "# evaluation\n",
    "from sklearn.model_selection import cross_val_predict\n",
    "from sklearn.metrics import accuracy_score\n",
    "from sklearn.model_selection import cross_val_score\n",
    "# mantém a replicabilidade do notebook\n",
    "RANDOM_SEED = 42"
   ]
  },
  {
   "cell_type": "markdown",
   "metadata": {},
   "source": [
    "<a id='auxiliares'></a>\n",
    "### Funções Auxiliares"
   ]
  },
  {
   "cell_type": "code",
   "execution_count": 2,
   "metadata": {},
   "outputs": [],
   "source": [
    "def plotAttritionCount(value_counts, title, labels=['No', 'Yes']):\n",
    "    x = np.arange(len(labels))\n",
    "    fig, ax = plt.subplots(figsize=[3,3])\n",
    "    rects1 = ax.bar(x, value_counts, color=['red', 'green'])\n",
    "    ax.set_title(title)\n",
    "    ax.set_xticks(x)\n",
    "    ax.set_xticklabels(labels)\n",
    "    plt.plot();\n",
    "    \n",
    "def prettyPercentagePrint(value):\n",
    "    print(\"{:.2%}\".format(value))"
   ]
  },
  {
   "cell_type": "markdown",
   "metadata": {},
   "source": [
    "<a id='leitura'></a>\n",
    "### Leitura dos dados"
   ]
  },
  {
   "cell_type": "code",
   "execution_count": 3,
   "metadata": {},
   "outputs": [
    {
     "data": {
      "text/html": [
       "<div>\n",
       "<style scoped>\n",
       "    .dataframe tbody tr th:only-of-type {\n",
       "        vertical-align: middle;\n",
       "    }\n",
       "\n",
       "    .dataframe tbody tr th {\n",
       "        vertical-align: top;\n",
       "    }\n",
       "\n",
       "    .dataframe thead th {\n",
       "        text-align: right;\n",
       "    }\n",
       "</style>\n",
       "<table border=\"1\" class=\"dataframe\">\n",
       "  <thead>\n",
       "    <tr style=\"text-align: right;\">\n",
       "      <th></th>\n",
       "      <th>Age</th>\n",
       "      <th>Attrition</th>\n",
       "      <th>BusinessTravel</th>\n",
       "      <th>DailyRate</th>\n",
       "      <th>Department</th>\n",
       "      <th>DistanceFromHome</th>\n",
       "      <th>Education</th>\n",
       "      <th>EducationField</th>\n",
       "      <th>EmployeeCount</th>\n",
       "      <th>EmployeeNumber</th>\n",
       "      <th>...</th>\n",
       "      <th>RelationshipSatisfaction</th>\n",
       "      <th>StandardHours</th>\n",
       "      <th>StockOptionLevel</th>\n",
       "      <th>TotalWorkingYears</th>\n",
       "      <th>TrainingTimesLastYear</th>\n",
       "      <th>WorkLifeBalance</th>\n",
       "      <th>YearsAtCompany</th>\n",
       "      <th>YearsInCurrentRole</th>\n",
       "      <th>YearsSinceLastPromotion</th>\n",
       "      <th>YearsWithCurrManager</th>\n",
       "    </tr>\n",
       "  </thead>\n",
       "  <tbody>\n",
       "    <tr>\n",
       "      <th>0</th>\n",
       "      <td>41</td>\n",
       "      <td>Yes</td>\n",
       "      <td>Travel_Rarely</td>\n",
       "      <td>1102</td>\n",
       "      <td>Sales</td>\n",
       "      <td>1</td>\n",
       "      <td>2</td>\n",
       "      <td>Life Sciences</td>\n",
       "      <td>1</td>\n",
       "      <td>1</td>\n",
       "      <td>...</td>\n",
       "      <td>1</td>\n",
       "      <td>80</td>\n",
       "      <td>0</td>\n",
       "      <td>8</td>\n",
       "      <td>0</td>\n",
       "      <td>1</td>\n",
       "      <td>6</td>\n",
       "      <td>4</td>\n",
       "      <td>0</td>\n",
       "      <td>5</td>\n",
       "    </tr>\n",
       "    <tr>\n",
       "      <th>1</th>\n",
       "      <td>49</td>\n",
       "      <td>No</td>\n",
       "      <td>Travel_Frequently</td>\n",
       "      <td>279</td>\n",
       "      <td>Research &amp; Development</td>\n",
       "      <td>8</td>\n",
       "      <td>1</td>\n",
       "      <td>Life Sciences</td>\n",
       "      <td>1</td>\n",
       "      <td>2</td>\n",
       "      <td>...</td>\n",
       "      <td>4</td>\n",
       "      <td>80</td>\n",
       "      <td>1</td>\n",
       "      <td>10</td>\n",
       "      <td>3</td>\n",
       "      <td>3</td>\n",
       "      <td>10</td>\n",
       "      <td>7</td>\n",
       "      <td>1</td>\n",
       "      <td>7</td>\n",
       "    </tr>\n",
       "    <tr>\n",
       "      <th>2</th>\n",
       "      <td>37</td>\n",
       "      <td>Yes</td>\n",
       "      <td>Travel_Rarely</td>\n",
       "      <td>1373</td>\n",
       "      <td>Research &amp; Development</td>\n",
       "      <td>2</td>\n",
       "      <td>2</td>\n",
       "      <td>Other</td>\n",
       "      <td>1</td>\n",
       "      <td>4</td>\n",
       "      <td>...</td>\n",
       "      <td>2</td>\n",
       "      <td>80</td>\n",
       "      <td>0</td>\n",
       "      <td>7</td>\n",
       "      <td>3</td>\n",
       "      <td>3</td>\n",
       "      <td>0</td>\n",
       "      <td>0</td>\n",
       "      <td>0</td>\n",
       "      <td>0</td>\n",
       "    </tr>\n",
       "    <tr>\n",
       "      <th>3</th>\n",
       "      <td>33</td>\n",
       "      <td>No</td>\n",
       "      <td>Travel_Frequently</td>\n",
       "      <td>1392</td>\n",
       "      <td>Research &amp; Development</td>\n",
       "      <td>3</td>\n",
       "      <td>4</td>\n",
       "      <td>Life Sciences</td>\n",
       "      <td>1</td>\n",
       "      <td>5</td>\n",
       "      <td>...</td>\n",
       "      <td>3</td>\n",
       "      <td>80</td>\n",
       "      <td>0</td>\n",
       "      <td>8</td>\n",
       "      <td>3</td>\n",
       "      <td>3</td>\n",
       "      <td>8</td>\n",
       "      <td>7</td>\n",
       "      <td>3</td>\n",
       "      <td>0</td>\n",
       "    </tr>\n",
       "    <tr>\n",
       "      <th>4</th>\n",
       "      <td>27</td>\n",
       "      <td>No</td>\n",
       "      <td>Travel_Rarely</td>\n",
       "      <td>591</td>\n",
       "      <td>Research &amp; Development</td>\n",
       "      <td>2</td>\n",
       "      <td>1</td>\n",
       "      <td>Medical</td>\n",
       "      <td>1</td>\n",
       "      <td>7</td>\n",
       "      <td>...</td>\n",
       "      <td>4</td>\n",
       "      <td>80</td>\n",
       "      <td>1</td>\n",
       "      <td>6</td>\n",
       "      <td>3</td>\n",
       "      <td>3</td>\n",
       "      <td>2</td>\n",
       "      <td>2</td>\n",
       "      <td>2</td>\n",
       "      <td>2</td>\n",
       "    </tr>\n",
       "  </tbody>\n",
       "</table>\n",
       "<p>5 rows × 35 columns</p>\n",
       "</div>"
      ],
      "text/plain": [
       "   Age Attrition     BusinessTravel  DailyRate              Department  \\\n",
       "0   41       Yes      Travel_Rarely       1102                   Sales   \n",
       "1   49        No  Travel_Frequently        279  Research & Development   \n",
       "2   37       Yes      Travel_Rarely       1373  Research & Development   \n",
       "3   33        No  Travel_Frequently       1392  Research & Development   \n",
       "4   27        No      Travel_Rarely        591  Research & Development   \n",
       "\n",
       "   DistanceFromHome  Education EducationField  EmployeeCount  EmployeeNumber  \\\n",
       "0                 1          2  Life Sciences              1               1   \n",
       "1                 8          1  Life Sciences              1               2   \n",
       "2                 2          2          Other              1               4   \n",
       "3                 3          4  Life Sciences              1               5   \n",
       "4                 2          1        Medical              1               7   \n",
       "\n",
       "   ...  RelationshipSatisfaction StandardHours  StockOptionLevel  \\\n",
       "0  ...                         1            80                 0   \n",
       "1  ...                         4            80                 1   \n",
       "2  ...                         2            80                 0   \n",
       "3  ...                         3            80                 0   \n",
       "4  ...                         4            80                 1   \n",
       "\n",
       "   TotalWorkingYears  TrainingTimesLastYear WorkLifeBalance  YearsAtCompany  \\\n",
       "0                  8                      0               1               6   \n",
       "1                 10                      3               3              10   \n",
       "2                  7                      3               3               0   \n",
       "3                  8                      3               3               8   \n",
       "4                  6                      3               3               2   \n",
       "\n",
       "  YearsInCurrentRole  YearsSinceLastPromotion  YearsWithCurrManager  \n",
       "0                  4                        0                     5  \n",
       "1                  7                        1                     7  \n",
       "2                  0                        0                     0  \n",
       "3                  7                        3                     0  \n",
       "4                  2                        2                     2  \n",
       "\n",
       "[5 rows x 35 columns]"
      ]
     },
     "execution_count": 3,
     "metadata": {},
     "output_type": "execute_result"
    }
   ],
   "source": [
    "df = pd.read_csv(\"WA_Fn-UseC_-HR-Employee-Attrition.csv\")\n",
    "df.head()"
   ]
  },
  {
   "cell_type": "code",
   "execution_count": 4,
   "metadata": {},
   "outputs": [
    {
     "data": {
      "text/plain": [
       "Index(['Age', 'Attrition', 'BusinessTravel', 'DailyRate', 'Department',\n",
       "       'DistanceFromHome', 'Education', 'EducationField', 'EmployeeCount',\n",
       "       'EmployeeNumber', 'EnvironmentSatisfaction', 'Gender', 'HourlyRate',\n",
       "       'JobInvolvement', 'JobLevel', 'JobRole', 'JobSatisfaction',\n",
       "       'MaritalStatus', 'MonthlyIncome', 'MonthlyRate', 'NumCompaniesWorked',\n",
       "       'Over18', 'OverTime', 'PercentSalaryHike', 'PerformanceRating',\n",
       "       'RelationshipSatisfaction', 'StandardHours', 'StockOptionLevel',\n",
       "       'TotalWorkingYears', 'TrainingTimesLastYear', 'WorkLifeBalance',\n",
       "       'YearsAtCompany', 'YearsInCurrentRole', 'YearsSinceLastPromotion',\n",
       "       'YearsWithCurrManager'],\n",
       "      dtype='object')"
      ]
     },
     "execution_count": 4,
     "metadata": {},
     "output_type": "execute_result"
    }
   ],
   "source": [
    "df.columns"
   ]
  },
  {
   "cell_type": "code",
   "execution_count": 5,
   "metadata": {},
   "outputs": [],
   "source": [
    "description = {'Age': 'idade do funcionário', \n",
    "               'Attrition': 'perda de funcionários que uma empresa sofreu por determinados motivos',\n",
    "               'BusinessTravel': 'frequência de viagens do funcionário',\n",
    "               'DailyRate': '', \n",
    "               'Department': 'departamento em que o funcionário atua',\n",
    "               'DistanceFromHome': 'distância do local de trabalho e de onde mora o funcionário',\n",
    "               'Education': 'nível de escolaridade do funcionário',\n",
    "               'EducationField': 'área em que o funcionário se formou',\n",
    "               'EmployeeCount': '',\n",
    "               'EmployeeNumber': 'ID do funcionário',\n",
    "               'EnvironmentSatisfaction': 'satisfação com o ambiente de trabalho',\n",
    "               'Gender': 'gênero do funcionário',\n",
    "               'HourlyRate': '',\n",
    "               'JobInvolvement': 'quanto o funcionário está envolvido no trabalho',\n",
    "               'JobLevel': '',\n",
    "               'JobRole': 'área na qual trabalha',\n",
    "               'JobSatisfaction': 'satisfação com o trabalho',\n",
    "               'MaritalStatus': 'estado civil',\n",
    "               'MonthlyIncome': 'salário mensal',\n",
    "               'MonthlyRate': '',\n",
    "               'NumCompaniesWorked': 'número de empresas que já trabalhou',\n",
    "               'Over18': 'se o funcionário tem mais de 18 anos',\n",
    "               'OverTime': 'trabalhou horas extras',\n",
    "               'PercentSalaryHike': 'porcentagem de variação do salário de um ano pra outro',\n",
    "               'PerformanceRating': 'performance do indivíduo',\n",
    "               'RelationshipSatisfaction': 'satisfação com relações entre colegas',\n",
    "               'StandardHours': 'jornada de trabalho',\n",
    "               'StockOptionLevel': 'nível de stocks do funcionário',\n",
    "               'TotalWorkingYears': 'total de anos trabalhados',\n",
    "               'TrainingTimesLastYear': 'quantidade de mentorias no ano anterior',\n",
    "               'WorkLifeBalance': 'nível de balanço entre trabalho e vida pessoal',\n",
    "               'YearsAtCompany': 'total de anos na empresa', \n",
    "               'YearsInCurrentRole': 'total de anos no cargo atual', \n",
    "               'YearsSinceLastPromotion': 'quantidade de anos desde a última promoção',\n",
    "               'YearsWithCurrManager': 'total de anos trabalhando com o mesmo gerente'\n",
    "              }"
   ]
  },
  {
   "cell_type": "code",
   "execution_count": 6,
   "metadata": {},
   "outputs": [
    {
     "name": "stdout",
     "output_type": "stream",
     "text": [
      "Age: idade do funcionário\n",
      "Attrition: perda de funcionários que uma empresa sofreu por determinados motivos\n",
      "BusinessTravel: frequência de viagens do funcionário\n",
      "DailyRate: \n",
      "Department: departamento em que o funcionário atua\n",
      "DistanceFromHome: distância do local de trabalho e de onde mora o funcionário\n",
      "Education: nível de escolaridade do funcionário\n",
      "EducationField: área em que o funcionário se formou\n",
      "EmployeeCount: \n",
      "EmployeeNumber: ID do funcionário\n",
      "EnvironmentSatisfaction: satisfação com o ambiente de trabalho\n",
      "Gender: gênero do funcionário\n",
      "HourlyRate: \n",
      "JobInvolvement: quanto o funcionário está envolvido no trabalho\n",
      "JobLevel: \n",
      "JobRole: área na qual trabalha\n",
      "JobSatisfaction: satisfação com o trabalho\n",
      "MaritalStatus: estado civil\n",
      "MonthlyIncome: salário mensal\n",
      "MonthlyRate: \n",
      "NumCompaniesWorked: número de empresas que já trabalhou\n",
      "Over18: se o funcionário tem mais de 18 anos\n",
      "OverTime: trabalhou horas extras\n",
      "PercentSalaryHike: porcentagem de variação do salário de um ano pra outro\n",
      "PerformanceRating: performance do indivíduo\n",
      "RelationshipSatisfaction: satisfação com relações entre colegas\n",
      "StandardHours: jornada de trabalho\n",
      "StockOptionLevel: nível de stocks do funcionário\n",
      "TotalWorkingYears: total de anos trabalhados\n",
      "TrainingTimesLastYear: quantidade de mentorias no ano anterior\n",
      "WorkLifeBalance: nível de balanço entre trabalho e vida pessoal\n",
      "YearsAtCompany: total de anos na empresa\n",
      "YearsInCurrentRole: total de anos no cargo atual\n",
      "YearsSinceLastPromotion: quantidade de anos desde a última promoção\n",
      "YearsWithCurrManager: total de anos trabalhando com o mesmo gerente\n"
     ]
    }
   ],
   "source": [
    "for i in df.columns:\n",
    "    print(f\"{i}: {description[i]}\")"
   ]
  },
  {
   "cell_type": "markdown",
   "metadata": {},
   "source": [
    "Vale destacar que *Education*, *EnvironmentSatisfaction*, *JobInvolvement*, *JobSatisfaction*, *PerformanceRating*, *RelationshipSatisfaction* e *WorkLifeBalance* são ordinais, ou seja é possível ordená-las como números:\n",
    "\n",
    "|   | Education     |\n",
    "|---|---------------|\n",
    "| 1 | Below College |\n",
    "| 2 | College       | \n",
    "| 3 | Bachelor   |\n",
    "| 4 | Master   | \n",
    "| 5 | Doctor   |"
   ]
  },
  {
   "cell_type": "markdown",
   "metadata": {},
   "source": [
    "- Attrition: nosso alvo (\"No\" = 0, \"Yes\" = 1);\n",
    "- BusinessTravel: frequência de viagens do funcionário;\n",
    "- Age: idade do funcionário\n",
    "- DailyRate:\n",
    "- EmployeeNumber: ID único do funcionário\n",
    "- EmployeeCount: "
   ]
  },
  {
   "cell_type": "code",
   "execution_count": 7,
   "metadata": {},
   "outputs": [
    {
     "data": {
      "text/html": [
       "<div>\n",
       "<style scoped>\n",
       "    .dataframe tbody tr th:only-of-type {\n",
       "        vertical-align: middle;\n",
       "    }\n",
       "\n",
       "    .dataframe tbody tr th {\n",
       "        vertical-align: top;\n",
       "    }\n",
       "\n",
       "    .dataframe thead th {\n",
       "        text-align: right;\n",
       "    }\n",
       "</style>\n",
       "<table border=\"1\" class=\"dataframe\">\n",
       "  <thead>\n",
       "    <tr style=\"text-align: right;\">\n",
       "      <th></th>\n",
       "      <th>Age</th>\n",
       "      <th>Attrition</th>\n",
       "      <th>BusinessTravel</th>\n",
       "      <th>DailyRate</th>\n",
       "      <th>Department</th>\n",
       "      <th>DistanceFromHome</th>\n",
       "      <th>Education</th>\n",
       "      <th>EducationField</th>\n",
       "      <th>EmployeeCount</th>\n",
       "      <th>EmployeeNumber</th>\n",
       "      <th>...</th>\n",
       "      <th>RelationshipSatisfaction</th>\n",
       "      <th>StandardHours</th>\n",
       "      <th>StockOptionLevel</th>\n",
       "      <th>TotalWorkingYears</th>\n",
       "      <th>TrainingTimesLastYear</th>\n",
       "      <th>WorkLifeBalance</th>\n",
       "      <th>YearsAtCompany</th>\n",
       "      <th>YearsInCurrentRole</th>\n",
       "      <th>YearsSinceLastPromotion</th>\n",
       "      <th>YearsWithCurrManager</th>\n",
       "    </tr>\n",
       "  </thead>\n",
       "  <tbody>\n",
       "    <tr>\n",
       "      <th>count</th>\n",
       "      <td>1470.000000</td>\n",
       "      <td>1470</td>\n",
       "      <td>1470</td>\n",
       "      <td>1470.000000</td>\n",
       "      <td>1470</td>\n",
       "      <td>1470.000000</td>\n",
       "      <td>1470.000000</td>\n",
       "      <td>1470</td>\n",
       "      <td>1470.0</td>\n",
       "      <td>1470.000000</td>\n",
       "      <td>...</td>\n",
       "      <td>1470.000000</td>\n",
       "      <td>1470.0</td>\n",
       "      <td>1470.000000</td>\n",
       "      <td>1470.000000</td>\n",
       "      <td>1470.000000</td>\n",
       "      <td>1470.000000</td>\n",
       "      <td>1470.000000</td>\n",
       "      <td>1470.000000</td>\n",
       "      <td>1470.000000</td>\n",
       "      <td>1470.000000</td>\n",
       "    </tr>\n",
       "    <tr>\n",
       "      <th>unique</th>\n",
       "      <td>NaN</td>\n",
       "      <td>2</td>\n",
       "      <td>3</td>\n",
       "      <td>NaN</td>\n",
       "      <td>3</td>\n",
       "      <td>NaN</td>\n",
       "      <td>NaN</td>\n",
       "      <td>6</td>\n",
       "      <td>NaN</td>\n",
       "      <td>NaN</td>\n",
       "      <td>...</td>\n",
       "      <td>NaN</td>\n",
       "      <td>NaN</td>\n",
       "      <td>NaN</td>\n",
       "      <td>NaN</td>\n",
       "      <td>NaN</td>\n",
       "      <td>NaN</td>\n",
       "      <td>NaN</td>\n",
       "      <td>NaN</td>\n",
       "      <td>NaN</td>\n",
       "      <td>NaN</td>\n",
       "    </tr>\n",
       "    <tr>\n",
       "      <th>top</th>\n",
       "      <td>NaN</td>\n",
       "      <td>No</td>\n",
       "      <td>Travel_Rarely</td>\n",
       "      <td>NaN</td>\n",
       "      <td>Research &amp; Development</td>\n",
       "      <td>NaN</td>\n",
       "      <td>NaN</td>\n",
       "      <td>Life Sciences</td>\n",
       "      <td>NaN</td>\n",
       "      <td>NaN</td>\n",
       "      <td>...</td>\n",
       "      <td>NaN</td>\n",
       "      <td>NaN</td>\n",
       "      <td>NaN</td>\n",
       "      <td>NaN</td>\n",
       "      <td>NaN</td>\n",
       "      <td>NaN</td>\n",
       "      <td>NaN</td>\n",
       "      <td>NaN</td>\n",
       "      <td>NaN</td>\n",
       "      <td>NaN</td>\n",
       "    </tr>\n",
       "    <tr>\n",
       "      <th>freq</th>\n",
       "      <td>NaN</td>\n",
       "      <td>1233</td>\n",
       "      <td>1043</td>\n",
       "      <td>NaN</td>\n",
       "      <td>961</td>\n",
       "      <td>NaN</td>\n",
       "      <td>NaN</td>\n",
       "      <td>606</td>\n",
       "      <td>NaN</td>\n",
       "      <td>NaN</td>\n",
       "      <td>...</td>\n",
       "      <td>NaN</td>\n",
       "      <td>NaN</td>\n",
       "      <td>NaN</td>\n",
       "      <td>NaN</td>\n",
       "      <td>NaN</td>\n",
       "      <td>NaN</td>\n",
       "      <td>NaN</td>\n",
       "      <td>NaN</td>\n",
       "      <td>NaN</td>\n",
       "      <td>NaN</td>\n",
       "    </tr>\n",
       "    <tr>\n",
       "      <th>mean</th>\n",
       "      <td>36.923810</td>\n",
       "      <td>NaN</td>\n",
       "      <td>NaN</td>\n",
       "      <td>802.485714</td>\n",
       "      <td>NaN</td>\n",
       "      <td>9.192517</td>\n",
       "      <td>2.912925</td>\n",
       "      <td>NaN</td>\n",
       "      <td>1.0</td>\n",
       "      <td>1024.865306</td>\n",
       "      <td>...</td>\n",
       "      <td>2.712245</td>\n",
       "      <td>80.0</td>\n",
       "      <td>0.793878</td>\n",
       "      <td>11.279592</td>\n",
       "      <td>2.799320</td>\n",
       "      <td>2.761224</td>\n",
       "      <td>7.008163</td>\n",
       "      <td>4.229252</td>\n",
       "      <td>2.187755</td>\n",
       "      <td>4.123129</td>\n",
       "    </tr>\n",
       "    <tr>\n",
       "      <th>std</th>\n",
       "      <td>9.135373</td>\n",
       "      <td>NaN</td>\n",
       "      <td>NaN</td>\n",
       "      <td>403.509100</td>\n",
       "      <td>NaN</td>\n",
       "      <td>8.106864</td>\n",
       "      <td>1.024165</td>\n",
       "      <td>NaN</td>\n",
       "      <td>0.0</td>\n",
       "      <td>602.024335</td>\n",
       "      <td>...</td>\n",
       "      <td>1.081209</td>\n",
       "      <td>0.0</td>\n",
       "      <td>0.852077</td>\n",
       "      <td>7.780782</td>\n",
       "      <td>1.289271</td>\n",
       "      <td>0.706476</td>\n",
       "      <td>6.126525</td>\n",
       "      <td>3.623137</td>\n",
       "      <td>3.222430</td>\n",
       "      <td>3.568136</td>\n",
       "    </tr>\n",
       "    <tr>\n",
       "      <th>min</th>\n",
       "      <td>18.000000</td>\n",
       "      <td>NaN</td>\n",
       "      <td>NaN</td>\n",
       "      <td>102.000000</td>\n",
       "      <td>NaN</td>\n",
       "      <td>1.000000</td>\n",
       "      <td>1.000000</td>\n",
       "      <td>NaN</td>\n",
       "      <td>1.0</td>\n",
       "      <td>1.000000</td>\n",
       "      <td>...</td>\n",
       "      <td>1.000000</td>\n",
       "      <td>80.0</td>\n",
       "      <td>0.000000</td>\n",
       "      <td>0.000000</td>\n",
       "      <td>0.000000</td>\n",
       "      <td>1.000000</td>\n",
       "      <td>0.000000</td>\n",
       "      <td>0.000000</td>\n",
       "      <td>0.000000</td>\n",
       "      <td>0.000000</td>\n",
       "    </tr>\n",
       "    <tr>\n",
       "      <th>25%</th>\n",
       "      <td>30.000000</td>\n",
       "      <td>NaN</td>\n",
       "      <td>NaN</td>\n",
       "      <td>465.000000</td>\n",
       "      <td>NaN</td>\n",
       "      <td>2.000000</td>\n",
       "      <td>2.000000</td>\n",
       "      <td>NaN</td>\n",
       "      <td>1.0</td>\n",
       "      <td>491.250000</td>\n",
       "      <td>...</td>\n",
       "      <td>2.000000</td>\n",
       "      <td>80.0</td>\n",
       "      <td>0.000000</td>\n",
       "      <td>6.000000</td>\n",
       "      <td>2.000000</td>\n",
       "      <td>2.000000</td>\n",
       "      <td>3.000000</td>\n",
       "      <td>2.000000</td>\n",
       "      <td>0.000000</td>\n",
       "      <td>2.000000</td>\n",
       "    </tr>\n",
       "    <tr>\n",
       "      <th>50%</th>\n",
       "      <td>36.000000</td>\n",
       "      <td>NaN</td>\n",
       "      <td>NaN</td>\n",
       "      <td>802.000000</td>\n",
       "      <td>NaN</td>\n",
       "      <td>7.000000</td>\n",
       "      <td>3.000000</td>\n",
       "      <td>NaN</td>\n",
       "      <td>1.0</td>\n",
       "      <td>1020.500000</td>\n",
       "      <td>...</td>\n",
       "      <td>3.000000</td>\n",
       "      <td>80.0</td>\n",
       "      <td>1.000000</td>\n",
       "      <td>10.000000</td>\n",
       "      <td>3.000000</td>\n",
       "      <td>3.000000</td>\n",
       "      <td>5.000000</td>\n",
       "      <td>3.000000</td>\n",
       "      <td>1.000000</td>\n",
       "      <td>3.000000</td>\n",
       "    </tr>\n",
       "    <tr>\n",
       "      <th>75%</th>\n",
       "      <td>43.000000</td>\n",
       "      <td>NaN</td>\n",
       "      <td>NaN</td>\n",
       "      <td>1157.000000</td>\n",
       "      <td>NaN</td>\n",
       "      <td>14.000000</td>\n",
       "      <td>4.000000</td>\n",
       "      <td>NaN</td>\n",
       "      <td>1.0</td>\n",
       "      <td>1555.750000</td>\n",
       "      <td>...</td>\n",
       "      <td>4.000000</td>\n",
       "      <td>80.0</td>\n",
       "      <td>1.000000</td>\n",
       "      <td>15.000000</td>\n",
       "      <td>3.000000</td>\n",
       "      <td>3.000000</td>\n",
       "      <td>9.000000</td>\n",
       "      <td>7.000000</td>\n",
       "      <td>3.000000</td>\n",
       "      <td>7.000000</td>\n",
       "    </tr>\n",
       "    <tr>\n",
       "      <th>max</th>\n",
       "      <td>60.000000</td>\n",
       "      <td>NaN</td>\n",
       "      <td>NaN</td>\n",
       "      <td>1499.000000</td>\n",
       "      <td>NaN</td>\n",
       "      <td>29.000000</td>\n",
       "      <td>5.000000</td>\n",
       "      <td>NaN</td>\n",
       "      <td>1.0</td>\n",
       "      <td>2068.000000</td>\n",
       "      <td>...</td>\n",
       "      <td>4.000000</td>\n",
       "      <td>80.0</td>\n",
       "      <td>3.000000</td>\n",
       "      <td>40.000000</td>\n",
       "      <td>6.000000</td>\n",
       "      <td>4.000000</td>\n",
       "      <td>40.000000</td>\n",
       "      <td>18.000000</td>\n",
       "      <td>15.000000</td>\n",
       "      <td>17.000000</td>\n",
       "    </tr>\n",
       "  </tbody>\n",
       "</table>\n",
       "<p>11 rows × 35 columns</p>\n",
       "</div>"
      ],
      "text/plain": [
       "                Age Attrition BusinessTravel    DailyRate  \\\n",
       "count   1470.000000      1470           1470  1470.000000   \n",
       "unique          NaN         2              3          NaN   \n",
       "top             NaN        No  Travel_Rarely          NaN   \n",
       "freq            NaN      1233           1043          NaN   \n",
       "mean      36.923810       NaN            NaN   802.485714   \n",
       "std        9.135373       NaN            NaN   403.509100   \n",
       "min       18.000000       NaN            NaN   102.000000   \n",
       "25%       30.000000       NaN            NaN   465.000000   \n",
       "50%       36.000000       NaN            NaN   802.000000   \n",
       "75%       43.000000       NaN            NaN  1157.000000   \n",
       "max       60.000000       NaN            NaN  1499.000000   \n",
       "\n",
       "                    Department  DistanceFromHome    Education EducationField  \\\n",
       "count                     1470       1470.000000  1470.000000           1470   \n",
       "unique                       3               NaN          NaN              6   \n",
       "top     Research & Development               NaN          NaN  Life Sciences   \n",
       "freq                       961               NaN          NaN            606   \n",
       "mean                       NaN          9.192517     2.912925            NaN   \n",
       "std                        NaN          8.106864     1.024165            NaN   \n",
       "min                        NaN          1.000000     1.000000            NaN   \n",
       "25%                        NaN          2.000000     2.000000            NaN   \n",
       "50%                        NaN          7.000000     3.000000            NaN   \n",
       "75%                        NaN         14.000000     4.000000            NaN   \n",
       "max                        NaN         29.000000     5.000000            NaN   \n",
       "\n",
       "        EmployeeCount  EmployeeNumber  ...  RelationshipSatisfaction  \\\n",
       "count          1470.0     1470.000000  ...               1470.000000   \n",
       "unique            NaN             NaN  ...                       NaN   \n",
       "top               NaN             NaN  ...                       NaN   \n",
       "freq              NaN             NaN  ...                       NaN   \n",
       "mean              1.0     1024.865306  ...                  2.712245   \n",
       "std               0.0      602.024335  ...                  1.081209   \n",
       "min               1.0        1.000000  ...                  1.000000   \n",
       "25%               1.0      491.250000  ...                  2.000000   \n",
       "50%               1.0     1020.500000  ...                  3.000000   \n",
       "75%               1.0     1555.750000  ...                  4.000000   \n",
       "max               1.0     2068.000000  ...                  4.000000   \n",
       "\n",
       "       StandardHours  StockOptionLevel  TotalWorkingYears  \\\n",
       "count         1470.0       1470.000000        1470.000000   \n",
       "unique           NaN               NaN                NaN   \n",
       "top              NaN               NaN                NaN   \n",
       "freq             NaN               NaN                NaN   \n",
       "mean            80.0          0.793878          11.279592   \n",
       "std              0.0          0.852077           7.780782   \n",
       "min             80.0          0.000000           0.000000   \n",
       "25%             80.0          0.000000           6.000000   \n",
       "50%             80.0          1.000000          10.000000   \n",
       "75%             80.0          1.000000          15.000000   \n",
       "max             80.0          3.000000          40.000000   \n",
       "\n",
       "        TrainingTimesLastYear WorkLifeBalance  YearsAtCompany  \\\n",
       "count             1470.000000     1470.000000     1470.000000   \n",
       "unique                    NaN             NaN             NaN   \n",
       "top                       NaN             NaN             NaN   \n",
       "freq                      NaN             NaN             NaN   \n",
       "mean                 2.799320        2.761224        7.008163   \n",
       "std                  1.289271        0.706476        6.126525   \n",
       "min                  0.000000        1.000000        0.000000   \n",
       "25%                  2.000000        2.000000        3.000000   \n",
       "50%                  3.000000        3.000000        5.000000   \n",
       "75%                  3.000000        3.000000        9.000000   \n",
       "max                  6.000000        4.000000       40.000000   \n",
       "\n",
       "       YearsInCurrentRole  YearsSinceLastPromotion  YearsWithCurrManager  \n",
       "count         1470.000000              1470.000000           1470.000000  \n",
       "unique                NaN                      NaN                   NaN  \n",
       "top                   NaN                      NaN                   NaN  \n",
       "freq                  NaN                      NaN                   NaN  \n",
       "mean             4.229252                 2.187755              4.123129  \n",
       "std              3.623137                 3.222430              3.568136  \n",
       "min              0.000000                 0.000000              0.000000  \n",
       "25%              2.000000                 0.000000              2.000000  \n",
       "50%              3.000000                 1.000000              3.000000  \n",
       "75%              7.000000                 3.000000              7.000000  \n",
       "max             18.000000                15.000000             17.000000  \n",
       "\n",
       "[11 rows x 35 columns]"
      ]
     },
     "execution_count": 7,
     "metadata": {},
     "output_type": "execute_result"
    }
   ],
   "source": [
    "df.describe(include = 'all')"
   ]
  },
  {
   "cell_type": "markdown",
   "metadata": {},
   "source": [
    "Percebemos que algumas colunas (features para nosso futuro modelo) não variam ou são informações irrelevantes, como o ID do funcionário. Logo, iremos removê-las."
   ]
  },
  {
   "cell_type": "code",
   "execution_count": 8,
   "metadata": {},
   "outputs": [],
   "source": [
    "remove = ['EmployeeCount', 'EmployeeNumber', 'Over18', 'StandardHours']\n",
    "df.drop(remove, inplace=True, axis=1)"
   ]
  },
  {
   "cell_type": "markdown",
   "metadata": {},
   "source": [
    "<a id='faltantes'></a>\n",
    "### Lidando com dados faltantes"
   ]
  },
  {
   "cell_type": "markdown",
   "metadata": {},
   "source": [
    "Na célula abaixo, verificamos se há valores faltantes. Como não há, não temos mais o que fazer nessa seção."
   ]
  },
  {
   "cell_type": "code",
   "execution_count": 9,
   "metadata": {},
   "outputs": [
    {
     "data": {
      "text/plain": [
       "False"
      ]
     },
     "execution_count": 9,
     "metadata": {},
     "output_type": "execute_result"
    }
   ],
   "source": [
    "df.isna().values.any()"
   ]
  },
  {
   "cell_type": "markdown",
   "metadata": {},
   "source": [
    "<a id='dependente'></a>\n",
    "### Reatribuindo valor a variável dependente"
   ]
  },
  {
   "cell_type": "markdown",
   "metadata": {},
   "source": [
    "Existem várias formas fáceis de codificar a transformação de uma váriavel binária. Abaixo está uma delas."
   ]
  },
  {
   "cell_type": "code",
   "execution_count": 10,
   "metadata": {},
   "outputs": [],
   "source": [
    "df['Attrition'] = df['Attrition'].apply(lambda x: 1 if x == 'Yes' else 0)"
   ]
  },
  {
   "cell_type": "code",
   "execution_count": 11,
   "metadata": {},
   "outputs": [],
   "source": [
    "cat_variables = []\n",
    "for i in df:\n",
    "    if df[i].dtypes == object:\n",
    "        cat_variables.append(i)\n",
    "        \n",
    "df_cat = pd.get_dummies(df[cat_variables], drop_first=True)"
   ]
  },
  {
   "cell_type": "code",
   "execution_count": 12,
   "metadata": {},
   "outputs": [
    {
     "data": {
      "text/plain": [
       "<AxesSubplot:>"
      ]
     },
     "execution_count": 12,
     "metadata": {},
     "output_type": "execute_result"
    },
    {
     "data": {
      "image/png": "[encoded data removed]",
      "text/plain": [
       "<Figure size 432x288 with 2 Axes>"
      ]
     },
     "metadata": {
      "needs_background": "light"
     },
     "output_type": "display_data"
    }
   ],
   "source": [
    "df_num = df.drop(cat_variables, axis=1)\n",
    "sns.heatmap(df_num.corr(), xticklabels=df_num.columns, yticklabels=df_num.columns)"
   ]
  },
  {
   "cell_type": "markdown",
   "metadata": {},
   "source": [
    "Analysis of correlation results (sample analysis)\n",
    "- Monthly income is highly correlated with Job level.\n",
    "- Job level is highly correlated with total working hours.\n",
    "- Monthly income is highly correlated with total working hours.\n",
    "- Age is also positively correlated with the Total working hours."
   ]
  },
  {
   "cell_type": "raw",
   "metadata": {},
   "source": [
    "FAZER ANALISE EXPLORATORIA"
   ]
  },
  {
   "cell_type": "code",
   "execution_count": 13,
   "metadata": {},
   "outputs": [
    {
     "data": {
      "text/html": [
       "<div>\n",
       "<style scoped>\n",
       "    .dataframe tbody tr th:only-of-type {\n",
       "        vertical-align: middle;\n",
       "    }\n",
       "\n",
       "    .dataframe tbody tr th {\n",
       "        vertical-align: top;\n",
       "    }\n",
       "\n",
       "    .dataframe thead th {\n",
       "        text-align: right;\n",
       "    }\n",
       "</style>\n",
       "<table border=\"1\" class=\"dataframe\">\n",
       "  <thead>\n",
       "    <tr style=\"text-align: right;\">\n",
       "      <th></th>\n",
       "      <th>Age</th>\n",
       "      <th>Attrition</th>\n",
       "      <th>DailyRate</th>\n",
       "      <th>DistanceFromHome</th>\n",
       "      <th>Education</th>\n",
       "      <th>EnvironmentSatisfaction</th>\n",
       "      <th>HourlyRate</th>\n",
       "      <th>JobInvolvement</th>\n",
       "      <th>JobLevel</th>\n",
       "      <th>JobSatisfaction</th>\n",
       "      <th>...</th>\n",
       "      <th>JobRole_Laboratory Technician</th>\n",
       "      <th>JobRole_Manager</th>\n",
       "      <th>JobRole_Manufacturing Director</th>\n",
       "      <th>JobRole_Research Director</th>\n",
       "      <th>JobRole_Research Scientist</th>\n",
       "      <th>JobRole_Sales Executive</th>\n",
       "      <th>JobRole_Sales Representative</th>\n",
       "      <th>MaritalStatus_Married</th>\n",
       "      <th>MaritalStatus_Single</th>\n",
       "      <th>OverTime_Yes</th>\n",
       "    </tr>\n",
       "  </thead>\n",
       "  <tbody>\n",
       "    <tr>\n",
       "      <th>0</th>\n",
       "      <td>41</td>\n",
       "      <td>1</td>\n",
       "      <td>1102</td>\n",
       "      <td>1</td>\n",
       "      <td>2</td>\n",
       "      <td>2</td>\n",
       "      <td>94</td>\n",
       "      <td>3</td>\n",
       "      <td>2</td>\n",
       "      <td>4</td>\n",
       "      <td>...</td>\n",
       "      <td>0</td>\n",
       "      <td>0</td>\n",
       "      <td>0</td>\n",
       "      <td>0</td>\n",
       "      <td>0</td>\n",
       "      <td>1</td>\n",
       "      <td>0</td>\n",
       "      <td>0</td>\n",
       "      <td>1</td>\n",
       "      <td>1</td>\n",
       "    </tr>\n",
       "    <tr>\n",
       "      <th>1</th>\n",
       "      <td>49</td>\n",
       "      <td>0</td>\n",
       "      <td>279</td>\n",
       "      <td>8</td>\n",
       "      <td>1</td>\n",
       "      <td>3</td>\n",
       "      <td>61</td>\n",
       "      <td>2</td>\n",
       "      <td>2</td>\n",
       "      <td>2</td>\n",
       "      <td>...</td>\n",
       "      <td>0</td>\n",
       "      <td>0</td>\n",
       "      <td>0</td>\n",
       "      <td>0</td>\n",
       "      <td>1</td>\n",
       "      <td>0</td>\n",
       "      <td>0</td>\n",
       "      <td>1</td>\n",
       "      <td>0</td>\n",
       "      <td>0</td>\n",
       "    </tr>\n",
       "    <tr>\n",
       "      <th>2</th>\n",
       "      <td>37</td>\n",
       "      <td>1</td>\n",
       "      <td>1373</td>\n",
       "      <td>2</td>\n",
       "      <td>2</td>\n",
       "      <td>4</td>\n",
       "      <td>92</td>\n",
       "      <td>2</td>\n",
       "      <td>1</td>\n",
       "      <td>3</td>\n",
       "      <td>...</td>\n",
       "      <td>1</td>\n",
       "      <td>0</td>\n",
       "      <td>0</td>\n",
       "      <td>0</td>\n",
       "      <td>0</td>\n",
       "      <td>0</td>\n",
       "      <td>0</td>\n",
       "      <td>0</td>\n",
       "      <td>1</td>\n",
       "      <td>1</td>\n",
       "    </tr>\n",
       "    <tr>\n",
       "      <th>3</th>\n",
       "      <td>33</td>\n",
       "      <td>0</td>\n",
       "      <td>1392</td>\n",
       "      <td>3</td>\n",
       "      <td>4</td>\n",
       "      <td>4</td>\n",
       "      <td>56</td>\n",
       "      <td>3</td>\n",
       "      <td>1</td>\n",
       "      <td>3</td>\n",
       "      <td>...</td>\n",
       "      <td>0</td>\n",
       "      <td>0</td>\n",
       "      <td>0</td>\n",
       "      <td>0</td>\n",
       "      <td>1</td>\n",
       "      <td>0</td>\n",
       "      <td>0</td>\n",
       "      <td>1</td>\n",
       "      <td>0</td>\n",
       "      <td>1</td>\n",
       "    </tr>\n",
       "    <tr>\n",
       "      <th>4</th>\n",
       "      <td>27</td>\n",
       "      <td>0</td>\n",
       "      <td>591</td>\n",
       "      <td>2</td>\n",
       "      <td>1</td>\n",
       "      <td>1</td>\n",
       "      <td>40</td>\n",
       "      <td>3</td>\n",
       "      <td>1</td>\n",
       "      <td>2</td>\n",
       "      <td>...</td>\n",
       "      <td>1</td>\n",
       "      <td>0</td>\n",
       "      <td>0</td>\n",
       "      <td>0</td>\n",
       "      <td>0</td>\n",
       "      <td>0</td>\n",
       "      <td>0</td>\n",
       "      <td>1</td>\n",
       "      <td>0</td>\n",
       "      <td>0</td>\n",
       "    </tr>\n",
       "    <tr>\n",
       "      <th>...</th>\n",
       "      <td>...</td>\n",
       "      <td>...</td>\n",
       "      <td>...</td>\n",
       "      <td>...</td>\n",
       "      <td>...</td>\n",
       "      <td>...</td>\n",
       "      <td>...</td>\n",
       "      <td>...</td>\n",
       "      <td>...</td>\n",
       "      <td>...</td>\n",
       "      <td>...</td>\n",
       "      <td>...</td>\n",
       "      <td>...</td>\n",
       "      <td>...</td>\n",
       "      <td>...</td>\n",
       "      <td>...</td>\n",
       "      <td>...</td>\n",
       "      <td>...</td>\n",
       "      <td>...</td>\n",
       "      <td>...</td>\n",
       "      <td>...</td>\n",
       "    </tr>\n",
       "    <tr>\n",
       "      <th>1465</th>\n",
       "      <td>36</td>\n",
       "      <td>0</td>\n",
       "      <td>884</td>\n",
       "      <td>23</td>\n",
       "      <td>2</td>\n",
       "      <td>3</td>\n",
       "      <td>41</td>\n",
       "      <td>4</td>\n",
       "      <td>2</td>\n",
       "      <td>4</td>\n",
       "      <td>...</td>\n",
       "      <td>1</td>\n",
       "      <td>0</td>\n",
       "      <td>0</td>\n",
       "      <td>0</td>\n",
       "      <td>0</td>\n",
       "      <td>0</td>\n",
       "      <td>0</td>\n",
       "      <td>1</td>\n",
       "      <td>0</td>\n",
       "      <td>0</td>\n",
       "    </tr>\n",
       "    <tr>\n",
       "      <th>1466</th>\n",
       "      <td>39</td>\n",
       "      <td>0</td>\n",
       "      <td>613</td>\n",
       "      <td>6</td>\n",
       "      <td>1</td>\n",
       "      <td>4</td>\n",
       "      <td>42</td>\n",
       "      <td>2</td>\n",
       "      <td>3</td>\n",
       "      <td>1</td>\n",
       "      <td>...</td>\n",
       "      <td>0</td>\n",
       "      <td>0</td>\n",
       "      <td>0</td>\n",
       "      <td>0</td>\n",
       "      <td>0</td>\n",
       "      <td>0</td>\n",
       "      <td>0</td>\n",
       "      <td>1</td>\n",
       "      <td>0</td>\n",
       "      <td>0</td>\n",
       "    </tr>\n",
       "    <tr>\n",
       "      <th>1467</th>\n",
       "      <td>27</td>\n",
       "      <td>0</td>\n",
       "      <td>155</td>\n",
       "      <td>4</td>\n",
       "      <td>3</td>\n",
       "      <td>2</td>\n",
       "      <td>87</td>\n",
       "      <td>4</td>\n",
       "      <td>2</td>\n",
       "      <td>2</td>\n",
       "      <td>...</td>\n",
       "      <td>0</td>\n",
       "      <td>0</td>\n",
       "      <td>1</td>\n",
       "      <td>0</td>\n",
       "      <td>0</td>\n",
       "      <td>0</td>\n",
       "      <td>0</td>\n",
       "      <td>1</td>\n",
       "      <td>0</td>\n",
       "      <td>1</td>\n",
       "    </tr>\n",
       "    <tr>\n",
       "      <th>1468</th>\n",
       "      <td>49</td>\n",
       "      <td>0</td>\n",
       "      <td>1023</td>\n",
       "      <td>2</td>\n",
       "      <td>3</td>\n",
       "      <td>4</td>\n",
       "      <td>63</td>\n",
       "      <td>2</td>\n",
       "      <td>2</td>\n",
       "      <td>2</td>\n",
       "      <td>...</td>\n",
       "      <td>0</td>\n",
       "      <td>0</td>\n",
       "      <td>0</td>\n",
       "      <td>0</td>\n",
       "      <td>0</td>\n",
       "      <td>1</td>\n",
       "      <td>0</td>\n",
       "      <td>1</td>\n",
       "      <td>0</td>\n",
       "      <td>0</td>\n",
       "    </tr>\n",
       "    <tr>\n",
       "      <th>1469</th>\n",
       "      <td>34</td>\n",
       "      <td>0</td>\n",
       "      <td>628</td>\n",
       "      <td>8</td>\n",
       "      <td>3</td>\n",
       "      <td>2</td>\n",
       "      <td>82</td>\n",
       "      <td>4</td>\n",
       "      <td>2</td>\n",
       "      <td>3</td>\n",
       "      <td>...</td>\n",
       "      <td>1</td>\n",
       "      <td>0</td>\n",
       "      <td>0</td>\n",
       "      <td>0</td>\n",
       "      <td>0</td>\n",
       "      <td>0</td>\n",
       "      <td>0</td>\n",
       "      <td>1</td>\n",
       "      <td>0</td>\n",
       "      <td>0</td>\n",
       "    </tr>\n",
       "  </tbody>\n",
       "</table>\n",
       "<p>1470 rows × 45 columns</p>\n",
       "</div>"
      ],
      "text/plain": [
       "      Age  Attrition  DailyRate  DistanceFromHome  Education  \\\n",
       "0      41          1       1102                 1          2   \n",
       "1      49          0        279                 8          1   \n",
       "2      37          1       1373                 2          2   \n",
       "3      33          0       1392                 3          4   \n",
       "4      27          0        591                 2          1   \n",
       "...   ...        ...        ...               ...        ...   \n",
       "1465   36          0        884                23          2   \n",
       "1466   39          0        613                 6          1   \n",
       "1467   27          0        155                 4          3   \n",
       "1468   49          0       1023                 2          3   \n",
       "1469   34          0        628                 8          3   \n",
       "\n",
       "      EnvironmentSatisfaction  HourlyRate  JobInvolvement  JobLevel  \\\n",
       "0                           2          94               3         2   \n",
       "1                           3          61               2         2   \n",
       "2                           4          92               2         1   \n",
       "3                           4          56               3         1   \n",
       "4                           1          40               3         1   \n",
       "...                       ...         ...             ...       ...   \n",
       "1465                        3          41               4         2   \n",
       "1466                        4          42               2         3   \n",
       "1467                        2          87               4         2   \n",
       "1468                        4          63               2         2   \n",
       "1469                        2          82               4         2   \n",
       "\n",
       "      JobSatisfaction  ...  JobRole_Laboratory Technician  JobRole_Manager  \\\n",
       "0                   4  ...                              0                0   \n",
       "1                   2  ...                              0                0   \n",
       "2                   3  ...                              1                0   \n",
       "3                   3  ...                              0                0   \n",
       "4                   2  ...                              1                0   \n",
       "...               ...  ...                            ...              ...   \n",
       "1465                4  ...                              1                0   \n",
       "1466                1  ...                              0                0   \n",
       "1467                2  ...                              0                0   \n",
       "1468                2  ...                              0                0   \n",
       "1469                3  ...                              1                0   \n",
       "\n",
       "      JobRole_Manufacturing Director  JobRole_Research Director  \\\n",
       "0                                  0                          0   \n",
       "1                                  0                          0   \n",
       "2                                  0                          0   \n",
       "3                                  0                          0   \n",
       "4                                  0                          0   \n",
       "...                              ...                        ...   \n",
       "1465                               0                          0   \n",
       "1466                               0                          0   \n",
       "1467                               1                          0   \n",
       "1468                               0                          0   \n",
       "1469                               0                          0   \n",
       "\n",
       "      JobRole_Research Scientist  JobRole_Sales Executive  \\\n",
       "0                              0                        1   \n",
       "1                              1                        0   \n",
       "2                              0                        0   \n",
       "3                              1                        0   \n",
       "4                              0                        0   \n",
       "...                          ...                      ...   \n",
       "1465                           0                        0   \n",
       "1466                           0                        0   \n",
       "1467                           0                        0   \n",
       "1468                           0                        1   \n",
       "1469                           0                        0   \n",
       "\n",
       "      JobRole_Sales Representative  MaritalStatus_Married  \\\n",
       "0                                0                      0   \n",
       "1                                0                      1   \n",
       "2                                0                      0   \n",
       "3                                0                      1   \n",
       "4                                0                      1   \n",
       "...                            ...                    ...   \n",
       "1465                             0                      1   \n",
       "1466                             0                      1   \n",
       "1467                             0                      1   \n",
       "1468                             0                      1   \n",
       "1469                             0                      1   \n",
       "\n",
       "      MaritalStatus_Single  OverTime_Yes  \n",
       "0                        1             1  \n",
       "1                        0             0  \n",
       "2                        1             1  \n",
       "3                        0             1  \n",
       "4                        0             0  \n",
       "...                    ...           ...  \n",
       "1465                     0             0  \n",
       "1466                     0             0  \n",
       "1467                     0             1  \n",
       "1468                     0             0  \n",
       "1469                     0             0  \n",
       "\n",
       "[1470 rows x 45 columns]"
      ]
     },
     "execution_count": 13,
     "metadata": {},
     "output_type": "execute_result"
    }
   ],
   "source": [
    "df_prepared = pd.concat([df_num, df_cat], axis=1)\n",
    "df_prepared"
   ]
  },
  {
   "cell_type": "markdown",
   "metadata": {},
   "source": [
    "<a id='desbalanceamento'></a>\n",
    "### Desbalanceamento de dados"
   ]
  },
  {
   "cell_type": "code",
   "execution_count": 14,
   "metadata": {},
   "outputs": [
    {
     "data": {
      "text/plain": [
       "0    1233\n",
       "1     237\n",
       "Name: Attrition, dtype: int64"
      ]
     },
     "execution_count": 14,
     "metadata": {},
     "output_type": "execute_result"
    }
   ],
   "source": [
    "df_prepared['Attrition'].value_counts()"
   ]
  },
  {
   "cell_type": "code",
   "execution_count": 15,
   "metadata": {},
   "outputs": [
    {
     "data": {
      "image/png": "[encoded data removed]",
      "text/plain": [
       "<Figure size 216x216 with 1 Axes>"
      ]
     },
     "metadata": {
      "needs_background": "light"
     },
     "output_type": "display_data"
    }
   ],
   "source": [
    "plotAttritionCount(df_prepared['Attrition'].value_counts(), 'Attrition Count')"
   ]
  },
  {
   "cell_type": "markdown",
   "metadata": {},
   "source": [
    "Como pode ser observado acima os dados estão desbalanceados. Assim, um modelo que chuta não, aplicado nesse dataset, seria muito bom, com uma acurácia de aproximadamente 84%. "
   ]
  },
  {
   "cell_type": "markdown",
   "metadata": {},
   "source": [
    "## Método 1:"
   ]
  },
  {
   "cell_type": "code",
   "execution_count": 16,
   "metadata": {},
   "outputs": [
    {
     "data": {
      "image/png": "[encoded data removed]",
      "text/plain": [
       "<Figure size 216x216 with 1 Axes>"
      ]
     },
     "metadata": {
      "needs_background": "light"
     },
     "output_type": "display_data"
    }
   ],
   "source": [
    "no_lines = df_prepared[df_prepared[\"Attrition\"] == 0]\n",
    "yes_lines = df_prepared[df_prepared[\"Attrition\"] == 1]\n",
    "no_random = no_lines.sample(frac = len(yes_lines)/len(no_lines), random_state=RANDOM_SEED)\n",
    "\n",
    "df_prepared_bias_free = yes_lines.append(no_random)\n",
    "\n",
    "plotAttritionCount(df_prepared_bias_free['Attrition'].value_counts(), 'Bias removed by cutting data')"
   ]
  },
  {
   "cell_type": "markdown",
   "metadata": {},
   "source": [
    "### Método 1.1: Decision Tree Classifier"
   ]
  },
  {
   "cell_type": "code",
   "execution_count": 17,
   "metadata": {},
   "outputs": [],
   "source": [
    "target = df_prepared_bias_free['Attrition']\n",
    "df_final = df_prepared_bias_free.drop('Attrition', axis=1)\n",
    "\n",
    "X_train, X_test, y_train, y_test = train_test_split(df_final, target, test_size= 0.20, random_state=RANDOM_SEED)"
   ]
  },
  {
   "cell_type": "code",
   "execution_count": 18,
   "metadata": {},
   "outputs": [
    {
     "name": "stdout",
     "output_type": "stream",
     "text": [
      "Accuracy score do modelo:\n",
      "100.00%\n"
     ]
    }
   ],
   "source": [
    "tree_clf = DecisionTreeClassifier(random_state=RANDOM_SEED)\n",
    "\n",
    "tree_clf.fit(X_train, y_train)\n",
    "\n",
    "y_pred_train = tree_clf.predict(X_train)\n",
    "print('Accuracy score do modelo:')\n",
    "prettyPercentagePrint(accuracy_score(y_train, y_pred_train))"
   ]
  },
  {
   "cell_type": "markdown",
   "metadata": {},
   "source": [
    "Opa... Parece que temos um classificador perfeito!!\n",
    "\n",
    "Não é o caso, um dos erros mais comuns de se encontrar em projetos principiantes de machine learning é prever a acurácia do modelo sobre o próprio conjunto de treinamento. Estamos caindo em um caso de overfitting."
   ]
  },
  {
   "cell_type": "code",
   "execution_count": 19,
   "metadata": {},
   "outputs": [
    {
     "name": "stdout",
     "output_type": "stream",
     "text": [
      "Accuracy Score no set de treinamento, usando cross-validation:\n",
      "61.74%\n"
     ]
    }
   ],
   "source": [
    "y_pred_train_dt = cross_val_predict(tree_clf, X_train, y_train, cv=3, n_jobs=-1)\n",
    "print('Accuracy Score no set de treinamento, usando cross-validation:')\n",
    "prettyPercentagePrint(accuracy_score(y_train, y_pred_train_dt))"
   ]
  },
  {
   "cell_type": "code",
   "execution_count": 20,
   "metadata": {},
   "outputs": [
    {
     "name": "stdout",
     "output_type": "stream",
     "text": [
      "Cross Validation Accuracy Scores:\n",
      "59.84%\n",
      "62.70%\n",
      "62.70%\n"
     ]
    }
   ],
   "source": [
    "scores = cross_val_score(tree_clf, X_train, y_train, cv=3, scoring=\"accuracy\", n_jobs=-1)\n",
    "print('Cross Validation Accuracy Scores:')\n",
    "for i in scores:\n",
    "    prettyPercentagePrint(i)"
   ]
  },
  {
   "cell_type": "code",
   "execution_count": 21,
   "metadata": {},
   "outputs": [
    {
     "name": "stdout",
     "output_type": "stream",
     "text": [
      "Accuracy no set de teste:\n",
      "64.21%\n"
     ]
    }
   ],
   "source": [
    "y_test_pred = tree_clf.predict(X_test)\n",
    "print('Accuracy no set de teste:')\n",
    "prettyPercentagePrint(accuracy_score(y_test, y_test_pred))"
   ]
  },
  {
   "cell_type": "markdown",
   "metadata": {},
   "source": [
    "### Método 1.2: Random Forest Classifier"
   ]
  },
  {
   "cell_type": "code",
   "execution_count": 22,
   "metadata": {},
   "outputs": [
    {
     "name": "stdout",
     "output_type": "stream",
     "text": [
      "Accuracy score com overfitting:\n",
      "100.00%\n",
      "Accuracy Score no set de treinamento, usando cross-validation:\n",
      "70.98%\n",
      "Cross Validation Accuracy Scores:\n",
      "67.72%\n",
      "73.81%\n",
      "71.43%\n"
     ]
    }
   ],
   "source": [
    "rf_clf = RandomForestClassifier(random_state=RANDOM_SEED)\n",
    "\n",
    "rf_clf.fit(X_train, y_train)\n",
    "\n",
    "# caso incorreto\n",
    "y_pred_train = rf_clf.predict(X_train)\n",
    "print('Accuracy score com overfitting:')\n",
    "prettyPercentagePrint(accuracy_score(y_train, y_pred_train))\n",
    "\n",
    "# caso adequado\n",
    "y_pred_train_rf = cross_val_predict(rf_clf, X_train, y_train, cv=3, n_jobs=-1)\n",
    "print('Accuracy Score no set de treinamento, usando cross-validation:')\n",
    "prettyPercentagePrint(accuracy_score(y_train, y_pred_train_rf))\n",
    "\n",
    "scores = cross_val_score(rf_clf, X_train, y_train, cv=3, scoring=\"accuracy\", n_jobs=-1)\n",
    "print('Cross Validation Accuracy Scores:')\n",
    "for i in scores:\n",
    "    prettyPercentagePrint(i)"
   ]
  },
  {
   "cell_type": "code",
   "execution_count": 23,
   "metadata": {},
   "outputs": [
    {
     "name": "stdout",
     "output_type": "stream",
     "text": [
      "Accuracy no set de teste:\n",
      "69.47%\n"
     ]
    }
   ],
   "source": [
    "y_test_pred_rf = rf_clf.predict(X_test)\n",
    "print('Accuracy no set de teste:')\n",
    "prettyPercentagePrint(accuracy_score(y_test, y_test_pred_rf))"
   ]
  },
  {
   "cell_type": "markdown",
   "metadata": {},
   "source": [
    "## Método 2:"
   ]
  },
  {
   "cell_type": "code",
   "execution_count": 24,
   "metadata": {},
   "outputs": [],
   "source": [
    "target = df_prepared['Attrition']\n",
    "df_final = df_prepared.drop('Attrition', axis=1)\n",
    "\n",
    "oversampler = SMOTE(random_state=RANDOM_SEED)\n",
    "\n",
    "_train, _target = oversampler.fit_sample(df_final, target)"
   ]
  },
  {
   "cell_type": "code",
   "execution_count": 25,
   "metadata": {},
   "outputs": [
    {
     "data": {
      "image/png": "[encoded data removed]",
      "text/plain": [
       "<Figure size 216x216 with 1 Axes>"
      ]
     },
     "metadata": {
      "needs_background": "light"
     },
     "output_type": "display_data"
    }
   ],
   "source": [
    "plotAttritionCount(_target.value_counts(), 'Bias removed by generating data')"
   ]
  },
  {
   "cell_type": "code",
   "execution_count": 26,
   "metadata": {},
   "outputs": [],
   "source": [
    "X_train, X_test, y_train, y_test = train_test_split(_train, _target, test_size= 0.20, random_state=RANDOM_SEED)"
   ]
  },
  {
   "cell_type": "markdown",
   "metadata": {},
   "source": [
    "### Método 2.1: Decision Tree Classifier"
   ]
  },
  {
   "cell_type": "code",
   "execution_count": 27,
   "metadata": {},
   "outputs": [
    {
     "data": {
      "text/plain": [
       "DecisionTreeClassifier(random_state=42)"
      ]
     },
     "execution_count": 27,
     "metadata": {},
     "output_type": "execute_result"
    }
   ],
   "source": [
    "tree_clf = DecisionTreeClassifier(random_state=RANDOM_SEED)\n",
    "\n",
    "tree_clf.fit(X_train, y_train)"
   ]
  },
  {
   "cell_type": "code",
   "execution_count": 28,
   "metadata": {},
   "outputs": [],
   "source": [
    "# from sklearn.tree import export_graphviz\n",
    "# from subprocess import check_call\n",
    "# from IPython.display import Image  \n",
    "# import pydotplus\n",
    "\n",
    "# export_graphviz(tree_clf, out_file='attrition_tree.dot', \n",
    "#                 feature_names=df_final.columns,\n",
    "#                 class_names=['No', 'Yes'])\n",
    "\n",
    "# check_call(['dot','-Tpng','attrition_tree.dot','-o','tree1.png'])\n",
    "# img = Image.open(\"tree1.png\")\n",
    "# draw = ImageDraw.Draw(img)\n",
    "# graph = pydotplus.graph_from_dot_data(dot_data)\n",
    "# Image(graph.create_png())"
   ]
  },
  {
   "cell_type": "code",
   "execution_count": 29,
   "metadata": {},
   "outputs": [
    {
     "name": "stdout",
     "output_type": "stream",
     "text": [
      "Accuracy score com overfitting:\n",
      "100.00%\n",
      "Accuracy Score no set de treinamento, usando cross-validation:\n",
      "80.17%\n",
      "Cross Validation Accuracy Scores:\n",
      "80.24%\n",
      "81.13%\n",
      "79.15%\n"
     ]
    }
   ],
   "source": [
    "y_pred_train = tree_clf.predict(X_train)\n",
    "print('Accuracy score com overfitting:')\n",
    "prettyPercentagePrint(accuracy_score(y_train, y_pred_train))\n",
    "\n",
    "y_pred_train = cross_val_predict(tree_clf, X_train, y_train, cv=3, n_jobs=-1)\n",
    "print('Accuracy Score no set de treinamento, usando cross-validation:')\n",
    "prettyPercentagePrint(accuracy_score(y_train, y_pred_train))\n",
    "\n",
    "scores = cross_val_score(tree_clf, X_train, y_train, cv=3, scoring=\"accuracy\", n_jobs=-1)\n",
    "print('Cross Validation Accuracy Scores:')\n",
    "for i in scores:\n",
    "    prettyPercentagePrint(i)"
   ]
  },
  {
   "cell_type": "code",
   "execution_count": 30,
   "metadata": {},
   "outputs": [
    {
     "name": "stdout",
     "output_type": "stream",
     "text": [
      "Accuracy no set de teste:\n",
      "84.01%\n"
     ]
    }
   ],
   "source": [
    "y_test_pred = tree_clf.predict(X_test)\n",
    "print('Accuracy no set de teste:')\n",
    "prettyPercentagePrint(accuracy_score(y_test, y_test_pred))"
   ]
  },
  {
   "cell_type": "markdown",
   "metadata": {},
   "source": [
    "### Método 1.2: Random Forest Classifier"
   ]
  },
  {
   "cell_type": "code",
   "execution_count": 31,
   "metadata": {},
   "outputs": [
    {
     "name": "stdout",
     "output_type": "stream",
     "text": [
      "Accuracy score com overfitting:\n",
      "100.00%\n",
      "Accuracy Score no set de treinamento, usando cross-validation:\n",
      "90.67%\n",
      "Cross Validation Accuracy Scores:\n",
      "93.16%\n",
      "90.41%\n",
      "88.43%\n"
     ]
    }
   ],
   "source": [
    "rf_clf = RandomForestClassifier(random_state=RANDOM_SEED)\n",
    "\n",
    "rf_clf.fit(X_train, y_train)\n",
    "\n",
    "# caso incorreto\n",
    "y_pred_train = rf_clf.predict(X_train)\n",
    "print('Accuracy score com overfitting:')\n",
    "prettyPercentagePrint(accuracy_score(y_train, y_pred_train))\n",
    "\n",
    "# caso adequado\n",
    "y_pred_train_rf = cross_val_predict(rf_clf, X_train, y_train, cv=3, n_jobs=-1)\n",
    "print('Accuracy Score no set de treinamento, usando cross-validation:')\n",
    "prettyPercentagePrint(accuracy_score(y_train, y_pred_train_rf))\n",
    "\n",
    "scores = cross_val_score(rf_clf, X_train, y_train, cv=3, scoring=\"accuracy\", n_jobs=-1)\n",
    "print('Cross Validation Accuracy Scores:')\n",
    "for i in scores:\n",
    "    prettyPercentagePrint(i)"
   ]
  },
  {
   "cell_type": "code",
   "execution_count": 32,
   "metadata": {},
   "outputs": [
    {
     "name": "stdout",
     "output_type": "stream",
     "text": [
      "Accuracy no set de teste:\n",
      "91.90%\n"
     ]
    }
   ],
   "source": [
    "y_test_pred_rf = rf_clf.predict(X_test)\n",
    "print('Accuracy no set de teste:')\n",
    "prettyPercentagePrint(accuracy_score(y_test, y_test_pred_rf))"
   ]
  }
 ],
 "metadata": {
  "kernelspec": {
   "display_name": "Python 3",
   "language": "python",
   "name": "python3"
  },
  "language_info": {
   "codemirror_mode": {
    "name": "ipython",
    "version": 3
   },
   "file_extension": ".py",
   "mimetype": "text/x-python",
   "name": "python",
   "nbconvert_exporter": "python",
   "pygments_lexer": "ipython3",
   "version": "3.8.4"
  }
 },
 "nbformat": 4,
 "nbformat_minor": 4
}
